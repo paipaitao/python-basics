{
  "cells": [
    {
      "cell_type": "code",
      "execution_count": 1,
      "metadata": {
        "colab": {
          "base_uri": "https://localhost:8080/"
        },
        "id": "q0EpJazHi9fu",
        "outputId": "0df69143-5ae7-4cf1-9473-730b0840a055"
      },
      "outputs": [
        {
          "name": "stdout",
          "output_type": "stream",
          "text": [
            "Python 3.9.13\n"
          ]
        }
      ],
      "source": [
        "!python --version\n"
      ]
    },
    {
      "cell_type": "markdown",
      "metadata": {
        "id": "YIJxt0sRjCSx"
      },
      "source": []
    },
    {
      "cell_type": "markdown",
      "metadata": {
        "id": "QPp1Z25VjSzt"
      },
      "source": [
        "# Python"
      ]
    },
    {
      "attachments": {},
      "cell_type": "markdown",
      "metadata": {
        "id": "sbqJUo8MjoI5"
      },
      "source": [
        "## Variables "
      ]
    },
    {
      "attachments": {},
      "cell_type": "markdown",
      "metadata": {
        "id": "_GPM4GOCjti_"
      },
      "source": [
        "Impresiones en pantalla"
      ]
    },
    {
      "cell_type": "code",
      "execution_count": null,
      "metadata": {
        "colab": {
          "base_uri": "https://localhost:8080/"
        },
        "id": "q4Wk5BldjlVl",
        "outputId": "e09001df-f9a4-478d-8f98-c562167ec73d"
      },
      "outputs": [
        {
          "name": "stdout",
          "output_type": "stream",
          "text": [
            "Hello world!!\n"
          ]
        }
      ],
      "source": [
        "print(\"Hello world!!\") \n"
      ]
    },
    {
      "attachments": {},
      "cell_type": "markdown",
      "metadata": {
        "id": "kn99riutk1tp"
      },
      "source": [
        "Comentarios"
      ]
    },
    {
      "cell_type": "code",
      "execution_count": null,
      "metadata": {
        "colab": {
          "base_uri": "https://localhost:8080/"
        },
        "id": "Frj7zKLSkobw",
        "outputId": "b1113878-4155-4096-ad57-44efa04e507d"
      },
      "outputs": [
        {
          "name": "stdout",
          "output_type": "stream",
          "text": [
            "True\n"
          ]
        }
      ],
      "source": [
        "# usando # la línea es un comentario\n",
        "# no es suficiente para varias líneas\n",
        "\n",
        "\"\"\"\n",
        "  Se pueden escribir varias líneas\n",
        "  usando 3 \"\n",
        "  también se usa para documentación\n",
        "\"\"\"\n",
        "\n",
        "'''\n",
        "  Se pueden escribir varias líneas\n",
        "  usando 3 '\n",
        "  también se usa para documentación\n",
        "'''\n",
        "\n",
        "print(\"\" == '')"
      ]
    },
    {
      "cell_type": "code",
      "execution_count": null,
      "metadata": {
        "id": "BdaiXZDYlfWH"
      },
      "outputs": [],
      "source": [
        "# Números\n",
        "d = 10 \n",
        "t = 3.5"
      ]
    },
    {
      "cell_type": "code",
      "execution_count": null,
      "metadata": {
        "id": "vGV1aiPal_DD"
      },
      "outputs": [],
      "source": [
        "# Strings o cadenas de texto\n",
        "h = 'hola'\n",
        "m = 'mundo'"
      ]
    },
    {
      "cell_type": "code",
      "execution_count": null,
      "metadata": {
        "id": "HMi0V5ORmB2r"
      },
      "outputs": [],
      "source": [
        "# Booleanos\n",
        "v = True\n",
        "f = False"
      ]
    },
    {
      "cell_type": "code",
      "execution_count": 5,
      "metadata": {
        "colab": {
          "base_uri": "https://localhost:8080/"
        },
        "id": "IqpL_o6LmEm5",
        "outputId": "555cf5a2-73ee-4453-c133-efc00dcfe94b"
      },
      "outputs": [],
      "source": [
        "y = 3\n",
        "x = 'Juan'\n"
      ]
    },
    {
      "cell_type": "code",
      "execution_count": 6,
      "metadata": {},
      "outputs": [
        {
          "name": "stdout",
          "output_type": "stream",
          "text": [
            "Esto es un string formateado 3\n"
          ]
        }
      ],
      "source": [
        "print(f'Esto es un string formateado {y}')"
      ]
    },
    {
      "cell_type": "code",
      "execution_count": null,
      "metadata": {},
      "outputs": [
        {
          "name": "stdout",
          "output_type": "stream",
          "text": [
            "Juan\n"
          ]
        }
      ],
      "source": [
        "print(x)"
      ]
    },
    {
      "cell_type": "code",
      "execution_count": null,
      "metadata": {},
      "outputs": [
        {
          "name": "stdout",
          "output_type": "stream",
          "text": [
            "13.5\n"
          ]
        },
        {
          "data": {
            "text/plain": [
              "(3.5, 'hola')"
            ]
          },
          "metadata": {},
          "output_type": "display_data"
        }
      ],
      "source": [
        "print(d + t)\n",
        "# print(t + h)\n",
        "t, h # la última línea se imprime por defecto"
      ]
    },
    {
      "cell_type": "markdown",
      "metadata": {
        "id": "_bjKtLFGmlol"
      },
      "source": [
        "Obtener el tipo de una variable"
      ]
    },
    {
      "cell_type": "code",
      "execution_count": null,
      "metadata": {
        "colab": {
          "base_uri": "https://localhost:8080/"
        },
        "id": "ZZC2wb5wmVmW",
        "outputId": "2d0d59fb-8a13-4abc-c00b-2c355d2e81d9"
      },
      "outputs": [
        {
          "data": {
            "text/plain": [
              "(int, float, str, str, bool, bool)"
            ]
          },
          "metadata": {},
          "output_type": "display_data"
        }
      ],
      "source": [
        "type(d), type(t), type(h), type(m), type(v), type(f) # \n"
      ]
    },
    {
      "cell_type": "markdown",
      "metadata": {
        "id": "L-2KixpInYy1"
      },
      "source": [
        "Nombres validos de variables"
      ]
    },
    {
      "cell_type": "code",
      "execution_count": null,
      "metadata": {
        "id": "Gz_rNAupmt1T"
      },
      "outputs": [],
      "source": [
        "minombre = 'Juan'\n",
        "mi_nombre = 'Juan'\n",
        "miNombre = 'Juan'\n",
        "MINOMBRE = 'Juan'\n",
        "MiNombre2 = 'Juan'"
      ]
    },
    {
      "cell_type": "markdown",
      "metadata": {
        "id": "lN60ErszngSG"
      },
      "source": [
        "Nombres inválidos\n",
        "\n",
        "```\n",
        "2minombre = 'Juan'\n",
        "mi-nombre = 'Juan'\n",
        "mi nombre = 'Juan'\n",
        "```"
      ]
    },
    {
      "attachments": {},
      "cell_type": "markdown",
      "metadata": {
        "id": "KdBjAnYEnjOO"
      },
      "source": [
        "Sintaxis en variables con múltiples palabras"
      ]
    },
    {
      "cell_type": "code",
      "execution_count": null,
      "metadata": {
        "id": "lft_w28OnVwk"
      },
      "outputs": [],
      "source": [
        "miVariableEsUnNombre = 'Juan'   # Camel Case\n",
        "MiVariableEsUnNombre = 'Juan'   # Pascal Case o Upper Camel Case\n",
        "mi_variable_es_un_nombre = 'Juan' # Snake Case\n",
        "v8wb4390_n__we9ruavnwe9nr = \"hola\" # Random"
      ]
    },
    {
      "attachments": {},
      "cell_type": "markdown",
      "metadata": {
        "id": "HBWCxZpqoKkN"
      },
      "source": [
        "Asignaciones múltiples de variables"
      ]
    },
    {
      "cell_type": "code",
      "execution_count": null,
      "metadata": {
        "colab": {
          "base_uri": "https://localhost:8080/"
        },
        "id": "QmVFR5ZMoEpB",
        "outputId": "6499e912-781c-43c9-bfc8-8144fbc0b3b3"
      },
      "outputs": [
        {
          "name": "stdout",
          "output_type": "stream",
          "text": [
            "piña papaya pera\n"
          ]
        }
      ],
      "source": [
        "pi, pa, pe = 'piña', 'papaya', 'pera'\n",
        "print(pi, pa, pe)"
      ]
    },
    {
      "attachments": {},
      "cell_type": "markdown",
      "metadata": {
        "id": "BfBlvmcdoWRw"
      },
      "source": [
        "Asignación de un valor a múltiples variables"
      ]
    },
    {
      "cell_type": "code",
      "execution_count": null,
      "metadata": {
        "colab": {
          "base_uri": "https://localhost:8080/"
        },
        "id": "eqRQ0JlJoT18",
        "outputId": "5b944d70-ce5b-4af3-f1c1-012bc0b8c220"
      },
      "outputs": [
        {
          "name": "stdout",
          "output_type": "stream",
          "text": [
            "piña piña piña\n"
          ]
        }
      ],
      "source": [
        "pi = ñ = a = 'piña'\n",
        "print(pi, ñ, a)"
      ]
    },
    {
      "attachments": {},
      "cell_type": "markdown",
      "metadata": {
        "id": "dJkmI8nxkCvy"
      },
      "source": [
        "Indentación"
      ]
    },
    {
      "cell_type": "code",
      "execution_count": 7,
      "metadata": {
        "colab": {
          "base_uri": "https://localhost:8080/"
        },
        "id": "AzA4y8IBkEYg",
        "outputId": "80cdca04-e4df-40a2-9d11-58d12ff9312d"
      },
      "outputs": [
        {
          "ename": "IndentationError",
          "evalue": "unexpected indent (636424589.py, line 8)",
          "output_type": "error",
          "traceback": [
            "\u001b[1;36m  Cell \u001b[1;32mIn [7], line 8\u001b[1;36m\u001b[0m\n\u001b[1;33m    print('error')\u001b[0m\n\u001b[1;37m    ^\u001b[0m\n\u001b[1;31mIndentationError\u001b[0m\u001b[1;31m:\u001b[0m unexpected indent\n"
          ]
        }
      ],
      "source": [
        "# lineas de ejecución pertenecientes a una condición\n",
        "if 8 > 9:\n",
        "  \n",
        "  print(\"8 es mayor que 9\")\n",
        "  print(\"hola\")\n",
        "else:\n",
        "  print(\"8 es menor que 9\")\n",
        "   print('error')"
      ]
    },
    {
      "cell_type": "markdown",
      "metadata": {
        "id": "1fr0C3i3knPK"
      },
      "source": [
        "Indentación en un archivo .js\n",
        "```\n",
        "if (8 > 7) {\n",
        "    console.log('8 es mayor que 7');\n",
        "    console.log('hola');\n",
        "}\n",
        "```"
      ]
    },
    {
      "cell_type": "markdown",
      "metadata": {
        "id": "zYPctbYSqou2"
      },
      "source": [
        "Variables Gobales"
      ]
    },
    {
      "cell_type": "code",
      "execution_count": 34,
      "metadata": {
        "colab": {
          "base_uri": "https://localhost:8080/"
        },
        "id": "QuivCI26p5mI",
        "outputId": "68af28a8-40ca-4d09-8f58-e7357ea5d78e"
      },
      "outputs": [
        {
          "name": "stdout",
          "output_type": "stream",
          "text": [
            "estamos de noche\n",
            "estamos de día\n"
          ]
        }
      ],
      "source": [
        "x = 'día'\n",
        "\n",
        "def func():\n",
        "  x = 'noche'\n",
        "  print(f'estamos de {x}')\n",
        "\n",
        "func()\n",
        "\n",
        "print(f'estamos de {x}')"
      ]
    },
    {
      "cell_type": "code",
      "execution_count": 35,
      "metadata": {
        "colab": {
          "base_uri": "https://localhost:8080/"
        },
        "id": "zmKUK1FmrKyq",
        "outputId": "0375e5d3-6be8-4d5a-da52-0769c456078b"
      },
      "outputs": [
        {
          "name": "stdout",
          "output_type": "stream",
          "text": [
            "estamos de noche\n",
            "estamos de noche\n"
          ]
        }
      ],
      "source": [
        "x = 'día'\n",
        "\n",
        "def func():\n",
        "  global x\n",
        "  x = 'noche'\n",
        "  print(f'estamos de {x}')\n",
        "\n",
        "func()\n",
        "\n",
        "print(f'estamos de {x}')"
      ]
    },
    {
      "attachments": {},
      "cell_type": "markdown",
      "metadata": {
        "id": "g68mQqY2raBj"
      },
      "source": [
        "## Tipos básicos de datos\n",
        "\n",
        "```\n",
        "Text Type:\tstr\n",
        "Numeric Types:\tint, float, complex\n",
        "Boolean Type:\tbool\n",
        "```"
      ]
    },
    {
      "cell_type": "code",
      "execution_count": 9,
      "metadata": {
        "id": "kGk-xXucrcJU"
      },
      "outputs": [],
      "source": [
        "x = \"Hola Mundo!!\"  # str\n",
        "x = 20  # int\n",
        "x = 20.5  # float\n",
        "x = 0 + 1j  # complex\n",
        "x = True  # bool"
      ]
    },
    {
      "cell_type": "code",
      "execution_count": 37,
      "metadata": {
        "colab": {
          "base_uri": "https://localhost:8080/"
        },
        "id": "MZGQzJonsG7D",
        "outputId": "19408858-0011-4d68-cf6b-ad386a07630b"
      },
      "outputs": [
        {
          "name": "stdout",
          "output_type": "stream",
          "text": [
            "(9+8j) <class 'complex'>\n"
          ]
        }
      ],
      "source": [
        "print(9+8j, type(9+8j))"
      ]
    },
    {
      "attachments": {},
      "cell_type": "markdown",
      "metadata": {},
      "source": [
        "Asignación de variables"
      ]
    },
    {
      "cell_type": "code",
      "execution_count": 40,
      "metadata": {
        "id": "v3fi7_1VtDHV"
      },
      "outputs": [],
      "source": [
        "x = int('1312312')  # int\n",
        "x = float(20.5)  # float\n",
        "x = complex(1j)  # complex\n",
        "x = str(\"Hello World\")  # str\n",
        "x = bool(5)  # bool"
      ]
    },
    {
      "cell_type": "code",
      "execution_count": 10,
      "metadata": {
        "colab": {
          "base_uri": "https://localhost:8080/"
        },
        "id": "s7VNZBl3tvIP",
        "outputId": "e3e404f8-f9f7-4d61-d02a-bbd6187c8ac4"
      },
      "outputs": [
        {
          "name": "stdout",
          "output_type": "stream",
          "text": [
            "45.9 <class 'str'>\n"
          ]
        }
      ],
      "source": [
        "x = str(45.9)\n",
        "print(x, type(x))\n"
      ]
    },
    {
      "cell_type": "code",
      "execution_count": 11,
      "metadata": {
        "colab": {
          "base_uri": "https://localhost:8080/",
          "height": 182
        },
        "id": "SoHGr7KFtyCX",
        "outputId": "b31d10e5-7b74-45eb-a61a-c2561ad37d86"
      },
      "outputs": [
        {
          "ename": "ValueError",
          "evalue": "invalid literal for int() with base 10: 'g'",
          "output_type": "error",
          "traceback": [
            "\u001b[1;31m---------------------------------------------------------------------------\u001b[0m",
            "\u001b[1;31mValueError\u001b[0m                                Traceback (most recent call last)",
            "Cell \u001b[1;32mIn [11], line 1\u001b[0m\n\u001b[1;32m----> 1\u001b[0m x \u001b[39m=\u001b[39m \u001b[39mint\u001b[39;49m(\u001b[39m'\u001b[39;49m\u001b[39mg\u001b[39;49m\u001b[39m'\u001b[39;49m)\n\u001b[0;32m      2\u001b[0m \u001b[39mprint\u001b[39m(x, \u001b[39mtype\u001b[39m(x))\n",
            "\u001b[1;31mValueError\u001b[0m: invalid literal for int() with base 10: 'g'"
          ]
        }
      ],
      "source": [
        "x = int('g')\n",
        "print(x, type(x))\n"
      ]
    },
    {
      "attachments": {},
      "cell_type": "markdown",
      "metadata": {
        "id": "9QT_Q3PguPGW"
      },
      "source": [
        "Números"
      ]
    },
    {
      "cell_type": "code",
      "execution_count": null,
      "metadata": {
        "id": "CCdRTgObuInf"
      },
      "outputs": [],
      "source": [
        "x = 1  # int\n",
        "y = 2.8 # float\n",
        "z = 3+1j # complex"
      ]
    },
    {
      "cell_type": "code",
      "execution_count": null,
      "metadata": {
        "id": "8aQrejmkurdH"
      },
      "outputs": [],
      "source": [
        "x = 1\n",
        "y = 10927391267378162387162387612\n",
        "z = -5435"
      ]
    },
    {
      "cell_type": "code",
      "execution_count": null,
      "metadata": {
        "id": "fWY_GugGu0EW"
      },
      "outputs": [],
      "source": [
        "x = 1.0\n",
        "y = 1.1\n",
        "z = -4.9"
      ]
    },
    {
      "cell_type": "code",
      "execution_count": null,
      "metadata": {
        "id": "CKwbkf-mu-9V"
      },
      "outputs": [],
      "source": [
        "x = 10e4\n",
        "y = 3E4\n",
        "z = -4.6e59"
      ]
    },
    {
      "cell_type": "code",
      "execution_count": null,
      "metadata": {
        "id": "N_HM6yHBvYLo"
      },
      "outputs": [],
      "source": [
        "x = 1j\n",
        "y = 3 + 5j\n",
        "z = -4 -6j"
      ]
    },
    {
      "cell_type": "code",
      "execution_count": null,
      "metadata": {
        "id": "48Pjroatud2i"
      },
      "outputs": [],
      "source": [
        "print(type(x),type(y),type(z))"
      ]
    },
    {
      "cell_type": "markdown",
      "metadata": {
        "id": "sC4Hsx01vnR-"
      },
      "source": [
        "Conversiones entre números"
      ]
    },
    {
      "cell_type": "code",
      "execution_count": null,
      "metadata": {
        "id": "0a4nLg0Gvgsp"
      },
      "outputs": [],
      "source": [
        "x = 1  # int\n",
        "y = 2.8 # float\n",
        "z = 3+1j # complex"
      ]
    },
    {
      "cell_type": "code",
      "execution_count": null,
      "metadata": {
        "id": "lW5WJFcFvu__"
      },
      "outputs": [],
      "source": [
        "# int to float\n",
        "a = float(x)\n",
        "print(a, type(a))"
      ]
    },
    {
      "cell_type": "code",
      "execution_count": null,
      "metadata": {
        "id": "Pehxhwlyv3l-"
      },
      "outputs": [],
      "source": [
        "# float to int\n",
        "b = int(y)\n",
        "print(b, type(b))"
      ]
    },
    {
      "cell_type": "code",
      "execution_count": null,
      "metadata": {
        "id": "OAL_cSmHwPaq"
      },
      "outputs": [],
      "source": [
        "# int to complex\n",
        "c = complex(z)\n",
        "print(c, type(c))"
      ]
    },
    {
      "cell_type": "markdown",
      "metadata": {
        "id": "f6kVFROVwjvR"
      },
      "source": [
        "Conversiones a números"
      ]
    },
    {
      "cell_type": "code",
      "execution_count": null,
      "metadata": {
        "id": "dS9NhkLFwcot"
      },
      "outputs": [],
      "source": [
        "x = int(1)\n",
        "y = int(2.6)\n",
        "z = int('58')\n",
        "print(z)"
      ]
    },
    {
      "cell_type": "code",
      "execution_count": null,
      "metadata": {
        "id": "DuKtUWlVw3Is"
      },
      "outputs": [],
      "source": [
        "x = float(1)\n",
        "y = float(6.8)\n",
        "z = float('3')\n",
        "w = float('8.8')\n",
        "print(w)"
      ]
    },
    {
      "cell_type": "code",
      "execution_count": null,
      "metadata": {
        "id": "kWVtCnQAxO16"
      },
      "outputs": [],
      "source": [
        "x = complex(1)\n",
        "y = complex(2.8)\n",
        "z = complex('3j')\n",
        "w = complex('8.8')\n",
        "v = complex('8.8+5j')\n",
        "print(v)"
      ]
    },
    {
      "attachments": {},
      "cell_type": "markdown",
      "metadata": {
        "id": "hoMbTL1PyCFv"
      },
      "source": [
        "Strings"
      ]
    },
    {
      "cell_type": "code",
      "execution_count": 41,
      "metadata": {
        "id": "8unQedxmxgAM"
      },
      "outputs": [],
      "source": [
        "b = \"\"\"\n",
        "  Se pueden escribir varias líneas \n",
        "  usando 3 \"\n",
        "  tambien se usa para documentación\n",
        "\"\"\"\n",
        "\n",
        "c = '''\n",
        "  Se pueden escribir varias líneas\n",
        "  usando 3 '\n",
        "  tambien se usa para documentación\n",
        "'''\n"
      ]
    },
    {
      "cell_type": "markdown",
      "metadata": {},
      "source": [
        "Conversiones a strings\n"
      ]
    },
    {
      "cell_type": "code",
      "execution_count": 1,
      "metadata": {},
      "outputs": [
        {
          "data": {
            "text/plain": [
              "'12345'"
            ]
          },
          "execution_count": 1,
          "metadata": {},
          "output_type": "execute_result"
        }
      ],
      "source": [
        "a = str(12345)\n",
        "\n",
        "a"
      ]
    },
    {
      "cell_type": "code",
      "execution_count": 52,
      "metadata": {},
      "outputs": [
        {
          "data": {
            "text/plain": [
              "'12345'"
            ]
          },
          "execution_count": 52,
          "metadata": {},
          "output_type": "execute_result"
        }
      ],
      "source": [
        "a = str(int(12345.0))\n",
        "a"
      ]
    },
    {
      "cell_type": "code",
      "execution_count": 53,
      "metadata": {},
      "outputs": [],
      "source": [
        "a = str(float(87))"
      ]
    },
    {
      "cell_type": "markdown",
      "metadata": {},
      "source": [
        "Strings como listas"
      ]
    },
    {
      "cell_type": "code",
      "execution_count": 59,
      "metadata": {},
      "outputs": [
        {
          "data": {
            "text/plain": [
              "\"\\n  Se pueden escribir varias líneas\\n  usando 3 '\\n  tambien se usa para documentación\\n\""
            ]
          },
          "execution_count": 59,
          "metadata": {},
          "output_type": "execute_result"
        }
      ],
      "source": [
        "c"
      ]
    },
    {
      "cell_type": "code",
      "execution_count": 67,
      "metadata": {},
      "outputs": [
        {
          "name": "stdout",
          "output_type": "stream",
          "text": [
            " \n"
          ]
        }
      ],
      "source": [
        "print(c[5])"
      ]
    },
    {
      "cell_type": "code",
      "execution_count": 62,
      "metadata": {},
      "outputs": [
        {
          "name": "stdout",
          "output_type": "stream",
          "text": [
            "\n",
            "\n",
            " \n",
            " \n",
            "S\n",
            "e\n",
            " \n",
            "p\n",
            "u\n",
            "e\n",
            "d\n",
            "e\n",
            "n\n",
            " \n",
            "e\n",
            "s\n",
            "c\n",
            "r\n",
            "i\n",
            "b\n",
            "i\n",
            "r\n",
            " \n",
            "v\n",
            "a\n",
            "r\n",
            "i\n",
            "a\n",
            "s\n",
            " \n",
            "l\n",
            "í\n",
            "n\n",
            "e\n",
            "a\n",
            "s\n",
            "\n",
            "\n",
            " \n",
            " \n",
            "u\n",
            "s\n",
            "a\n",
            "n\n",
            "d\n",
            "o\n",
            " \n",
            "3\n",
            " \n",
            "'\n",
            "\n",
            "\n",
            " \n",
            " \n",
            "t\n",
            "a\n",
            "m\n",
            "b\n",
            "i\n",
            "e\n",
            "n\n",
            " \n",
            "s\n",
            "e\n",
            " \n",
            "u\n",
            "s\n",
            "a\n",
            " \n",
            "p\n",
            "a\n",
            "r\n",
            "a\n",
            " \n",
            "d\n",
            "o\n",
            "c\n",
            "u\n",
            "m\n",
            "e\n",
            "n\n",
            "t\n",
            "a\n",
            "c\n",
            "i\n",
            "ó\n",
            "n\n",
            "\n",
            "\n"
          ]
        }
      ],
      "source": [
        "for i in c:\n",
        "    print(i)"
      ]
    },
    {
      "cell_type": "markdown",
      "metadata": {},
      "source": [
        "Longitud de un string"
      ]
    },
    {
      "cell_type": "code",
      "execution_count": 63,
      "metadata": {},
      "outputs": [
        {
          "data": {
            "text/plain": [
              "85"
            ]
          },
          "execution_count": 63,
          "metadata": {},
          "output_type": "execute_result"
        }
      ],
      "source": [
        "len(c)"
      ]
    },
    {
      "cell_type": "markdown",
      "metadata": {},
      "source": [
        "Pertenencia de strings"
      ]
    },
    {
      "cell_type": "code",
      "execution_count": 68,
      "metadata": {},
      "outputs": [
        {
          "data": {
            "text/plain": [
              "\"\\n  Se pueden escribir varias líneas\\n  usando 3 '\\n  tambien se usa para documentación\\n\""
            ]
          },
          "execution_count": 68,
          "metadata": {},
          "output_type": "execute_result"
        }
      ],
      "source": [
        "c"
      ]
    },
    {
      "cell_type": "code",
      "execution_count": 73,
      "metadata": {},
      "outputs": [
        {
          "name": "stdout",
          "output_type": "stream",
          "text": [
            "True\n"
          ]
        }
      ],
      "source": [
        "print(' Se' in c)"
      ]
    },
    {
      "cell_type": "code",
      "execution_count": 75,
      "metadata": {},
      "outputs": [
        {
          "name": "stdout",
          "output_type": "stream",
          "text": [
            "True\n"
          ]
        }
      ],
      "source": [
        "print('        Se' not in c)\n"
      ]
    },
    {
      "cell_type": "markdown",
      "metadata": {},
      "source": [
        "Segmentación de strings"
      ]
    },
    {
      "cell_type": "code",
      "execution_count": 76,
      "metadata": {},
      "outputs": [
        {
          "name": "stdout",
          "output_type": "stream",
          "text": [
            " escribi\n"
          ]
        }
      ],
      "source": [
        "print(c[12:20]) # inicio y fin dados"
      ]
    },
    {
      "cell_type": "code",
      "execution_count": 77,
      "metadata": {},
      "outputs": [
        {
          "name": "stdout",
          "output_type": "stream",
          "text": [
            "\n",
            "  Se pueden escribi\n"
          ]
        }
      ],
      "source": [
        "print(c[:20]) # fin dado"
      ]
    },
    {
      "cell_type": "code",
      "execution_count": 78,
      "metadata": {},
      "outputs": [
        {
          "name": "stdout",
          "output_type": "stream",
          "text": [
            "r varias líneas\n",
            "  usando 3 '\n",
            "  tambien se usa para documentación\n",
            "\n"
          ]
        }
      ],
      "source": [
        "print(c[20:]) # inicio dado"
      ]
    },
    {
      "cell_type": "code",
      "execution_count": 83,
      "metadata": {},
      "outputs": [
        {
          "name": "stdout",
          "output_type": "stream",
          "text": [
            "\n",
            "  Se pueden escribir varias líneas\n",
            "  usando 3 '\n",
            "  tambien se usa para documentación\n"
          ]
        }
      ],
      "source": [
        "print(c[:-1]) # indice negativo, representa el último elemento"
      ]
    },
    {
      "cell_type": "markdown",
      "metadata": {},
      "source": [
        "Upper case"
      ]
    },
    {
      "cell_type": "code",
      "execution_count": 86,
      "metadata": {},
      "outputs": [
        {
          "name": "stdout",
          "output_type": "stream",
          "text": [
            "\n",
            "  SE PUEDEN ESCRIBIR VARIAS LÍNEAS\n",
            "  USANDO 3 '\n",
            "  TAMBIEN SE USA PARA DOCUMENTACIÓN\n",
            "\n"
          ]
        }
      ],
      "source": [
        "m = c.upper()\n",
        "print(m)"
      ]
    },
    {
      "cell_type": "code",
      "execution_count": 87,
      "metadata": {},
      "outputs": [
        {
          "data": {
            "text/plain": [
              "\"\\n  SE PUEDEN ESCRIBIR VARIAS LÍNEAS\\n  USANDO 3 '\\n  TAMBIEN SE USA PARA DOCUMENTACIÓN\\n\""
            ]
          },
          "execution_count": 87,
          "metadata": {},
          "output_type": "execute_result"
        }
      ],
      "source": [
        "m"
      ]
    },
    {
      "cell_type": "markdown",
      "metadata": {},
      "source": [
        "Lower case"
      ]
    },
    {
      "cell_type": "code",
      "execution_count": 88,
      "metadata": {},
      "outputs": [
        {
          "name": "stdout",
          "output_type": "stream",
          "text": [
            "\n",
            "  se pueden escribir varias líneas\n",
            "  usando 3 '\n",
            "  tambien se usa para documentación\n",
            "\n"
          ]
        }
      ],
      "source": [
        "n = m.lower()\n",
        "print(n)"
      ]
    },
    {
      "attachments": {},
      "cell_type": "markdown",
      "metadata": {},
      "source": [
        "Partir un string "
      ]
    },
    {
      "cell_type": "code",
      "execution_count": 90,
      "metadata": {},
      "outputs": [
        {
          "data": {
            "text/plain": [
              "\"\\n  Se pueden escribir varias líneas\\n  usando 3 '\\n  tambien se usa para documentación\\n\""
            ]
          },
          "execution_count": 90,
          "metadata": {},
          "output_type": "execute_result"
        }
      ],
      "source": [
        "c"
      ]
    },
    {
      "cell_type": "code",
      "execution_count": 91,
      "metadata": {},
      "outputs": [
        {
          "name": "stdout",
          "output_type": "stream",
          "text": [
            "['', '  Se pueden escribir varias líneas', \"  usando 3 '\", '  tambien se usa para documentación', '']\n"
          ]
        }
      ],
      "source": [
        "p = c.split('\\n')\n",
        "print(p)"
      ]
    },
    {
      "attachments": {},
      "cell_type": "markdown",
      "metadata": {},
      "source": [
        "Quitar espacios inicio string "
      ]
    },
    {
      "cell_type": "code",
      "execution_count": 4,
      "metadata": {},
      "outputs": [],
      "source": [
        "m = '                   asasdio oaisduaoisd   oaidsuiaos   qweqweq  132 12 3'"
      ]
    },
    {
      "cell_type": "code",
      "execution_count": 5,
      "metadata": {},
      "outputs": [
        {
          "name": "stdout",
          "output_type": "stream",
          "text": [
            "asasdio oaisduaoisd   oaidsuiaos   qweqweq  132 12 3\n"
          ]
        }
      ],
      "source": [
        "m = m.strip()\n",
        "print(m)"
      ]
    },
    {
      "cell_type": "markdown",
      "metadata": {},
      "source": [
        "Reemplazar valores en un string"
      ]
    },
    {
      "cell_type": "code",
      "execution_count": 6,
      "metadata": {},
      "outputs": [
        {
          "data": {
            "text/plain": [
              "True"
            ]
          },
          "execution_count": 6,
          "metadata": {},
          "output_type": "execute_result"
        }
      ],
      "source": [
        "'asasdio' in m"
      ]
    },
    {
      "cell_type": "code",
      "execution_count": 7,
      "metadata": {},
      "outputs": [
        {
          "data": {
            "text/plain": [
              "'Hola oaisduaoisd   oaidsuiaos   qweqweq  132 12 3'"
            ]
          },
          "execution_count": 7,
          "metadata": {},
          "output_type": "execute_result"
        }
      ],
      "source": [
        "m = m.replace('asasdio', 'Hola')\n",
        "m"
      ]
    },
    {
      "cell_type": "code",
      "execution_count": 8,
      "metadata": {},
      "outputs": [
        {
          "data": {
            "text/plain": [
              "'Hola_oaisduaoisd___oaidsuiaos___qweqweq__132_12_3'"
            ]
          },
          "execution_count": 8,
          "metadata": {},
          "output_type": "execute_result"
        }
      ],
      "source": [
        "m = m.replace(' ', '_')\n",
        "m"
      ]
    },
    {
      "cell_type": "code",
      "execution_count": 10,
      "metadata": {},
      "outputs": [
        {
          "data": {
            "text/plain": [
              "['Hola',\n",
              " 'oaisduaoisd',\n",
              " '',\n",
              " '',\n",
              " 'oaidsuiaos',\n",
              " '',\n",
              " '',\n",
              " 'qweqweq',\n",
              " '',\n",
              " '132',\n",
              " '12',\n",
              " '3']"
            ]
          },
          "execution_count": 10,
          "metadata": {},
          "output_type": "execute_result"
        }
      ],
      "source": [
        "m = m.split('_')\n",
        "m"
      ]
    },
    {
      "cell_type": "markdown",
      "metadata": {},
      "source": [
        "Formatear strings"
      ]
    },
    {
      "cell_type": "code",
      "execution_count": 11,
      "metadata": {},
      "outputs": [],
      "source": [
        "txt = 'buenas tardes mi nombre es juan'"
      ]
    },
    {
      "cell_type": "code",
      "execution_count": 13,
      "metadata": {},
      "outputs": [
        {
          "data": {
            "text/plain": [
              "'buenas tardes mi nombre es '"
            ]
          },
          "execution_count": 13,
          "metadata": {},
          "output_type": "execute_result"
        }
      ],
      "source": [
        "txt = txt.replace('juan', '')\n",
        "txt"
      ]
    },
    {
      "cell_type": "code",
      "execution_count": 14,
      "metadata": {},
      "outputs": [],
      "source": [
        "nombre = 'Jorge'"
      ]
    },
    {
      "cell_type": "code",
      "execution_count": 15,
      "metadata": {},
      "outputs": [
        {
          "data": {
            "text/plain": [
              "True"
            ]
          },
          "execution_count": 15,
          "metadata": {},
          "output_type": "execute_result"
        }
      ],
      "source": [
        "type(txt) == type(nombre)"
      ]
    },
    {
      "cell_type": "code",
      "execution_count": 28,
      "metadata": {},
      "outputs": [
        {
          "data": {
            "text/plain": [
              "'buenas tardes mi nombre es Jorge y me gusta el agua'"
            ]
          },
          "execution_count": 28,
          "metadata": {},
          "output_type": "execute_result"
        }
      ],
      "source": [
        "txt = 'buenas tardes mi nombre es ' + nombre + ' y me gusta el agua'\n",
        "txt"
      ]
    },
    {
      "cell_type": "code",
      "execution_count": 23,
      "metadata": {},
      "outputs": [],
      "source": [
        "edad = 30"
      ]
    },
    {
      "cell_type": "code",
      "execution_count": 29,
      "metadata": {},
      "outputs": [],
      "source": [
        "txt = txt + ' ' + str(edad) + ' y esta es mi edad'\n"
      ]
    },
    {
      "cell_type": "code",
      "execution_count": 30,
      "metadata": {},
      "outputs": [
        {
          "data": {
            "text/plain": [
              "'buenas tardes mi nombre es Jorge y me gusta el agua 30 ty esta es mi edad'"
            ]
          },
          "execution_count": 30,
          "metadata": {},
          "output_type": "execute_result"
        }
      ],
      "source": [
        "txt"
      ]
    },
    {
      "cell_type": "code",
      "execution_count": 32,
      "metadata": {},
      "outputs": [
        {
          "data": {
            "text/plain": [
              "'hola mi edad es 30'"
            ]
          },
          "execution_count": 32,
          "metadata": {},
          "output_type": "execute_result"
        }
      ],
      "source": [
        "edad = 30\n",
        "txt = 'hola mi {} es {}'.format('edad',edad)\n",
        "txt"
      ]
    },
    {
      "cell_type": "code",
      "execution_count": 40,
      "metadata": {},
      "outputs": [
        {
          "data": {
            "text/plain": [
              "'hola mi \\n edad es 30'"
            ]
          },
          "execution_count": 40,
          "metadata": {},
          "output_type": "execute_result"
        }
      ],
      "source": [
        "edad = 30\n",
        "var1 = 'edad'\n",
        "txt = f'hola mi \\n {var1} es {edad}'\n",
        "txt\n"
      ]
    },
    {
      "cell_type": "markdown",
      "metadata": {},
      "source": [
        "Caracteres Back Slask (\\\\)\n",
        "\n",
        "```\n",
        "    \\'\t        Single Quote\n",
        "    \\\"\t        Single Double Quote\n",
        "    \\\\\t        Backslash\t\n",
        "    \\n\t        New Line\t\n",
        "    \\r\t        Carriage Return\t\n",
        "    \\t\t        Tab\t\n",
        "    \\b\t        Backspace\t\t\n",
        "```"
      ]
    },
    {
      "cell_type": "code",
      "execution_count": 59,
      "metadata": {},
      "outputs": [
        {
          "name": "stdout",
          "output_type": "stream",
          "text": [
            "hola \n",
            " mi nombre \n",
            "\n",
            " es Juan\n"
          ]
        }
      ],
      "source": [
        "txt = 'hola \\n mi nombre \\n\\n es Juan'\n",
        "print(txt)"
      ]
    },
    {
      "cell_type": "code",
      "execution_count": 43,
      "metadata": {},
      "outputs": [],
      "source": [
        "txt = '''Hola\n",
        "mi nombre es\n",
        "juan\n",
        "'''"
      ]
    },
    {
      "cell_type": "code",
      "execution_count": 47,
      "metadata": {},
      "outputs": [
        {
          "data": {
            "text/plain": [
              "'Hola\\nmi nombre es\\njuan\\n\\thola'"
            ]
          },
          "execution_count": 47,
          "metadata": {},
          "output_type": "execute_result"
        }
      ],
      "source": [
        "txt + \"\\t\" +'hola'"
      ]
    },
    {
      "cell_type": "code",
      "execution_count": 48,
      "metadata": {},
      "outputs": [
        {
          "name": "stdout",
          "output_type": "stream",
          "text": [
            "Mi nombre es \"Juan\" y tengo años\n",
            "me gusta \n",
            "leer,\n",
            "jugar y \thacer ejercicio\n",
            "vivocon 3 animales y 4 familiares\n"
          ]
        }
      ],
      "source": [
        "txt ='''Mi nombre es \\\"Juan\\\" y tengo años\n",
        "me gusta \\nleer,\\n \\rjugar y \\thacer ejercicio\n",
        "vivo \\bcon 3 animales y 4 familiares'''\n",
        "print(txt)"
      ]
    },
    {
      "cell_type": "code",
      "execution_count": 62,
      "metadata": {},
      "outputs": [
        {
          "data": {
            "text/plain": [
              "'hola \\n mi nombre \\n\\n es Juan'"
            ]
          },
          "execution_count": 62,
          "metadata": {},
          "output_type": "execute_result"
        }
      ],
      "source": [
        "txt"
      ]
    },
    {
      "cell_type": "markdown",
      "metadata": {},
      "source": [
        "Encontrar la posicioon de un string en otro string"
      ]
    },
    {
      "cell_type": "code",
      "execution_count": 65,
      "metadata": {},
      "outputs": [
        {
          "data": {
            "text/plain": [
              "23"
            ]
          },
          "execution_count": 65,
          "metadata": {},
          "output_type": "execute_result"
        }
      ],
      "source": [
        "txt.find('Juan')"
      ]
    },
    {
      "cell_type": "code",
      "execution_count": 68,
      "metadata": {},
      "outputs": [
        {
          "data": {
            "text/plain": [
              "'Juan'"
            ]
          },
          "execution_count": 68,
          "metadata": {},
          "output_type": "execute_result"
        }
      ],
      "source": [
        "txt[23:]"
      ]
    },
    {
      "cell_type": "markdown",
      "metadata": {},
      "source": [
        "[Metodos de los Strings](https://www.w3schools.com/python/python_strings_methods.asp)"
      ]
    },
    {
      "cell_type": "markdown",
      "metadata": {},
      "source": [
        "Booleanos"
      ]
    },
    {
      "cell_type": "code",
      "execution_count": 70,
      "metadata": {},
      "outputs": [
        {
          "name": "stdout",
          "output_type": "stream",
          "text": [
            "900 es menor que 3000\n"
          ]
        }
      ],
      "source": [
        "n1 = 900\n",
        "n2 = 3000\n",
        "\n",
        "if n1 > n2:\n",
        "    print(f'{n1} es mayor que {n2}')\n",
        "else:\n",
        "    print(f'{n1} es menor que {n2}')"
      ]
    },
    {
      "cell_type": "code",
      "execution_count": 71,
      "metadata": {},
      "outputs": [
        {
          "name": "stdout",
          "output_type": "stream",
          "text": [
            "False\n"
          ]
        }
      ],
      "source": [
        "print(n1 > n2)"
      ]
    },
    {
      "cell_type": "markdown",
      "metadata": {},
      "source": [
        "Negaciones"
      ]
    },
    {
      "cell_type": "code",
      "execution_count": 73,
      "metadata": {},
      "outputs": [
        {
          "name": "stdout",
          "output_type": "stream",
          "text": [
            "True\n",
            "True\n",
            "False\n"
          ]
        }
      ],
      "source": [
        "print(not n1 > n2)\n",
        "print(not False)\n",
        "print(not True)"
      ]
    },
    {
      "cell_type": "markdown",
      "metadata": {},
      "source": [
        "Conjunción y disjunción"
      ]
    },
    {
      "cell_type": "markdown",
      "metadata": {},
      "source": [
        "![Image](https://th.bing.com/th/id/OIP.peJYgdD6w6v6TQ_f9FySbAGyCP?pid=ImgDet&rs=1)"
      ]
    },
    {
      "cell_type": "code",
      "execution_count": 76,
      "metadata": {},
      "outputs": [
        {
          "name": "stdout",
          "output_type": "stream",
          "text": [
            "True\n"
          ]
        }
      ],
      "source": [
        "print(False or True)"
      ]
    },
    {
      "cell_type": "code",
      "execution_count": 78,
      "metadata": {},
      "outputs": [
        {
          "name": "stdout",
          "output_type": "stream",
          "text": [
            "True\n"
          ]
        }
      ],
      "source": [
        "print(False | True)"
      ]
    },
    {
      "cell_type": "code",
      "execution_count": null,
      "metadata": {},
      "outputs": [],
      "source": [
        "print(False and True)"
      ]
    },
    {
      "cell_type": "code",
      "execution_count": 79,
      "metadata": {},
      "outputs": [
        {
          "name": "stdout",
          "output_type": "stream",
          "text": [
            "False\n"
          ]
        }
      ],
      "source": [
        "print(False & True)"
      ]
    },
    {
      "cell_type": "markdown",
      "metadata": {},
      "source": [
        "Comparaciones o igualdades"
      ]
    },
    {
      "cell_type": "code",
      "execution_count": 86,
      "metadata": {},
      "outputs": [
        {
          "name": "stdout",
          "output_type": "stream",
          "text": [
            "True\n",
            "True\n",
            "True\n",
            "True\n"
          ]
        }
      ],
      "source": [
        "print(True == 1)\n",
        "print(False == 0)\n",
        "print(False != 2)\n",
        "print(True != 2)"
      ]
    },
    {
      "cell_type": "code",
      "execution_count": 88,
      "metadata": {},
      "outputs": [
        {
          "name": "stdout",
          "output_type": "stream",
          "text": [
            "False\n",
            "True\n"
          ]
        }
      ],
      "source": [
        "print(3 != 3)\n",
        "print(1 != 2)"
      ]
    },
    {
      "cell_type": "markdown",
      "metadata": {},
      "source": [
        "Referencia a la misma variable"
      ]
    },
    {
      "cell_type": "code",
      "execution_count": 89,
      "metadata": {},
      "outputs": [
        {
          "name": "stdout",
          "output_type": "stream",
          "text": [
            "True\n",
            "True\n"
          ]
        }
      ],
      "source": [
        "list1 = [1, 2, 3, 4]\n",
        "list2 = list1 \n",
        "print(list1 is list2)\n",
        "print(list1 == list2)"
      ]
    },
    {
      "cell_type": "code",
      "execution_count": 91,
      "metadata": {},
      "outputs": [
        {
          "name": "stdout",
          "output_type": "stream",
          "text": [
            "False\n",
            "True\n",
            "True\n"
          ]
        }
      ],
      "source": [
        "list2 = [1, 2, 3, 4]\n",
        "print(list1 is list2)\n",
        "print(list1 == list2)\n",
        "print(not (list1 is list2))"
      ]
    },
    {
      "cell_type": "markdown",
      "metadata": {},
      "source": [
        "Desigualdades"
      ]
    },
    {
      "cell_type": "code",
      "execution_count": 92,
      "metadata": {},
      "outputs": [
        {
          "name": "stdout",
          "output_type": "stream",
          "text": [
            "True\n",
            "False\n",
            "False\n",
            "True\n",
            "False\n",
            "True\n",
            "True\n",
            "True\n"
          ]
        }
      ],
      "source": [
        "print(5 < 10)\n",
        "print(5 > 10)\n",
        "print(5 < 5)\n",
        "print(5 <= 10)\n",
        "print(5 >= 10)\n",
        "print(5 <= 5)\n",
        "print(5 < 10 <= 10)\n",
        "print(5 < 10 > 7)\n"
      ]
    },
    {
      "cell_type": "code",
      "execution_count": 93,
      "metadata": {},
      "outputs": [
        {
          "name": "stdout",
          "output_type": "stream",
          "text": [
            "True\n",
            "True\n"
          ]
        }
      ],
      "source": [
        "print(5 < 10 <= 10 and True == 1)\n",
        "print(5 < 10 > 7 or (90-15) < (110-30))\n"
      ]
    },
    {
      "cell_type": "markdown",
      "metadata": {},
      "source": [
        "Casos curiosos"
      ]
    },
    {
      "cell_type": "code",
      "execution_count": 94,
      "metadata": {},
      "outputs": [
        {
          "name": "stdout",
          "output_type": "stream",
          "text": [
            "2\n",
            "8\n",
            "-5\n"
          ]
        }
      ],
      "source": [
        "print(True + True)\n",
        "print(True * 8)\n",
        "print(False - 5)"
      ]
    },
    {
      "cell_type": "code",
      "execution_count": 95,
      "metadata": {},
      "outputs": [
        {
          "name": "stdout",
          "output_type": "stream",
          "text": [
            "0\n",
            "-5\n"
          ]
        }
      ],
      "source": [
        "print(0 and 2)\n",
        "print(-5 or 0)"
      ]
    },
    {
      "cell_type": "markdown",
      "metadata": {},
      "source": [
        "Interpretación de otros tipos de datos como booleanos"
      ]
    },
    {
      "cell_type": "code",
      "execution_count": 101,
      "metadata": {},
      "outputs": [
        {
          "name": "stdout",
          "output_type": "stream",
          "text": [
            "False\n",
            "False\n",
            "False\n",
            "False\n",
            "False\n",
            "False\n",
            "False\n",
            "False\n",
            "False\n"
          ]
        }
      ],
      "source": [
        "print(bool(\"\"))\n",
        "print(bool(0))\n",
        "print(bool(False))\n",
        "print(bool(None))\n",
        "print(bool(0.0))\n",
        "print(bool(\"\"))\n",
        "print(bool(()))\n",
        "print(bool([]))\n",
        "print(bool({}))"
      ]
    },
    {
      "cell_type": "code",
      "execution_count": 102,
      "metadata": {},
      "outputs": [
        {
          "name": "stdout",
          "output_type": "stream",
          "text": [
            "True\n",
            "True\n",
            "True\n",
            "False\n",
            "True\n",
            "True\n",
            "True\n",
            "True\n"
          ]
        }
      ],
      "source": [
        "print(bool(\"hola\"))\n",
        "print(bool(10))\n",
        "print(bool(True))\n",
        "print(bool(None))\n",
        "print(bool(2.1))\n",
        "print(bool((None, 9)))\n",
        "print(bool(['piña', 'pera']))\n",
        "print(bool({'clave':'valor'}))"
      ]
    },
    {
      "cell_type": "markdown",
      "metadata": {},
      "source": [
        "Booleanos en funciones"
      ]
    },
    {
      "cell_type": "code",
      "execution_count": 103,
      "metadata": {},
      "outputs": [
        {
          "name": "stdout",
          "output_type": "stream",
          "text": [
            "hay algo\n"
          ]
        }
      ],
      "source": [
        "def miFuncion():\n",
        "    return True\n",
        "\n",
        "if miFuncion():\n",
        "    print('hay algo')\n",
        "else:\n",
        "    print('hay nada')"
      ]
    },
    {
      "cell_type": "markdown",
      "metadata": {},
      "source": [
        "Booleanos en clases"
      ]
    },
    {
      "cell_type": "code",
      "execution_count": 116,
      "metadata": {},
      "outputs": [],
      "source": [
        "class MiClase():\n",
        "    def miFuncion(self):\n",
        "        return 0\n",
        "\n",
        "juan = MiClase()\n"
      ]
    },
    {
      "attachments": {},
      "cell_type": "markdown",
      "metadata": {},
      "source": [
        "## Operadores"
      ]
    },
    {
      "cell_type": "markdown",
      "metadata": {},
      "source": [
        "Operadores aritméticos"
      ]
    },
    {
      "cell_type": "code",
      "execution_count": 2,
      "metadata": {},
      "outputs": [],
      "source": [
        "x = 3\n",
        "y = 4"
      ]
    },
    {
      "cell_type": "code",
      "execution_count": 7,
      "metadata": {},
      "outputs": [
        {
          "name": "stdout",
          "output_type": "stream",
          "text": [
            "7\n",
            "-1\n",
            "12\n",
            "0.75\n"
          ]
        }
      ],
      "source": [
        "print(x + y) # suma\n",
        "print(x - y) # resta\n",
        "print(x * y) # multiplicación\n",
        "print(x / y) # divición"
      ]
    },
    {
      "cell_type": "code",
      "execution_count": 13,
      "metadata": {},
      "outputs": [
        {
          "name": "stdout",
          "output_type": "stream",
          "text": [
            "81\n",
            "0\n"
          ]
        }
      ],
      "source": [
        "print(x ** y) # exponenciación\n",
        "print(x // 4) # divición entera"
      ]
    },
    {
      "cell_type": "code",
      "execution_count": 22,
      "metadata": {},
      "outputs": [
        {
          "name": "stdout",
          "output_type": "stream",
          "text": [
            "1\n"
          ]
        }
      ],
      "source": [
        "print(4 % 3) # módulo"
      ]
    },
    {
      "cell_type": "code",
      "execution_count": 23,
      "metadata": {},
      "outputs": [],
      "source": [
        "txt = 'mi texto'"
      ]
    },
    {
      "cell_type": "code",
      "execution_count": 31,
      "metadata": {},
      "outputs": [
        {
          "name": "stdout",
          "output_type": "stream",
          "text": [
            "mi textomi textomi textomi textomi textomi texto\n"
          ]
        }
      ],
      "source": [
        "print(txt*6)"
      ]
    },
    {
      "cell_type": "markdown",
      "metadata": {},
      "source": [
        "Asignación compuesta"
      ]
    },
    {
      "cell_type": "code",
      "execution_count": 16,
      "metadata": {},
      "outputs": [],
      "source": [
        "x = 10 "
      ]
    },
    {
      "cell_type": "code",
      "execution_count": 17,
      "metadata": {},
      "outputs": [],
      "source": [
        "# x = x + 10\n",
        "x += 10  "
      ]
    },
    {
      "cell_type": "code",
      "execution_count": 47,
      "metadata": {},
      "outputs": [],
      "source": [
        "x -= 6"
      ]
    },
    {
      "cell_type": "code",
      "execution_count": 48,
      "metadata": {},
      "outputs": [],
      "source": [
        "x *= 6"
      ]
    },
    {
      "cell_type": "code",
      "execution_count": 49,
      "metadata": {},
      "outputs": [],
      "source": [
        "x /= 6"
      ]
    },
    {
      "cell_type": "code",
      "execution_count": 51,
      "metadata": {},
      "outputs": [],
      "source": [
        "x %= 3"
      ]
    },
    {
      "cell_type": "code",
      "execution_count": 63,
      "metadata": {},
      "outputs": [],
      "source": [
        "x //= 6"
      ]
    },
    {
      "cell_type": "code",
      "execution_count": 64,
      "metadata": {},
      "outputs": [],
      "source": [
        "v = True\n",
        "f = False"
      ]
    },
    {
      "cell_type": "code",
      "execution_count": 77,
      "metadata": {},
      "outputs": [
        {
          "name": "stdout",
          "output_type": "stream",
          "text": [
            "True\n",
            "False\n",
            "True\n",
            "False\n"
          ]
        }
      ],
      "source": [
        "print(v or f)\n",
        "print(v and f)\n",
        "\n",
        "print(v | f)\n",
        "print(f & f)"
      ]
    },
    {
      "cell_type": "code",
      "execution_count": 74,
      "metadata": {},
      "outputs": [],
      "source": [
        "v |= True"
      ]
    },
    {
      "cell_type": "code",
      "execution_count": 81,
      "metadata": {},
      "outputs": [],
      "source": [
        "f = f or v"
      ]
    },
    {
      "cell_type": "code",
      "execution_count": 82,
      "metadata": {},
      "outputs": [],
      "source": [
        "f &= False"
      ]
    },
    {
      "cell_type": "markdown",
      "metadata": {},
      "source": [
        "Operadores de comapración"
      ]
    },
    {
      "cell_type": "code",
      "execution_count": 83,
      "metadata": {},
      "outputs": [],
      "source": [
        "x = 90\n",
        "y = 98"
      ]
    },
    {
      "cell_type": "code",
      "execution_count": 84,
      "metadata": {},
      "outputs": [
        {
          "name": "stdout",
          "output_type": "stream",
          "text": [
            "False\n",
            "True\n"
          ]
        }
      ],
      "source": [
        "print(x == y) # Igualación\n",
        "print(x != y) # Diferencia"
      ]
    },
    {
      "cell_type": "code",
      "execution_count": 85,
      "metadata": {},
      "outputs": [
        {
          "name": "stdout",
          "output_type": "stream",
          "text": [
            "True\n",
            "False\n",
            "True\n",
            "False\n"
          ]
        }
      ],
      "source": [
        "print(x < y)\n",
        "print(x > y)\n",
        "print(x <= y)\n",
        "print(x >= y)"
      ]
    },
    {
      "cell_type": "code",
      "execution_count": 92,
      "metadata": {},
      "outputs": [],
      "source": [
        "x = [10]\n",
        "y = [10]\n"
      ]
    },
    {
      "cell_type": "code",
      "execution_count": 93,
      "metadata": {},
      "outputs": [
        {
          "name": "stdout",
          "output_type": "stream",
          "text": [
            "False\n"
          ]
        }
      ],
      "source": [
        "print(x is y)"
      ]
    },
    {
      "cell_type": "code",
      "execution_count": 94,
      "metadata": {},
      "outputs": [],
      "source": [
        "y = x"
      ]
    },
    {
      "cell_type": "markdown",
      "metadata": {},
      "source": [
        "Operador de identidad"
      ]
    },
    {
      "cell_type": "code",
      "execution_count": 97,
      "metadata": {},
      "outputs": [
        {
          "name": "stdout",
          "output_type": "stream",
          "text": [
            "True\n",
            "False\n"
          ]
        }
      ],
      "source": [
        "print(x is y)\n",
        "print(x is not y)"
      ]
    },
    {
      "cell_type": "markdown",
      "metadata": {},
      "source": [
        "Combinaciones "
      ]
    },
    {
      "cell_type": "code",
      "execution_count": 96,
      "metadata": {},
      "outputs": [
        {
          "name": "stdout",
          "output_type": "stream",
          "text": [
            "False\n"
          ]
        }
      ],
      "source": [
        "print(10 < 9 and (90 + 15) > (1900-1800))"
      ]
    },
    {
      "cell_type": "markdown",
      "metadata": {},
      "source": [
        "Operador pertenencia\n"
      ]
    },
    {
      "cell_type": "code",
      "execution_count": 101,
      "metadata": {},
      "outputs": [
        {
          "name": "stdout",
          "output_type": "stream",
          "text": [
            "True\n",
            "False\n"
          ]
        }
      ],
      "source": [
        "txt2 = ' t'\n",
        "\n",
        "print(txt2 in txt)\n",
        "print(txt2 not in txt)"
      ]
    },
    {
      "attachments": {},
      "cell_type": "markdown",
      "metadata": {},
      "source": [
        "## Condicionales\n",
        "\n",
        "- if\n",
        "- while else\n",
        "- for else"
      ]
    },
    {
      "cell_type": "markdown",
      "metadata": {},
      "source": [
        "if"
      ]
    },
    {
      "cell_type": "code",
      "execution_count": 105,
      "metadata": {},
      "outputs": [],
      "source": [
        "a = 90\n",
        "b = 800\n",
        "txt = 'Hola mundo'"
      ]
    },
    {
      "cell_type": "code",
      "execution_count": 106,
      "metadata": {},
      "outputs": [],
      "source": [
        "if a > b:\n",
        "    print(txt)"
      ]
    },
    {
      "cell_type": "markdown",
      "metadata": {},
      "source": [
        "elif"
      ]
    },
    {
      "cell_type": "code",
      "execution_count": 110,
      "metadata": {},
      "outputs": [],
      "source": [
        "c = 700"
      ]
    },
    {
      "cell_type": "code",
      "execution_count": 108,
      "metadata": {},
      "outputs": [
        {
          "name": "stdout",
          "output_type": "stream",
          "text": [
            "otra cosa\n"
          ]
        }
      ],
      "source": [
        "if a > b:\n",
        "    print(txt)\n",
        "elif a > c:\n",
        "    print('otra cosa')"
      ]
    },
    {
      "cell_type": "code",
      "execution_count": 111,
      "metadata": {},
      "outputs": [
        {
          "name": "stdout",
          "output_type": "stream",
          "text": [
            "lo último\n"
          ]
        }
      ],
      "source": [
        "if a > b:\n",
        "    print(txt)\n",
        "elif a > c:\n",
        "    print('otra cosa')\n",
        "else:\n",
        "    print('lo último')"
      ]
    },
    {
      "cell_type": "markdown",
      "metadata": {},
      "source": [
        "If en una linea"
      ]
    },
    {
      "cell_type": "code",
      "execution_count": 115,
      "metadata": {},
      "outputs": [
        {
          "name": "stdout",
          "output_type": "stream",
          "text": [
            "a es mayor que b\n"
          ]
        }
      ],
      "source": [
        "a = 30\n",
        "b = 30\n",
        "\n",
        "print('a es menor que b') if a < b else print('a es mayor que b')"
      ]
    },
    {
      "cell_type": "markdown",
      "metadata": {},
      "source": [
        "If anidado"
      ]
    },
    {
      "cell_type": "code",
      "execution_count": 116,
      "metadata": {},
      "outputs": [],
      "source": [
        "if b < a:\n",
        "    if b == 20:\n",
        "        print('b es 20')"
      ]
    },
    {
      "cell_type": "markdown",
      "metadata": {},
      "source": [
        "while"
      ]
    },
    {
      "cell_type": "code",
      "execution_count": 121,
      "metadata": {},
      "outputs": [
        {
          "name": "stdout",
          "output_type": "stream",
          "text": [
            "0\n",
            "0.5\n",
            "1.0\n",
            "1.5\n",
            "2.0\n",
            "2.5\n",
            "3.0\n",
            "3.5\n",
            "4.0\n",
            "4.5\n",
            "5.0\n",
            "5.5\n",
            "6.0\n",
            "6.5\n",
            "7.0\n",
            "7.5\n",
            "8.0\n",
            "8.5\n",
            "9.0\n",
            "9.5\n"
          ]
        }
      ],
      "source": [
        "i = 0\n",
        "\n",
        "while i < 10:\n",
        "    print(i)\n",
        "    i += 0.5\n"
      ]
    },
    {
      "cell_type": "markdown",
      "metadata": {},
      "source": [
        "sentencia break\n"
      ]
    },
    {
      "cell_type": "code",
      "execution_count": 128,
      "metadata": {},
      "outputs": [
        {
          "name": "stdout",
          "output_type": "stream",
          "text": [
            "0\n",
            "1\n",
            "2\n",
            "3\n",
            "4\n"
          ]
        }
      ],
      "source": [
        "i = 0\n",
        "\n",
        "while i < 10:\n",
        "    if i == 5:\n",
        "        break\n",
        "    print(i)\n",
        "    i+=1"
      ]
    },
    {
      "cell_type": "markdown",
      "metadata": {},
      "source": [
        "while else"
      ]
    },
    {
      "cell_type": "code",
      "execution_count": 131,
      "metadata": {},
      "outputs": [
        {
          "name": "stdout",
          "output_type": "stream",
          "text": [
            "0\n",
            "1\n",
            "2\n",
            "3\n",
            "4\n",
            "5\n",
            "6\n",
            "7\n",
            "8\n",
            "9\n",
            "i es mayor que 10\n"
          ]
        }
      ],
      "source": [
        "i = 0\n",
        "\n",
        "while i < 10:\n",
        "    print(i)\n",
        "    i+=1\n",
        "else:\n",
        "    print('i es mayor que 10')"
      ]
    },
    {
      "cell_type": "markdown",
      "metadata": {},
      "source": [
        "for"
      ]
    },
    {
      "cell_type": "code",
      "execution_count": 19,
      "metadata": {},
      "outputs": [],
      "source": [
        "txt = 'en mi casa hay muchos perros y gatos'"
      ]
    },
    {
      "cell_type": "code",
      "execution_count": 5,
      "metadata": {},
      "outputs": [],
      "source": [
        "lista = list(txt)"
      ]
    },
    {
      "cell_type": "code",
      "execution_count": 7,
      "metadata": {},
      "outputs": [
        {
          "data": {
            "text/plain": [
              "['e',\n",
              " 'n',\n",
              " ' ',\n",
              " 'm',\n",
              " 'i',\n",
              " ' ',\n",
              " 'c',\n",
              " 'a',\n",
              " 's',\n",
              " 'a',\n",
              " ' ',\n",
              " 'h',\n",
              " 'a',\n",
              " 'y',\n",
              " ' ',\n",
              " 'm',\n",
              " 'u',\n",
              " 'c',\n",
              " 'h',\n",
              " 'o',\n",
              " 's',\n",
              " ' ',\n",
              " 'p',\n",
              " 'e',\n",
              " 'r',\n",
              " 'r',\n",
              " 'o',\n",
              " 's',\n",
              " ' ',\n",
              " 'y',\n",
              " ' ',\n",
              " 'g',\n",
              " 'a',\n",
              " 't',\n",
              " 'o',\n",
              " 's']"
            ]
          },
          "execution_count": 7,
          "metadata": {},
          "output_type": "execute_result"
        }
      ],
      "source": [
        "lista"
      ]
    },
    {
      "cell_type": "code",
      "execution_count": 15,
      "metadata": {},
      "outputs": [
        {
          "name": "stdout",
          "output_type": "stream",
          "text": [
            "e\n",
            "n\n",
            " \n",
            "m\n",
            "i\n",
            " \n",
            "c\n",
            "a\n",
            "s\n",
            "a\n",
            " \n",
            "h\n",
            "a\n",
            "y\n",
            " \n",
            "m\n",
            "u\n",
            "c\n",
            "h\n",
            "o\n",
            "s\n",
            " \n",
            "p\n",
            "e\n",
            "r\n",
            "r\n",
            "o\n",
            "s\n",
            " \n",
            "y\n",
            " \n",
            "g\n",
            "a\n",
            "t\n",
            "o\n",
            "s\n",
            "e\n",
            "n\n",
            " \n",
            "m\n",
            "i\n",
            " \n",
            "c\n",
            "a\n",
            "s\n",
            "a\n",
            " \n",
            "h\n",
            "a\n",
            "y\n",
            " \n",
            "m\n",
            "u\n",
            "c\n",
            "h\n",
            "o\n",
            "s\n",
            " \n",
            "p\n",
            "e\n",
            "r\n",
            "r\n",
            "o\n",
            "s\n",
            " \n",
            "y\n",
            " \n",
            "g\n",
            "a\n",
            "t\n",
            "o\n",
            "s\n",
            "e\n",
            "n\n",
            " \n",
            "m\n",
            "i\n",
            " \n",
            "c\n",
            "a\n",
            "s\n",
            "a\n",
            " \n",
            "h\n",
            "a\n",
            "y\n",
            " \n",
            "m\n",
            "u\n",
            "c\n",
            "h\n",
            "o\n",
            "s\n",
            " \n",
            "p\n",
            "e\n",
            "r\n",
            "r\n",
            "o\n",
            "s\n",
            " \n",
            "y\n",
            " \n",
            "g\n",
            "a\n",
            "t\n",
            "o\n",
            "s\n",
            "e\n",
            "n\n",
            " \n",
            "m\n",
            "i\n",
            " \n",
            "c\n",
            "a\n",
            "s\n",
            "a\n",
            " \n",
            "h\n",
            "a\n",
            "y\n",
            " \n",
            "m\n",
            "u\n",
            "c\n",
            "h\n",
            "o\n",
            "s\n",
            " \n",
            "p\n",
            "e\n",
            "r\n",
            "r\n",
            "o\n",
            "s\n",
            " \n",
            "y\n",
            " \n",
            "g\n",
            "a\n",
            "t\n",
            "o\n",
            "s\n",
            "e\n",
            "n\n",
            " \n",
            "m\n",
            "i\n",
            " \n",
            "c\n",
            "a\n",
            "s\n",
            "a\n",
            " \n",
            "h\n",
            "a\n",
            "y\n",
            " \n",
            "m\n",
            "u\n",
            "c\n",
            "h\n",
            "o\n",
            "s\n",
            " \n",
            "p\n",
            "e\n",
            "r\n",
            "r\n",
            "o\n",
            "s\n",
            " \n",
            "y\n",
            " \n",
            "g\n",
            "a\n",
            "t\n",
            "o\n",
            "s\n",
            "e\n",
            "n\n",
            " \n",
            "m\n",
            "i\n",
            " \n",
            "c\n",
            "a\n",
            "s\n",
            "a\n",
            " \n",
            "h\n",
            "a\n",
            "y\n",
            " \n",
            "m\n",
            "u\n",
            "c\n",
            "h\n",
            "o\n",
            "s\n",
            " \n",
            "p\n",
            "e\n",
            "r\n",
            "r\n",
            "o\n",
            "s\n",
            " \n",
            "y\n",
            " \n",
            "g\n",
            "a\n",
            "t\n",
            "o\n",
            "s\n",
            "e\n",
            "n\n",
            " \n",
            "m\n",
            "i\n",
            " \n",
            "c\n",
            "a\n",
            "s\n",
            "a\n",
            " \n",
            "h\n",
            "a\n",
            "y\n",
            " \n",
            "m\n",
            "u\n",
            "c\n",
            "h\n",
            "o\n",
            "s\n",
            " \n",
            "p\n",
            "e\n",
            "r\n",
            "r\n",
            "o\n",
            "s\n",
            " \n",
            "y\n",
            " \n",
            "g\n",
            "a\n",
            "t\n",
            "o\n",
            "s\n",
            "e\n",
            "n\n",
            " \n",
            "m\n",
            "i\n",
            " \n",
            "c\n",
            "a\n",
            "s\n",
            "a\n",
            " \n",
            "h\n",
            "a\n",
            "y\n",
            " \n",
            "m\n",
            "u\n",
            "c\n",
            "h\n",
            "o\n",
            "s\n",
            " \n",
            "p\n",
            "e\n",
            "r\n",
            "r\n",
            "o\n",
            "s\n",
            " \n",
            "y\n",
            " \n",
            "g\n",
            "a\n",
            "t\n",
            "o\n",
            "s\n",
            "e\n",
            "n\n",
            " \n",
            "m\n",
            "i\n",
            " \n",
            "c\n",
            "a\n",
            "s\n",
            "a\n",
            " \n",
            "h\n",
            "a\n",
            "y\n",
            " \n",
            "m\n",
            "u\n",
            "c\n",
            "h\n",
            "o\n",
            "s\n",
            " \n",
            "p\n",
            "e\n",
            "r\n",
            "r\n",
            "o\n",
            "s\n",
            " \n",
            "y\n",
            " \n",
            "g\n",
            "a\n",
            "t\n",
            "o\n",
            "s\n",
            "e\n",
            "n\n",
            " \n",
            "m\n",
            "i\n",
            " \n",
            "c\n",
            "a\n",
            "s\n",
            "a\n",
            " \n",
            "h\n",
            "a\n",
            "y\n",
            " \n",
            "m\n",
            "u\n",
            "c\n",
            "h\n",
            "o\n",
            "s\n",
            " \n",
            "p\n",
            "e\n",
            "r\n",
            "r\n",
            "o\n",
            "s\n",
            " \n",
            "y\n",
            " \n",
            "g\n",
            "a\n",
            "t\n",
            "o\n",
            "s\n",
            "e\n",
            "n\n",
            " \n",
            "m\n",
            "i\n",
            " \n",
            "c\n",
            "a\n",
            "s\n",
            "a\n",
            " \n",
            "h\n",
            "a\n",
            "y\n",
            " \n",
            "m\n",
            "u\n",
            "c\n",
            "h\n",
            "o\n",
            "s\n",
            " \n",
            "p\n",
            "e\n",
            "r\n",
            "r\n",
            "o\n",
            "s\n",
            " \n",
            "y\n",
            " \n",
            "g\n",
            "a\n",
            "t\n",
            "o\n",
            "s\n",
            "e\n",
            "n\n",
            " \n",
            "m\n",
            "i\n",
            " \n",
            "c\n",
            "a\n",
            "s\n",
            "a\n",
            " \n",
            "h\n",
            "a\n",
            "y\n",
            " \n",
            "m\n",
            "u\n",
            "c\n",
            "h\n",
            "o\n",
            "s\n",
            " \n",
            "p\n",
            "e\n",
            "r\n",
            "r\n",
            "o\n",
            "s\n",
            " \n",
            "y\n",
            " \n",
            "g\n",
            "a\n",
            "t\n",
            "o\n",
            "s\n",
            "e\n",
            "n\n",
            " \n",
            "m\n",
            "i\n",
            " \n",
            "c\n",
            "a\n",
            "s\n",
            "a\n",
            " \n",
            "h\n",
            "a\n",
            "y\n",
            " \n",
            "m\n",
            "u\n",
            "c\n",
            "h\n",
            "o\n",
            "s\n",
            " \n",
            "p\n",
            "e\n",
            "r\n",
            "r\n",
            "o\n",
            "s\n",
            " \n",
            "y\n",
            " \n",
            "g\n",
            "a\n",
            "t\n",
            "o\n",
            "s\n",
            "e\n",
            "n\n",
            " \n",
            "m\n",
            "i\n",
            " \n",
            "c\n",
            "a\n",
            "s\n",
            "a\n",
            " \n",
            "h\n",
            "a\n",
            "y\n",
            " \n",
            "m\n",
            "u\n",
            "c\n",
            "h\n",
            "o\n",
            "s\n",
            " \n",
            "p\n",
            "e\n",
            "r\n",
            "r\n",
            "o\n",
            "s\n",
            " \n",
            "y\n",
            " \n",
            "g\n",
            "a\n",
            "t\n",
            "o\n",
            "s\n",
            "e\n",
            "n\n",
            " \n",
            "m\n",
            "i\n",
            " \n",
            "c\n",
            "a\n",
            "s\n",
            "a\n",
            " \n",
            "h\n",
            "a\n",
            "y\n",
            " \n",
            "m\n",
            "u\n",
            "c\n",
            "h\n",
            "o\n",
            "s\n",
            " \n",
            "p\n",
            "e\n",
            "r\n",
            "r\n",
            "o\n",
            "s\n",
            " \n",
            "y\n",
            " \n",
            "g\n",
            "a\n",
            "t\n",
            "o\n",
            "s\n",
            "e\n",
            "n\n",
            " \n",
            "m\n",
            "i\n",
            " \n",
            "c\n",
            "a\n",
            "s\n",
            "a\n",
            " \n",
            "h\n",
            "a\n",
            "y\n",
            " \n",
            "m\n",
            "u\n",
            "c\n",
            "h\n",
            "o\n",
            "s\n",
            " \n",
            "p\n",
            "e\n",
            "r\n",
            "r\n",
            "o\n",
            "s\n",
            " \n",
            "y\n",
            " \n",
            "g\n",
            "a\n",
            "t\n",
            "o\n",
            "s\n",
            "e\n",
            "n\n",
            " \n",
            "m\n",
            "i\n",
            " \n",
            "c\n",
            "a\n",
            "s\n",
            "a\n",
            " \n",
            "h\n",
            "a\n",
            "y\n",
            " \n",
            "m\n",
            "u\n",
            "c\n",
            "h\n",
            "o\n",
            "s\n",
            " \n",
            "p\n",
            "e\n",
            "r\n",
            "r\n",
            "o\n",
            "s\n",
            " \n",
            "y\n",
            " \n",
            "g\n",
            "a\n",
            "t\n",
            "o\n",
            "s\n",
            "e\n",
            "n\n",
            " \n",
            "m\n",
            "i\n",
            " \n",
            "c\n",
            "a\n",
            "s\n",
            "a\n",
            " \n",
            "h\n",
            "a\n",
            "y\n",
            " \n",
            "m\n",
            "u\n",
            "c\n",
            "h\n",
            "o\n",
            "s\n",
            " \n",
            "p\n",
            "e\n",
            "r\n",
            "r\n",
            "o\n",
            "s\n",
            " \n",
            "y\n",
            " \n",
            "g\n",
            "a\n",
            "t\n",
            "o\n",
            "s\n",
            "e\n",
            "n\n",
            " \n",
            "m\n",
            "i\n",
            " \n",
            "c\n",
            "a\n",
            "s\n",
            "a\n",
            " \n",
            "h\n",
            "a\n",
            "y\n",
            " \n",
            "m\n",
            "u\n",
            "c\n",
            "h\n",
            "o\n",
            "s\n",
            " \n",
            "p\n",
            "e\n",
            "r\n",
            "r\n",
            "o\n",
            "s\n",
            " \n",
            "y\n",
            " \n",
            "g\n",
            "a\n",
            "t\n",
            "o\n",
            "s\n",
            "e\n",
            "n\n",
            " \n",
            "m\n",
            "i\n",
            " \n",
            "c\n",
            "a\n",
            "s\n",
            "a\n",
            " \n",
            "h\n",
            "a\n",
            "y\n",
            " \n",
            "m\n",
            "u\n",
            "c\n",
            "h\n",
            "o\n",
            "s\n",
            " \n",
            "p\n",
            "e\n",
            "r\n",
            "r\n",
            "o\n",
            "s\n",
            " \n",
            "y\n",
            " \n",
            "g\n",
            "a\n",
            "t\n",
            "o\n",
            "s\n",
            "e\n",
            "n\n",
            " \n",
            "m\n",
            "i\n",
            " \n",
            "c\n",
            "a\n",
            "s\n",
            "a\n",
            " \n",
            "h\n",
            "a\n",
            "y\n",
            " \n",
            "m\n",
            "u\n",
            "c\n",
            "h\n",
            "o\n",
            "s\n",
            " \n",
            "p\n",
            "e\n",
            "r\n",
            "r\n",
            "o\n",
            "s\n",
            " \n",
            "y\n",
            " \n",
            "g\n",
            "a\n",
            "t\n",
            "o\n",
            "s\n",
            "e\n",
            "n\n",
            " \n",
            "m\n",
            "i\n",
            " \n",
            "c\n",
            "a\n",
            "s\n",
            "a\n",
            " \n",
            "h\n",
            "a\n",
            "y\n",
            " \n",
            "m\n",
            "u\n",
            "c\n",
            "h\n",
            "o\n",
            "s\n",
            " \n",
            "p\n",
            "e\n",
            "r\n",
            "r\n",
            "o\n",
            "s\n",
            " \n",
            "y\n",
            " \n",
            "g\n",
            "a\n",
            "t\n",
            "o\n",
            "s\n",
            "e\n",
            "n\n",
            " \n",
            "m\n",
            "i\n",
            " \n",
            "c\n",
            "a\n",
            "s\n",
            "a\n",
            " \n",
            "h\n",
            "a\n",
            "y\n",
            " \n",
            "m\n",
            "u\n",
            "c\n",
            "h\n",
            "o\n",
            "s\n",
            " \n",
            "p\n",
            "e\n",
            "r\n",
            "r\n",
            "o\n",
            "s\n",
            " \n",
            "y\n",
            " \n",
            "g\n",
            "a\n",
            "t\n",
            "o\n",
            "s\n",
            "e\n",
            "n\n",
            " \n",
            "m\n",
            "i\n",
            " \n",
            "c\n",
            "a\n",
            "s\n",
            "a\n",
            " \n",
            "h\n",
            "a\n",
            "y\n",
            " \n",
            "m\n",
            "u\n",
            "c\n",
            "h\n",
            "o\n",
            "s\n",
            " \n",
            "p\n",
            "e\n",
            "r\n",
            "r\n",
            "o\n",
            "s\n",
            " \n",
            "y\n",
            " \n",
            "g\n",
            "a\n",
            "t\n",
            "o\n",
            "s\n",
            "e\n",
            "n\n",
            " \n",
            "m\n",
            "i\n",
            " \n",
            "c\n",
            "a\n",
            "s\n",
            "a\n",
            " \n",
            "h\n",
            "a\n",
            "y\n",
            " \n",
            "m\n",
            "u\n",
            "c\n",
            "h\n",
            "o\n",
            "s\n",
            " \n",
            "p\n",
            "e\n",
            "r\n",
            "r\n",
            "o\n",
            "s\n",
            " \n",
            "y\n",
            " \n",
            "g\n",
            "a\n",
            "t\n",
            "o\n",
            "s\n",
            "e\n",
            "n\n",
            " \n",
            "m\n",
            "i\n",
            " \n",
            "c\n",
            "a\n",
            "s\n",
            "a\n",
            " \n",
            "h\n",
            "a\n",
            "y\n",
            " \n",
            "m\n",
            "u\n",
            "c\n",
            "h\n",
            "o\n",
            "s\n",
            " \n",
            "p\n",
            "e\n",
            "r\n",
            "r\n",
            "o\n",
            "s\n",
            " \n",
            "y\n",
            " \n",
            "g\n",
            "a\n",
            "t\n",
            "o\n",
            "s\n",
            "e\n",
            "n\n",
            " \n",
            "m\n",
            "i\n",
            " \n",
            "c\n",
            "a\n",
            "s\n",
            "a\n",
            " \n",
            "h\n",
            "a\n",
            "y\n",
            " \n",
            "m\n",
            "u\n",
            "c\n",
            "h\n",
            "o\n",
            "s\n",
            " \n",
            "p\n",
            "e\n",
            "r\n",
            "r\n",
            "o\n",
            "s\n",
            " \n",
            "y\n",
            " \n",
            "g\n",
            "a\n",
            "t\n",
            "o\n",
            "s\n",
            "e\n",
            "n\n",
            " \n",
            "m\n",
            "i\n",
            " \n",
            "c\n",
            "a\n",
            "s\n",
            "a\n",
            " \n",
            "h\n",
            "a\n",
            "y\n",
            " \n",
            "m\n",
            "u\n",
            "c\n",
            "h\n",
            "o\n",
            "s\n",
            " \n",
            "p\n",
            "e\n",
            "r\n",
            "r\n",
            "o\n",
            "s\n",
            " \n",
            "y\n",
            " \n",
            "g\n",
            "a\n",
            "t\n",
            "o\n",
            "s\n",
            "e\n",
            "n\n",
            " \n",
            "m\n",
            "i\n",
            " \n",
            "c\n",
            "a\n",
            "s\n",
            "a\n",
            " \n",
            "h\n",
            "a\n",
            "y\n",
            " \n",
            "m\n",
            "u\n",
            "c\n",
            "h\n",
            "o\n",
            "s\n",
            " \n",
            "p\n",
            "e\n",
            "r\n",
            "r\n",
            "o\n",
            "s\n",
            " \n",
            "y\n",
            " \n",
            "g\n",
            "a\n",
            "t\n",
            "o\n",
            "s\n",
            "e\n",
            "n\n",
            " \n",
            "m\n",
            "i\n",
            " \n",
            "c\n",
            "a\n",
            "s\n",
            "a\n",
            " \n",
            "h\n",
            "a\n",
            "y\n",
            " \n",
            "m\n",
            "u\n",
            "c\n",
            "h\n",
            "o\n",
            "s\n",
            " \n",
            "p\n",
            "e\n",
            "r\n",
            "r\n",
            "o\n",
            "s\n",
            " \n",
            "y\n",
            " \n",
            "g\n",
            "a\n",
            "t\n",
            "o\n",
            "s\n",
            "e\n",
            "n\n",
            " \n",
            "m\n",
            "i\n",
            " \n",
            "c\n",
            "a\n",
            "s\n",
            "a\n",
            " \n",
            "h\n",
            "a\n",
            "y\n",
            " \n",
            "m\n",
            "u\n",
            "c\n",
            "h\n",
            "o\n",
            "s\n",
            " \n",
            "p\n",
            "e\n",
            "r\n",
            "r\n",
            "o\n",
            "s\n",
            " \n",
            "y\n",
            " \n",
            "g\n",
            "a\n",
            "t\n",
            "o\n",
            "s\n",
            "e\n",
            "n\n",
            " \n",
            "m\n",
            "i\n",
            " \n",
            "c\n",
            "a\n",
            "s\n",
            "a\n",
            " \n",
            "h\n",
            "a\n",
            "y\n",
            " \n",
            "m\n",
            "u\n",
            "c\n",
            "h\n",
            "o\n",
            "s\n",
            " \n",
            "p\n",
            "e\n",
            "r\n",
            "r\n",
            "o\n",
            "s\n",
            " \n",
            "y\n",
            " \n",
            "g\n",
            "a\n",
            "t\n",
            "o\n",
            "s\n",
            "e\n",
            "n\n",
            " \n",
            "m\n",
            "i\n",
            " \n",
            "c\n",
            "a\n",
            "s\n",
            "a\n",
            " \n",
            "h\n",
            "a\n",
            "y\n",
            " \n",
            "m\n",
            "u\n",
            "c\n",
            "h\n",
            "o\n",
            "s\n",
            " \n",
            "p\n",
            "e\n",
            "r\n",
            "r\n",
            "o\n",
            "s\n",
            " \n",
            "y\n",
            " \n",
            "g\n",
            "a\n",
            "t\n",
            "o\n",
            "s\n",
            "e\n",
            "n\n",
            " \n",
            "m\n",
            "i\n",
            " \n",
            "c\n",
            "a\n",
            "s\n",
            "a\n",
            " \n",
            "h\n",
            "a\n",
            "y\n",
            " \n",
            "m\n",
            "u\n",
            "c\n",
            "h\n",
            "o\n",
            "s\n",
            " \n",
            "p\n",
            "e\n",
            "r\n",
            "r\n",
            "o\n",
            "s\n",
            " \n",
            "y\n",
            " \n",
            "g\n",
            "a\n",
            "t\n",
            "o\n",
            "s\n",
            "e\n",
            "n\n",
            " \n",
            "m\n",
            "i\n",
            " \n",
            "c\n",
            "a\n",
            "s\n",
            "a\n",
            " \n",
            "h\n",
            "a\n",
            "y\n",
            " \n",
            "m\n",
            "u\n",
            "c\n",
            "h\n",
            "o\n",
            "s\n",
            " \n",
            "p\n",
            "e\n",
            "r\n",
            "r\n",
            "o\n",
            "s\n",
            " \n",
            "y\n",
            " \n",
            "g\n",
            "a\n",
            "t\n",
            "o\n",
            "s\n",
            "e\n",
            "n\n",
            " \n",
            "m\n",
            "i\n",
            " \n",
            "c\n",
            "a\n",
            "s\n",
            "a\n",
            " \n",
            "h\n",
            "a\n",
            "y\n",
            " \n",
            "m\n",
            "u\n",
            "c\n",
            "h\n",
            "o\n",
            "s\n",
            " \n",
            "p\n",
            "e\n",
            "r\n",
            "r\n",
            "o\n",
            "s\n",
            " \n",
            "y\n",
            " \n",
            "g\n",
            "a\n",
            "t\n",
            "o\n",
            "s\n",
            "e\n",
            "n\n",
            " \n",
            "m\n",
            "i\n",
            " \n",
            "c\n",
            "a\n",
            "s\n",
            "a\n",
            " \n",
            "h\n",
            "a\n",
            "y\n",
            " \n",
            "m\n",
            "u\n",
            "c\n",
            "h\n",
            "o\n",
            "s\n",
            " \n",
            "p\n",
            "e\n",
            "r\n",
            "r\n",
            "o\n",
            "s\n",
            " \n",
            "y\n",
            " \n",
            "g\n",
            "a\n",
            "t\n",
            "o\n",
            "s\n",
            "e\n",
            "n\n",
            " \n",
            "m\n",
            "i\n",
            " \n",
            "c\n",
            "a\n",
            "s\n",
            "a\n",
            " \n",
            "h\n",
            "a\n",
            "y\n",
            " \n",
            "m\n",
            "u\n",
            "c\n",
            "h\n",
            "o\n",
            "s\n",
            " \n",
            "p\n",
            "e\n",
            "r\n",
            "r\n",
            "o\n",
            "s\n",
            " \n",
            "y\n",
            " \n",
            "g\n",
            "a\n",
            "t\n",
            "o\n",
            "s\n",
            "e\n",
            "n\n",
            " \n",
            "m\n",
            "i\n",
            " \n",
            "c\n",
            "a\n",
            "s\n",
            "a\n",
            " \n",
            "h\n",
            "a\n",
            "y\n",
            " \n",
            "m\n",
            "u\n",
            "c\n",
            "h\n",
            "o\n",
            "s\n",
            " \n",
            "p\n",
            "e\n",
            "r\n",
            "r\n",
            "o\n",
            "s\n",
            " \n",
            "y\n",
            " \n",
            "g\n",
            "a\n",
            "t\n",
            "o\n",
            "s\n",
            "e\n",
            "n\n",
            " \n",
            "m\n",
            "i\n",
            " \n",
            "c\n",
            "a\n",
            "s\n",
            "a\n",
            " \n",
            "h\n",
            "a\n",
            "y\n",
            " \n",
            "m\n",
            "u\n",
            "c\n",
            "h\n",
            "o\n",
            "s\n",
            " \n",
            "p\n",
            "e\n",
            "r\n",
            "r\n",
            "o\n",
            "s\n",
            " \n",
            "y\n",
            " \n",
            "g\n",
            "a\n",
            "t\n",
            "o\n",
            "s\n",
            "e\n",
            "n\n",
            " \n",
            "m\n",
            "i\n",
            " \n",
            "c\n",
            "a\n",
            "s\n",
            "a\n",
            " \n",
            "h\n",
            "a\n",
            "y\n",
            " \n",
            "m\n",
            "u\n",
            "c\n",
            "h\n",
            "o\n",
            "s\n",
            " \n",
            "p\n",
            "e\n",
            "r\n",
            "r\n",
            "o\n",
            "s\n",
            " \n",
            "y\n",
            " \n",
            "g\n",
            "a\n",
            "t\n",
            "o\n",
            "s\n",
            "e\n",
            "n\n",
            " \n",
            "m\n",
            "i\n",
            " \n",
            "c\n",
            "a\n",
            "s\n",
            "a\n",
            " \n",
            "h\n",
            "a\n",
            "y\n",
            " \n",
            "m\n",
            "u\n",
            "c\n",
            "h\n",
            "o\n",
            "s\n",
            " \n",
            "p\n",
            "e\n",
            "r\n",
            "r\n",
            "o\n",
            "s\n",
            " \n",
            "y\n",
            " \n",
            "g\n",
            "a\n",
            "t\n",
            "o\n",
            "s\n",
            "e\n",
            "n\n",
            " \n",
            "m\n",
            "i\n",
            " \n",
            "c\n",
            "a\n",
            "s\n",
            "a\n",
            " \n",
            "h\n",
            "a\n",
            "y\n",
            " \n",
            "m\n",
            "u\n",
            "c\n",
            "h\n",
            "o\n",
            "s\n",
            " \n",
            "p\n",
            "e\n",
            "r\n",
            "r\n",
            "o\n",
            "s\n",
            " \n",
            "y\n",
            " \n",
            "g\n",
            "a\n",
            "t\n",
            "o\n",
            "s\n",
            "e\n",
            "n\n",
            " \n",
            "m\n",
            "i\n",
            " \n",
            "c\n",
            "a\n",
            "s\n",
            "a\n",
            " \n",
            "h\n",
            "a\n",
            "y\n",
            " \n",
            "m\n",
            "u\n",
            "c\n",
            "h\n",
            "o\n",
            "s\n",
            " \n",
            "p\n",
            "e\n",
            "r\n",
            "r\n",
            "o\n",
            "s\n",
            " \n",
            "y\n",
            " \n",
            "g\n",
            "a\n",
            "t\n",
            "o\n",
            "s\n",
            "e\n",
            "n\n",
            " \n",
            "m\n",
            "i\n",
            " \n",
            "c\n",
            "a\n",
            "s\n",
            "a\n",
            " \n",
            "h\n",
            "a\n",
            "y\n",
            " \n",
            "m\n",
            "u\n",
            "c\n",
            "h\n",
            "o\n",
            "s\n",
            " \n",
            "p\n",
            "e\n",
            "r\n",
            "r\n",
            "o\n",
            "s\n",
            " \n",
            "y\n",
            " \n",
            "g\n",
            "a\n",
            "t\n",
            "o\n",
            "s\n",
            "e\n",
            "n\n",
            " \n",
            "m\n",
            "i\n",
            " \n",
            "c\n",
            "a\n",
            "s\n",
            "a\n",
            " \n",
            "h\n",
            "a\n",
            "y\n",
            " \n",
            "m\n",
            "u\n",
            "c\n",
            "h\n",
            "o\n",
            "s\n",
            " \n",
            "p\n",
            "e\n",
            "r\n",
            "r\n",
            "o\n",
            "s\n",
            " \n",
            "y\n",
            " \n",
            "g\n",
            "a\n",
            "t\n",
            "o\n",
            "s\n",
            "e\n",
            "n\n",
            " \n",
            "m\n",
            "i\n",
            " \n",
            "c\n",
            "a\n",
            "s\n",
            "a\n",
            " \n",
            "h\n",
            "a\n",
            "y\n",
            " \n",
            "m\n",
            "u\n",
            "c\n",
            "h\n",
            "o\n",
            "s\n",
            " \n",
            "p\n",
            "e\n",
            "r\n",
            "r\n",
            "o\n",
            "s\n",
            " \n",
            "y\n",
            " \n",
            "g\n",
            "a\n",
            "t\n",
            "o\n",
            "s\n",
            "e\n",
            "n\n",
            " \n",
            "m\n",
            "i\n",
            " \n",
            "c\n",
            "a\n",
            "s\n",
            "a\n",
            " \n",
            "h\n",
            "a\n",
            "y\n",
            " \n",
            "m\n",
            "u\n",
            "c\n",
            "h\n",
            "o\n",
            "s\n",
            " \n",
            "p\n",
            "e\n",
            "r\n",
            "r\n",
            "o\n",
            "s\n",
            " \n",
            "y\n",
            " \n",
            "g\n",
            "a\n",
            "t\n",
            "o\n",
            "s\n",
            "e\n",
            "n\n",
            " \n",
            "m\n",
            "i\n",
            " \n",
            "c\n",
            "a\n",
            "s\n",
            "a\n",
            " \n",
            "h\n",
            "a\n",
            "y\n",
            " \n",
            "m\n",
            "u\n",
            "c\n",
            "h\n",
            "o\n",
            "s\n",
            " \n",
            "p\n",
            "e\n",
            "r\n",
            "r\n",
            "o\n",
            "s\n",
            " \n",
            "y\n",
            " \n",
            "g\n",
            "a\n",
            "t\n",
            "o\n",
            "s\n",
            "e\n",
            "n\n",
            " \n",
            "m\n",
            "i\n",
            " \n",
            "c\n",
            "a\n",
            "s\n",
            "a\n",
            " \n",
            "h\n",
            "a\n",
            "y\n",
            " \n",
            "m\n",
            "u\n",
            "c\n",
            "h\n",
            "o\n",
            "s\n",
            " \n",
            "p\n",
            "e\n",
            "r\n",
            "r\n",
            "o\n",
            "s\n",
            " \n",
            "y\n",
            " \n",
            "g\n",
            "a\n",
            "t\n",
            "o\n",
            "s\n",
            "e\n",
            "n\n",
            " \n",
            "m\n",
            "i\n",
            " \n",
            "c\n",
            "a\n",
            "s\n",
            "a\n",
            " \n",
            "h\n",
            "a\n",
            "y\n",
            " \n",
            "m\n",
            "u\n",
            "c\n",
            "h\n",
            "o\n",
            "s\n",
            " \n",
            "p\n",
            "e\n",
            "r\n",
            "r\n",
            "o\n",
            "s\n",
            " \n",
            "y\n",
            " \n",
            "g\n",
            "a\n",
            "t\n",
            "o\n",
            "s\n",
            "e\n",
            "n\n",
            " \n",
            "m\n",
            "i\n",
            " \n",
            "c\n",
            "a\n",
            "s\n",
            "a\n",
            " \n",
            "h\n",
            "a\n",
            "y\n",
            " \n",
            "m\n",
            "u\n",
            "c\n",
            "h\n",
            "o\n",
            "s\n",
            " \n",
            "p\n",
            "e\n",
            "r\n",
            "r\n",
            "o\n",
            "s\n",
            " \n",
            "y\n",
            " \n",
            "g\n",
            "a\n",
            "t\n",
            "o\n",
            "s\n",
            "e\n",
            "n\n",
            " \n",
            "m\n",
            "i\n",
            " \n",
            "c\n",
            "a\n",
            "s\n",
            "a\n",
            " \n",
            "h\n",
            "a\n",
            "y\n",
            " \n",
            "m\n",
            "u\n",
            "c\n",
            "h\n",
            "o\n",
            "s\n",
            " \n",
            "p\n",
            "e\n",
            "r\n",
            "r\n",
            "o\n",
            "s\n",
            " \n",
            "y\n",
            " \n",
            "g\n",
            "a\n",
            "t\n",
            "o\n",
            "s\n",
            "e\n",
            "n\n",
            " \n",
            "m\n",
            "i\n",
            " \n",
            "c\n",
            "a\n",
            "s\n",
            "a\n",
            " \n",
            "h\n",
            "a\n",
            "y\n",
            " \n",
            "m\n",
            "u\n",
            "c\n",
            "h\n",
            "o\n",
            "s\n",
            " \n",
            "p\n",
            "e\n",
            "r\n",
            "r\n",
            "o\n",
            "s\n",
            " \n",
            "y\n",
            " \n",
            "g\n",
            "a\n",
            "t\n",
            "o\n",
            "s\n",
            "e\n",
            "n\n",
            " \n",
            "m\n",
            "i\n",
            " \n",
            "c\n",
            "a\n",
            "s\n",
            "a\n",
            " \n",
            "h\n",
            "a\n",
            "y\n",
            " \n",
            "m\n",
            "u\n",
            "c\n",
            "h\n",
            "o\n",
            "s\n",
            " \n",
            "p\n",
            "e\n",
            "r\n",
            "r\n",
            "o\n",
            "s\n",
            " \n",
            "y\n",
            " \n",
            "g\n",
            "a\n",
            "t\n",
            "o\n",
            "s\n",
            "e\n",
            "n\n",
            " \n",
            "m\n",
            "i\n",
            " \n",
            "c\n",
            "a\n",
            "s\n",
            "a\n",
            " \n",
            "h\n",
            "a\n",
            "y\n",
            " \n",
            "m\n",
            "u\n",
            "c\n",
            "h\n",
            "o\n",
            "s\n",
            " \n",
            "p\n",
            "e\n",
            "r\n",
            "r\n",
            "o\n",
            "s\n",
            " \n",
            "y\n",
            " \n",
            "g\n",
            "a\n",
            "t\n",
            "o\n",
            "s\n",
            "e\n",
            "n\n",
            " \n",
            "m\n",
            "i\n",
            " \n",
            "c\n",
            "a\n",
            "s\n",
            "a\n",
            " \n",
            "h\n",
            "a\n",
            "y\n",
            " \n",
            "m\n",
            "u\n",
            "c\n",
            "h\n",
            "o\n",
            "s\n",
            " \n",
            "p\n",
            "e\n",
            "r\n",
            "r\n",
            "o\n",
            "s\n",
            " \n",
            "y\n",
            " \n",
            "g\n",
            "a\n",
            "t\n",
            "o\n",
            "s\n",
            "e\n",
            "n\n",
            " \n",
            "m\n",
            "i\n",
            " \n",
            "c\n",
            "a\n",
            "s\n",
            "a\n",
            " \n",
            "h\n",
            "a\n",
            "y\n",
            " \n",
            "m\n",
            "u\n",
            "c\n",
            "h\n",
            "o\n",
            "s\n",
            " \n",
            "p\n",
            "e\n",
            "r\n",
            "r\n",
            "o\n",
            "s\n",
            " \n",
            "y\n",
            " \n",
            "g\n",
            "a\n",
            "t\n",
            "o\n",
            "s\n",
            "e\n",
            "n\n",
            " \n",
            "m\n",
            "i\n",
            " \n",
            "c\n",
            "a\n",
            "s\n",
            "a\n",
            " \n",
            "h\n",
            "a\n",
            "y\n",
            " \n",
            "m\n",
            "u\n",
            "c\n",
            "h\n",
            "o\n",
            "s\n",
            " \n",
            "p\n",
            "e\n",
            "r\n",
            "r\n",
            "o\n",
            "s\n",
            " \n",
            "y\n",
            " \n",
            "g\n",
            "a\n",
            "t\n",
            "o\n",
            "s\n",
            "e\n",
            "n\n",
            " \n",
            "m\n",
            "i\n",
            " \n",
            "c\n",
            "a\n",
            "s\n",
            "a\n",
            " \n",
            "h\n",
            "a\n",
            "y\n",
            " \n",
            "m\n",
            "u\n",
            "c\n",
            "h\n",
            "o\n",
            "s\n",
            " \n",
            "p\n",
            "e\n",
            "r\n",
            "r\n",
            "o\n",
            "s\n",
            " \n",
            "y\n",
            " \n",
            "g\n",
            "a\n",
            "t\n",
            "o\n",
            "s\n",
            "e\n",
            "n\n",
            " \n",
            "m\n",
            "i\n",
            " \n",
            "c\n",
            "a\n",
            "s\n",
            "a\n",
            " \n",
            "h\n",
            "a\n",
            "y\n",
            " \n",
            "m\n",
            "u\n",
            "c\n",
            "h\n",
            "o\n",
            "s\n",
            " \n",
            "p\n",
            "e\n",
            "r\n",
            "r\n",
            "o\n",
            "s\n",
            " \n",
            "y\n",
            " \n",
            "g\n",
            "a\n",
            "t\n",
            "o\n",
            "s\n",
            "e\n",
            "n\n",
            " \n",
            "m\n",
            "i\n",
            " \n",
            "c\n",
            "a\n",
            "s\n",
            "a\n",
            " \n",
            "h\n",
            "a\n",
            "y\n",
            " \n",
            "m\n",
            "u\n",
            "c\n",
            "h\n",
            "o\n",
            "s\n",
            " \n",
            "p\n",
            "e\n",
            "r\n",
            "r\n",
            "o\n",
            "s\n",
            " \n",
            "y\n",
            " \n",
            "g\n",
            "a\n",
            "t\n",
            "o\n",
            "s\n",
            "e\n",
            "n\n",
            " \n",
            "m\n",
            "i\n",
            " \n",
            "c\n",
            "a\n",
            "s\n",
            "a\n",
            " \n",
            "h\n",
            "a\n",
            "y\n",
            " \n",
            "m\n",
            "u\n",
            "c\n",
            "h\n",
            "o\n",
            "s\n",
            " \n",
            "p\n",
            "e\n",
            "r\n",
            "r\n",
            "o\n",
            "s\n",
            " \n",
            "y\n",
            " \n",
            "g\n",
            "a\n",
            "t\n",
            "o\n",
            "s\n",
            "e\n",
            "n\n",
            " \n",
            "m\n",
            "i\n",
            " \n",
            "c\n",
            "a\n",
            "s\n",
            "a\n",
            " \n",
            "h\n",
            "a\n",
            "y\n",
            " \n",
            "m\n",
            "u\n",
            "c\n",
            "h\n",
            "o\n",
            "s\n",
            " \n",
            "p\n",
            "e\n",
            "r\n",
            "r\n",
            "o\n",
            "s\n",
            " \n",
            "y\n",
            " \n",
            "g\n",
            "a\n",
            "t\n",
            "o\n",
            "s\n",
            "e\n",
            "n\n",
            " \n",
            "m\n",
            "i\n",
            " \n",
            "c\n",
            "a\n",
            "s\n",
            "a\n",
            " \n",
            "h\n",
            "a\n",
            "y\n",
            " \n",
            "m\n",
            "u\n",
            "c\n",
            "h\n",
            "o\n",
            "s\n",
            " \n",
            "p\n",
            "e\n",
            "r\n",
            "r\n",
            "o\n",
            "s\n",
            " \n",
            "y\n",
            " \n",
            "g\n",
            "a\n",
            "t\n",
            "o\n",
            "s\n",
            "e\n",
            "n\n",
            " \n",
            "m\n",
            "i\n",
            " \n",
            "c\n",
            "a\n",
            "s\n",
            "a\n",
            " \n",
            "h\n",
            "a\n",
            "y\n",
            " \n",
            "m\n",
            "u\n",
            "c\n",
            "h\n",
            "o\n",
            "s\n",
            " \n",
            "p\n",
            "e\n",
            "r\n",
            "r\n",
            "o\n",
            "s\n",
            " \n",
            "y\n",
            " \n",
            "g\n",
            "a\n",
            "t\n",
            "o\n",
            "s\n",
            "e\n",
            "n\n",
            " \n",
            "m\n",
            "i\n",
            " \n",
            "c\n",
            "a\n",
            "s\n",
            "a\n",
            " \n",
            "h\n",
            "a\n",
            "y\n",
            " \n",
            "m\n",
            "u\n",
            "c\n",
            "h\n",
            "o\n",
            "s\n",
            " \n",
            "p\n",
            "e\n",
            "r\n",
            "r\n",
            "o\n",
            "s\n",
            " \n",
            "y\n",
            " \n",
            "g\n",
            "a\n",
            "t\n",
            "o\n",
            "s\n",
            "e\n",
            "n\n",
            " \n",
            "m\n",
            "i\n",
            " \n",
            "c\n",
            "a\n",
            "s\n",
            "a\n",
            " \n",
            "h\n",
            "a\n",
            "y\n",
            " \n",
            "m\n",
            "u\n",
            "c\n",
            "h\n",
            "o\n",
            "s\n",
            " \n",
            "p\n",
            "e\n",
            "r\n",
            "r\n",
            "o\n",
            "s\n",
            " \n",
            "y\n",
            " \n",
            "g\n",
            "a\n",
            "t\n",
            "o\n",
            "s\n",
            "e\n",
            "n\n",
            " \n",
            "m\n",
            "i\n",
            " \n",
            "c\n",
            "a\n",
            "s\n",
            "a\n",
            " \n",
            "h\n",
            "a\n",
            "y\n",
            " \n",
            "m\n",
            "u\n",
            "c\n",
            "h\n",
            "o\n",
            "s\n",
            " \n",
            "p\n",
            "e\n",
            "r\n",
            "r\n",
            "o\n",
            "s\n",
            " \n",
            "y\n",
            " \n",
            "g\n",
            "a\n",
            "t\n",
            "o\n",
            "s\n",
            "e\n",
            "n\n",
            " \n",
            "m\n",
            "i\n",
            " \n",
            "c\n",
            "a\n",
            "s\n",
            "a\n",
            " \n",
            "h\n",
            "a\n",
            "y\n",
            " \n",
            "m\n",
            "u\n",
            "c\n",
            "h\n",
            "o\n",
            "s\n",
            " \n",
            "p\n",
            "e\n",
            "r\n",
            "r\n",
            "o\n",
            "s\n",
            " \n",
            "y\n",
            " \n",
            "g\n",
            "a\n",
            "t\n",
            "o\n",
            "s\n",
            "e\n",
            "n\n",
            " \n",
            "m\n",
            "i\n",
            " \n",
            "c\n",
            "a\n",
            "s\n",
            "a\n",
            " \n",
            "h\n",
            "a\n",
            "y\n",
            " \n",
            "m\n",
            "u\n",
            "c\n",
            "h\n",
            "o\n",
            "s\n",
            " \n",
            "p\n",
            "e\n",
            "r\n",
            "r\n",
            "o\n",
            "s\n",
            " \n",
            "y\n",
            " \n",
            "g\n",
            "a\n",
            "t\n",
            "o\n",
            "s\n",
            "e\n",
            "n\n",
            " \n",
            "m\n",
            "i\n",
            " \n",
            "c\n",
            "a\n",
            "s\n",
            "a\n",
            " \n",
            "h\n",
            "a\n",
            "y\n",
            " \n",
            "m\n",
            "u\n",
            "c\n",
            "h\n",
            "o\n",
            "s\n",
            " \n",
            "p\n",
            "e\n",
            "r\n",
            "r\n",
            "o\n",
            "s\n",
            " \n",
            "y\n",
            " \n",
            "g\n",
            "a\n",
            "t\n",
            "o\n",
            "s\n",
            "e\n",
            "n\n",
            " \n",
            "m\n",
            "i\n",
            " \n",
            "c\n",
            "a\n",
            "s\n",
            "a\n",
            " \n",
            "h\n",
            "a\n",
            "y\n",
            " \n",
            "m\n",
            "u\n",
            "c\n",
            "h\n",
            "o\n",
            "s\n",
            " \n",
            "p\n",
            "e\n",
            "r\n",
            "r\n",
            "o\n",
            "s\n",
            " \n",
            "y\n",
            " \n",
            "g\n",
            "a\n",
            "t\n",
            "o\n",
            "s\n",
            "e\n",
            "n\n",
            " \n",
            "m\n",
            "i\n",
            " \n",
            "c\n",
            "a\n",
            "s\n",
            "a\n",
            " \n",
            "h\n",
            "a\n",
            "y\n",
            " \n",
            "m\n",
            "u\n",
            "c\n",
            "h\n",
            "o\n",
            "s\n",
            " \n",
            "p\n",
            "e\n",
            "r\n",
            "r\n",
            "o\n",
            "s\n",
            " \n",
            "y\n",
            " \n",
            "g\n",
            "a\n",
            "t\n",
            "o\n",
            "s\n",
            "e\n",
            "n\n",
            " \n",
            "m\n",
            "i\n",
            " \n",
            "c\n",
            "a\n",
            "s\n",
            "a\n",
            " \n",
            "h\n",
            "a\n",
            "y\n",
            " \n",
            "m\n",
            "u\n",
            "c\n",
            "h\n",
            "o\n",
            "s\n",
            " \n",
            "p\n",
            "e\n",
            "r\n",
            "r\n",
            "o\n",
            "s\n",
            " \n",
            "y\n",
            " \n",
            "g\n",
            "a\n",
            "t\n",
            "o\n",
            "s\n",
            "e\n",
            "n\n",
            " \n",
            "m\n",
            "i\n",
            " \n",
            "c\n",
            "a\n",
            "s\n",
            "a\n",
            " \n",
            "h\n",
            "a\n",
            "y\n",
            " \n",
            "m\n",
            "u\n",
            "c\n",
            "h\n",
            "o\n",
            "s\n",
            " \n",
            "p\n",
            "e\n",
            "r\n",
            "r\n",
            "o\n",
            "s\n",
            " \n",
            "y\n",
            " \n",
            "g\n",
            "a\n",
            "t\n",
            "o\n",
            "s\n",
            "e\n",
            "n\n",
            " \n",
            "m\n",
            "i\n",
            " \n",
            "c\n",
            "a\n",
            "s\n",
            "a\n",
            " \n",
            "h\n",
            "a\n",
            "y\n",
            " \n",
            "m\n",
            "u\n",
            "c\n",
            "h\n",
            "o\n",
            "s\n",
            " \n",
            "p\n",
            "e\n",
            "r\n",
            "r\n",
            "o\n",
            "s\n",
            " \n",
            "y\n",
            " \n",
            "g\n",
            "a\n",
            "t\n",
            "o\n",
            "s\n",
            "e\n",
            "n\n",
            " \n",
            "m\n",
            "i\n",
            " \n",
            "c\n",
            "a\n",
            "s\n",
            "a\n",
            " \n",
            "h\n",
            "a\n",
            "y\n",
            " \n",
            "m\n",
            "u\n",
            "c\n",
            "h\n",
            "o\n",
            "s\n",
            " \n",
            "p\n",
            "e\n",
            "r\n",
            "r\n",
            "o\n",
            "s\n",
            " \n",
            "y\n",
            " \n",
            "g\n",
            "a\n",
            "t\n",
            "o\n",
            "s\n",
            "e\n",
            "n\n",
            " \n",
            "m\n",
            "i\n",
            " \n",
            "c\n",
            "a\n",
            "s\n",
            "a\n",
            " \n",
            "h\n",
            "a\n",
            "y\n",
            " \n",
            "m\n",
            "u\n",
            "c\n",
            "h\n",
            "o\n",
            "s\n",
            " \n",
            "p\n",
            "e\n",
            "r\n",
            "r\n",
            "o\n",
            "s\n",
            " \n",
            "y\n",
            " \n",
            "g\n",
            "a\n",
            "t\n",
            "o\n",
            "s\n",
            "e\n",
            "n\n",
            " \n",
            "m\n",
            "i\n",
            " \n",
            "c\n",
            "a\n",
            "s\n",
            "a\n",
            " \n",
            "h\n",
            "a\n",
            "y\n",
            " \n",
            "m\n",
            "u\n",
            "c\n",
            "h\n",
            "o\n",
            "s\n",
            " \n",
            "p\n",
            "e\n",
            "r\n",
            "r\n",
            "o\n",
            "s\n",
            " \n",
            "y\n",
            " \n",
            "g\n",
            "a\n",
            "t\n",
            "o\n",
            "s\n",
            "e\n",
            "n\n",
            " \n",
            "m\n",
            "i\n",
            " \n",
            "c\n",
            "a\n",
            "s\n",
            "a\n",
            " \n",
            "h\n",
            "a\n",
            "y\n",
            " \n",
            "m\n",
            "u\n",
            "c\n",
            "h\n",
            "o\n",
            "s\n",
            " \n",
            "p\n",
            "e\n",
            "r\n",
            "r\n",
            "o\n",
            "s\n",
            " \n",
            "y\n",
            " \n",
            "g\n",
            "a\n",
            "t\n",
            "o\n",
            "s\n",
            "e\n",
            "n\n",
            " \n",
            "m\n",
            "i\n",
            " \n",
            "c\n",
            "a\n",
            "s\n",
            "a\n",
            " \n",
            "h\n",
            "a\n",
            "y\n",
            " \n",
            "m\n",
            "u\n",
            "c\n",
            "h\n",
            "o\n",
            "s\n",
            " \n",
            "p\n",
            "e\n",
            "r\n",
            "r\n",
            "o\n",
            "s\n",
            " \n",
            "y\n",
            " \n",
            "g\n",
            "a\n",
            "t\n",
            "o\n",
            "s\n",
            "e\n",
            "n\n",
            " \n",
            "m\n",
            "i\n",
            " \n",
            "c\n",
            "a\n",
            "s\n",
            "a\n",
            " \n",
            "h\n",
            "a\n",
            "y\n",
            " \n",
            "m\n",
            "u\n",
            "c\n",
            "h\n",
            "o\n",
            "s\n",
            " \n",
            "p\n",
            "e\n",
            "r\n",
            "r\n",
            "o\n",
            "s\n",
            " \n",
            "y\n",
            " \n",
            "g\n",
            "a\n",
            "t\n",
            "o\n",
            "s\n",
            "e\n",
            "n\n",
            " \n",
            "m\n",
            "i\n",
            " \n",
            "c\n",
            "a\n",
            "s\n",
            "a\n",
            " \n",
            "h\n",
            "a\n",
            "y\n",
            " \n",
            "m\n",
            "u\n",
            "c\n",
            "h\n",
            "o\n",
            "s\n",
            " \n",
            "p\n",
            "e\n",
            "r\n",
            "r\n",
            "o\n",
            "s\n",
            " \n",
            "y\n",
            " \n",
            "g\n",
            "a\n",
            "t\n",
            "o\n",
            "s\n",
            "e\n",
            "n\n",
            " \n",
            "m\n",
            "i\n",
            " \n",
            "c\n",
            "a\n",
            "s\n",
            "a\n",
            " \n",
            "h\n",
            "a\n",
            "y\n",
            " \n",
            "m\n",
            "u\n",
            "c\n",
            "h\n",
            "o\n",
            "s\n",
            " \n",
            "p\n",
            "e\n",
            "r\n",
            "r\n",
            "o\n",
            "s\n",
            " \n",
            "y\n",
            " \n",
            "g\n",
            "a\n",
            "t\n",
            "o\n",
            "s\n",
            "e\n",
            "n\n",
            " \n",
            "m\n",
            "i\n",
            " \n",
            "c\n",
            "a\n",
            "s\n",
            "a\n",
            " \n",
            "h\n",
            "a\n",
            "y\n",
            " \n",
            "m\n",
            "u\n",
            "c\n",
            "h\n",
            "o\n",
            "s\n",
            " \n",
            "p\n",
            "e\n",
            "r\n",
            "r\n",
            "o\n",
            "s\n",
            " \n",
            "y\n",
            " \n",
            "g\n",
            "a\n",
            "t\n",
            "o\n",
            "s\n",
            "e\n",
            "n\n",
            " \n",
            "m\n",
            "i\n",
            " \n",
            "c\n",
            "a\n",
            "s\n",
            "a\n",
            " \n",
            "h\n",
            "a\n",
            "y\n",
            " \n",
            "m\n",
            "u\n",
            "c\n",
            "h\n",
            "o\n",
            "s\n",
            " \n",
            "p\n",
            "e\n",
            "r\n",
            "r\n",
            "o\n",
            "s\n",
            " \n",
            "y\n",
            " \n",
            "g\n",
            "a\n",
            "t\n",
            "o\n",
            "s\n",
            "e\n",
            "n\n",
            " \n",
            "m\n",
            "i\n",
            " \n",
            "c\n",
            "a\n",
            "s\n",
            "a\n",
            " \n",
            "h\n",
            "a\n",
            "y\n",
            " \n",
            "m\n",
            "u\n",
            "c\n",
            "h\n",
            "o\n",
            "s\n",
            " \n",
            "p\n",
            "e\n",
            "r\n",
            "r\n",
            "o\n",
            "s\n",
            " \n",
            "y\n",
            " \n",
            "g\n",
            "a\n",
            "t\n",
            "o\n",
            "s\n",
            "e\n",
            "n\n",
            " \n",
            "m\n",
            "i\n",
            " \n",
            "c\n",
            "a\n",
            "s\n",
            "a\n",
            " \n",
            "h\n",
            "a\n",
            "y\n",
            " \n",
            "m\n",
            "u\n",
            "c\n",
            "h\n",
            "o\n",
            "s\n",
            " \n",
            "p\n",
            "e\n",
            "r\n",
            "r\n",
            "o\n",
            "s\n",
            " \n",
            "y\n",
            " \n",
            "g\n",
            "a\n",
            "t\n",
            "o\n",
            "s\n",
            "e\n",
            "n\n",
            " \n",
            "m\n",
            "i\n",
            " \n",
            "c\n",
            "a\n",
            "s\n",
            "a\n",
            " \n",
            "h\n",
            "a\n",
            "y\n",
            " \n",
            "m\n",
            "u\n",
            "c\n",
            "h\n",
            "o\n",
            "s\n",
            " \n",
            "p\n",
            "e\n",
            "r\n",
            "r\n",
            "o\n",
            "s\n",
            " \n",
            "y\n",
            " \n",
            "g\n",
            "a\n",
            "t\n",
            "o\n",
            "s\n"
          ]
        }
      ],
      "source": [
        "for i in txt:\n",
        "    print(i)"
      ]
    },
    {
      "cell_type": "code",
      "execution_count": 28,
      "metadata": {},
      "outputs": [
        {
          "ename": "IndexError",
          "evalue": "string index out of range",
          "output_type": "error",
          "traceback": [
            "\u001b[1;31m---------------------------------------------------------------------------\u001b[0m",
            "\u001b[1;31mIndexError\u001b[0m                                Traceback (most recent call last)",
            "Cell \u001b[1;32mIn [28], line 1\u001b[0m\n\u001b[1;32m----> 1\u001b[0m txt[\u001b[39m36\u001b[39;49m] \u001b[39m==\u001b[39m txt[\u001b[39m-\u001b[39m\u001b[39m1\u001b[39m]\n",
            "\u001b[1;31mIndexError\u001b[0m: string index out of range"
          ]
        }
      ],
      "source": [
        "txt[36] == txt[-1]"
      ]
    },
    {
      "cell_type": "markdown",
      "metadata": {},
      "source": [
        "for con rango"
      ]
    },
    {
      "cell_type": "code",
      "execution_count": 21,
      "metadata": {},
      "outputs": [
        {
          "name": "stdout",
          "output_type": "stream",
          "text": [
            "0\n",
            "1\n",
            "2\n",
            "3\n",
            "4\n",
            "5\n",
            "6\n",
            "7\n",
            "8\n",
            "9\n"
          ]
        }
      ],
      "source": [
        "for i in range(0,10):\n",
        "    print(i)"
      ]
    },
    {
      "cell_type": "code",
      "execution_count": 29,
      "metadata": {},
      "outputs": [
        {
          "name": "stdout",
          "output_type": "stream",
          "text": [
            "e\n",
            "n\n",
            " \n",
            "m\n",
            "i\n",
            " \n",
            "c\n",
            "a\n",
            "s\n",
            "a\n",
            " \n",
            "h\n",
            "a\n",
            "y\n",
            " \n",
            "m\n",
            "u\n",
            "c\n",
            "h\n",
            "o\n",
            "s\n",
            " \n",
            "p\n",
            "e\n",
            "r\n",
            "r\n",
            "o\n",
            "s\n",
            " \n",
            "y\n",
            " \n",
            "g\n",
            "a\n",
            "t\n",
            "o\n",
            "s\n"
          ]
        }
      ],
      "source": [
        "for i in range(0, len(lista)):\n",
        "    print(lista[i])"
      ]
    },
    {
      "cell_type": "markdown",
      "metadata": {},
      "source": [
        "for else"
      ]
    },
    {
      "cell_type": "code",
      "execution_count": 31,
      "metadata": {},
      "outputs": [
        {
          "name": "stdout",
          "output_type": "stream",
          "text": [
            "e\n",
            "n\n",
            " \n",
            "m\n",
            "i\n",
            "termino\n"
          ]
        }
      ],
      "source": [
        "for i in range(0, 5):\n",
        "    print(lista[i])\n",
        "else:\n",
        "    print('termino')"
      ]
    },
    {
      "cell_type": "markdown",
      "metadata": {},
      "source": [
        "For anidados"
      ]
    },
    {
      "cell_type": "code",
      "execution_count": 39,
      "metadata": {},
      "outputs": [],
      "source": [
        "frutas = ['pera', 'banano', 'tomate']"
      ]
    },
    {
      "cell_type": "code",
      "execution_count": 40,
      "metadata": {},
      "outputs": [
        {
          "name": "stdout",
          "output_type": "stream",
          "text": [
            "La fruta:  pera\n",
            "Tiene las letras: \n",
            "p\n",
            "e\n",
            "r\n",
            "a\n",
            "La fruta:  banano\n",
            "Tiene las letras: \n",
            "b\n",
            "a\n",
            "n\n",
            "a\n",
            "n\n",
            "o\n",
            "La fruta:  tomate\n",
            "Tiene las letras: \n",
            "t\n",
            "o\n",
            "m\n",
            "a\n",
            "t\n",
            "e\n"
          ]
        }
      ],
      "source": [
        "for fruta in frutas:\n",
        "    print('La fruta: ', fruta)\n",
        "    print('Tiene las letras: ')\n",
        "    for letra in fruta:\n",
        "        print(letra)"
      ]
    },
    {
      "cell_type": "markdown",
      "metadata": {},
      "source": [
        "for en una linea"
      ]
    },
    {
      "cell_type": "code",
      "execution_count": 35,
      "metadata": {},
      "outputs": [
        {
          "name": "stdout",
          "output_type": "stream",
          "text": [
            "[0, 1, 2, 3, 4, 5, 6, 7, 8, 9, 10, 11, 12, 13, 14, 15, 16, 17, 18, 19, 20, 21, 22, 23, 24, 25, 26, 27, 28, 29, 30, 31, 32, 33, 34, 35, 36, 37, 38, 39, 40, 41, 42, 43, 44, 45, 46, 47, 48, 49, 50, 51, 52, 53, 54, 55, 56, 57, 58, 59, 60, 61, 62, 63, 64, 65, 66, 67, 68, 69, 70, 71, 72, 73, 74, 75, 76, 77, 78, 79, 80, 81, 82, 83, 84, 85, 86, 87, 88, 89, 90, 91, 92, 93, 94, 95, 96, 97, 98, 99]\n"
          ]
        }
      ],
      "source": [
        "numeros = [i for i in range(0,100)]\n",
        "print(numeros)"
      ]
    },
    {
      "cell_type": "code",
      "execution_count": 38,
      "metadata": {},
      "outputs": [],
      "source": [
        "personas = ['Juan', 'Monica', 'Diego']"
      ]
    },
    {
      "cell_type": "code",
      "execution_count": 42,
      "metadata": {},
      "outputs": [
        {
          "name": "stdout",
          "output_type": "stream",
          "text": [
            "la persona Juan \n",
            "se come las frutas\n",
            "pera\n",
            "banano\n",
            "tomate\n",
            "la persona Monica \n",
            "se come las frutas\n",
            "pera\n",
            "banano\n",
            "tomate\n",
            "la persona Diego \n",
            "se come las frutas\n",
            "pera\n",
            "banano\n",
            "tomate\n"
          ]
        }
      ],
      "source": [
        "for persona in personas:\n",
        "    print('la persona' , persona, '\\nse come las frutas')\n",
        "    for fruta in frutas:\n",
        "        print(fruta)\n"
      ]
    },
    {
      "cell_type": "code",
      "execution_count": 44,
      "metadata": {},
      "outputs": [
        {
          "data": {
            "text/plain": [
              "[\"Juan se come las frutas ['pera', 'banano', 'tomate']\",\n",
              " \"Monica se come las frutas ['pera', 'banano', 'tomate']\",\n",
              " \"Diego se come las frutas ['pera', 'banano', 'tomate']\"]"
            ]
          },
          "execution_count": 44,
          "metadata": {},
          "output_type": "execute_result"
        }
      ],
      "source": [
        "lista = [f'{persona} se come las frutas {[fruta for fruta in frutas]}' for persona in personas]\n",
        "lista"
      ]
    },
    {
      "cell_type": "markdown",
      "metadata": {},
      "source": [
        "for e if en una linea\n"
      ]
    },
    {
      "cell_type": "code",
      "execution_count": 46,
      "metadata": {},
      "outputs": [
        {
          "name": "stdout",
          "output_type": "stream",
          "text": [
            "[0, 1, 2, 3, 4, 5, 6, 7, 8, 9, 10, 11, 12, 13, 14, 15, 16, 17, 18, 19, 20, 21, 22, 23, 24, 25, 26, 27, 28, 29, 30, 31, 32, 33, 34, 35, 36, 37, 38, 39, 40, 41, 42, 43, 44, 45, 46, 47, 48, 49, 50, 51, 52, 53, 54, 55, 56, 57, 58, 59, 60, 61, 62, 63, 64, 65, 66, 67, 68, 69, 70, 71, 72, 73, 74, 75, 76, 77, 78, 79, 80, 81, 82, 83, 84, 85, 86, 87, 88, 89, 90, 91, 92, 93, 94, 95, 96, 97, 98, 99]\n"
          ]
        }
      ],
      "source": [
        "numeros = [i for i in range(0,100)]\n",
        "print(numeros)"
      ]
    },
    {
      "cell_type": "code",
      "execution_count": 50,
      "metadata": {},
      "outputs": [
        {
          "name": "stdout",
          "output_type": "stream",
          "text": [
            "[0, 2, 4, 6, 8, 10, 12, 14, 16, 18, 20, 22, 24, 26, 28, 30, 32, 34, 36, 38, 40, 42, 44, 46, 48, 50, 52, 54, 56, 58, 60, 62, 64, 66, 68, 70, 72, 74, 76, 78, 80, 82, 84, 86, 88, 90, 92, 94, 96, 98]\n"
          ]
        }
      ],
      "source": [
        "numeros = []\n",
        "for i in range(0,100):\n",
        "    if i%2 == 0:\n",
        "        numeros.append(i)\n",
        "    else:\n",
        "        pass\n",
        "print(numeros)"
      ]
    },
    {
      "cell_type": "code",
      "execution_count": 52,
      "metadata": {},
      "outputs": [
        {
          "name": "stdout",
          "output_type": "stream",
          "text": [
            "[0, 2, 4, 6, 8, 10, 12, 14, 16, 18, 20, 22, 24, 26, 28, 30, 32, 34, 36, 38, 40, 42, 44, 46, 48, 50, 52, 54, 56, 58, 60, 62, 64, 66, 68, 70, 72, 74, 76, 78, 80, 82, 84, 86, 88, 90, 92, 94, 96, 98]\n"
          ]
        }
      ],
      "source": [
        "numeros = [i for i in range(0,100) if i%2 == 0]\n",
        "print(numeros)"
      ]
    },
    {
      "attachments": {},
      "cell_type": "markdown",
      "metadata": {},
      "source": [
        "## Tipos compuestos de datos\n",
        "\n",
        "```\n",
        "Sequence Types:\tlist, tuple, range\n",
        "Mapping Type:\tdict\n",
        "Set Types:\tset\n",
        "\n",
        "```\n",
        "\n",
        "- Lista: ordenable y modificable. Permite duplicados.\n",
        "- Tupla: ordenable e inmutable. Permite duplicados.\n",
        "- Set: desordenado, inmutable y no indexada. No permite duplicados.\n",
        "- Diccionario: ordenable y modificable. No permite duplicados."
      ]
    },
    {
      "cell_type": "code",
      "execution_count": null,
      "metadata": {},
      "outputs": [],
      "source": [
        "x = [\"papaya\", \"pera\", \"naranja\"]  # list\n",
        "x = (\"papaya\", \"pera\", \"naranja\")  # tuple\n",
        "x = range(6)  # range\n",
        "x = {\"name\": \"Pedro\", \"age\": 36}  # dict\n",
        "x = {\"papaya\", \"pera\", \"naranja\"}  # set"
      ]
    },
    {
      "cell_type": "code",
      "execution_count": 8,
      "metadata": {},
      "outputs": [],
      "source": [
        "x = list((\"manzana\", \"sandia\", \"pan\"))  # list\n",
        "x = tuple((\"manzana\", \"sandia\", \"pan\"))  # tuple\n",
        "x = range(6)  # range\n",
        "x = dict(name=\"Jose\", age=19)  # dict\n",
        "x = set((\"manzana\", \"sandia\", \"pan\"))  # set"
      ]
    },
    {
      "cell_type": "code",
      "execution_count": 12,
      "metadata": {
        "id": "8cC6xUQjuBDF"
      },
      "outputs": [
        {
          "name": "stdout",
          "output_type": "stream",
          "text": [
            "{'name': 'Jose', 'age': 19} <class 'dict'>\n"
          ]
        }
      ],
      "source": [
        "x = dict(name=\"Jose\", age=19)  # dict\n",
        "print(x, type(x))\n"
      ]
    },
    {
      "cell_type": "code",
      "execution_count": 54,
      "metadata": {},
      "outputs": [
        {
          "data": {
            "text/plain": [
              "['a', 'a', 'a']"
            ]
          },
          "execution_count": 54,
          "metadata": {},
          "output_type": "execute_result"
        }
      ],
      "source": [
        "['a', 'a', 'a']"
      ]
    },
    {
      "cell_type": "code",
      "execution_count": 55,
      "metadata": {},
      "outputs": [
        {
          "data": {
            "text/plain": [
              "(1, 1, 1)"
            ]
          },
          "execution_count": 55,
          "metadata": {},
          "output_type": "execute_result"
        }
      ],
      "source": [
        "(1, 1, 1)"
      ]
    },
    {
      "cell_type": "code",
      "execution_count": 58,
      "metadata": {},
      "outputs": [
        {
          "data": {
            "text/plain": [
              "{'1', '2'}"
            ]
          },
          "execution_count": 58,
          "metadata": {},
          "output_type": "execute_result"
        }
      ],
      "source": [
        "{'1', '1', '2'}"
      ]
    },
    {
      "cell_type": "code",
      "execution_count": 63,
      "metadata": {},
      "outputs": [
        {
          "data": {
            "text/plain": [
              "{'key': [0, 1, 2, 3, 4, 5, 6, 7, 8], 'key1': 'texto simple', 'key2': (90+45j)}"
            ]
          },
          "execution_count": 63,
          "metadata": {},
          "output_type": "execute_result"
        }
      ],
      "source": [
        "{'key': [i for i in range(0,9)],\n",
        " 'key1': 'texto simple',\n",
        " 'key2': 90+45j}\n"
      ]
    },
    {
      "cell_type": "markdown",
      "metadata": {},
      "source": [
        "Listas"
      ]
    },
    {
      "cell_type": "code",
      "execution_count": 1,
      "metadata": {},
      "outputs": [],
      "source": [
        "lista1 = ['uno', 'dos', \"tres\"]\n",
        "lista2 = [10, -4, 7.9, -4+8j]\n",
        "lista3 = [True, False, 0, 1]\n",
        "lista4 = ['uno', -4, 7.9, -4+8j, True, False, True]\n"
      ]
    },
    {
      "cell_type": "markdown",
      "metadata": {},
      "source": [
        "Pertenencia en las listas\n"
      ]
    },
    {
      "cell_type": "code",
      "execution_count": 2,
      "metadata": {},
      "outputs": [
        {
          "data": {
            "text/plain": [
              "range(0, 200)"
            ]
          },
          "execution_count": 2,
          "metadata": {},
          "output_type": "execute_result"
        }
      ],
      "source": [
        "range(0, 200)"
      ]
    },
    {
      "cell_type": "code",
      "execution_count": 3,
      "metadata": {},
      "outputs": [],
      "source": [
        "numeros = list(range(0, 200))"
      ]
    },
    {
      "cell_type": "code",
      "execution_count": 4,
      "metadata": {},
      "outputs": [
        {
          "name": "stdout",
          "output_type": "stream",
          "text": [
            "[0, 1, 2, 3, 4, 5, 6, 7, 8, 9, 10, 11, 12, 13, 14, 15, 16, 17, 18, 19, 20, 21, 22, 23, 24, 25, 26, 27, 28, 29, 30, 31, 32, 33, 34, 35, 36, 37, 38, 39, 40, 41, 42, 43, 44, 45, 46, 47, 48, 49, 50, 51, 52, 53, 54, 55, 56, 57, 58, 59, 60, 61, 62, 63, 64, 65, 66, 67, 68, 69, 70, 71, 72, 73, 74, 75, 76, 77, 78, 79, 80, 81, 82, 83, 84, 85, 86, 87, 88, 89, 90, 91, 92, 93, 94, 95, 96, 97, 98, 99, 100, 101, 102, 103, 104, 105, 106, 107, 108, 109, 110, 111, 112, 113, 114, 115, 116, 117, 118, 119, 120, 121, 122, 123, 124, 125, 126, 127, 128, 129, 130, 131, 132, 133, 134, 135, 136, 137, 138, 139, 140, 141, 142, 143, 144, 145, 146, 147, 148, 149, 150, 151, 152, 153, 154, 155, 156, 157, 158, 159, 160, 161, 162, 163, 164, 165, 166, 167, 168, 169, 170, 171, 172, 173, 174, 175, 176, 177, 178, 179, 180, 181, 182, 183, 184, 185, 186, 187, 188, 189, 190, 191, 192, 193, 194, 195, 196, 197, 198, 199]\n"
          ]
        }
      ],
      "source": [
        "print(numeros)"
      ]
    },
    {
      "cell_type": "code",
      "execution_count": 5,
      "metadata": {},
      "outputs": [
        {
          "name": "stdout",
          "output_type": "stream",
          "text": [
            "True\n",
            "False\n",
            "False\n",
            "True\n"
          ]
        }
      ],
      "source": [
        "print(40 in numeros)\n",
        "print(40 not in numeros)\n",
        "print(400 in numeros)\n",
        "print(400 not in numeros)\n"
      ]
    },
    {
      "attachments": {},
      "cell_type": "markdown",
      "metadata": {},
      "source": [
        "Tamaño de una lista"
      ]
    },
    {
      "cell_type": "code",
      "execution_count": 7,
      "metadata": {},
      "outputs": [
        {
          "data": {
            "text/plain": [
              "200"
            ]
          },
          "execution_count": 7,
          "metadata": {},
          "output_type": "execute_result"
        }
      ],
      "source": [
        "len(numeros) #tamaño de la lista"
      ]
    },
    {
      "cell_type": "markdown",
      "metadata": {},
      "source": [
        "Construcción de listas"
      ]
    },
    {
      "cell_type": "code",
      "execution_count": 8,
      "metadata": {},
      "outputs": [],
      "source": [
        "lista = list(('hola', 'adios', {'perro', 90}, lista3, lista4))\n"
      ]
    },
    {
      "cell_type": "code",
      "execution_count": 9,
      "metadata": {},
      "outputs": [
        {
          "name": "stdout",
          "output_type": "stream",
          "text": [
            "['hola', 'adios', {'perro', 90}, [True, False, 0, 1], ['uno', -4, 7.9, (-4+8j), True, False, True]]\n"
          ]
        }
      ],
      "source": [
        "print(lista)"
      ]
    },
    {
      "cell_type": "markdown",
      "metadata": {},
      "source": [
        "Obtener elementos de la lista"
      ]
    },
    {
      "cell_type": "code",
      "execution_count": 10,
      "metadata": {},
      "outputs": [
        {
          "data": {
            "text/plain": [
              "'hola'"
            ]
          },
          "execution_count": 10,
          "metadata": {},
          "output_type": "execute_result"
        }
      ],
      "source": [
        "lista[0]"
      ]
    },
    {
      "cell_type": "markdown",
      "metadata": {},
      "source": [
        "Obtener parte de la lista"
      ]
    },
    {
      "cell_type": "code",
      "execution_count": 14,
      "metadata": {},
      "outputs": [
        {
          "name": "stdout",
          "output_type": "stream",
          "text": [
            "[{'perro', 90}, [True, False, 0, 1]]\n",
            "['hola', 'adios', {'perro', 90}]\n",
            "['adios', {'perro', 90}, [True, False, 0, 1], ['uno', -4, 7.9, (-4+8j), True, False, True]]\n",
            "[{'perro', 90}]\n"
          ]
        }
      ],
      "source": [
        "print(lista[2:4]) # En un rango de posiciones\n",
        "print(lista[:-2]) # Desde el inicio\n",
        "print(lista[1:]) # Hasta el final\n",
        "print(lista[-3:-2]) # indices negativos"
      ]
    },
    {
      "cell_type": "markdown",
      "metadata": {},
      "source": [
        "Modificar listas en posiciones"
      ]
    },
    {
      "cell_type": "code",
      "execution_count": 15,
      "metadata": {},
      "outputs": [
        {
          "data": {
            "text/plain": [
              "['hola',\n",
              " 'adios',\n",
              " {90, 'perro'},\n",
              " [True, False, 0, 1],\n",
              " ['uno', -4, 7.9, (-4+8j), True, False, True]]"
            ]
          },
          "execution_count": 15,
          "metadata": {},
          "output_type": "execute_result"
        }
      ],
      "source": [
        "lista"
      ]
    },
    {
      "cell_type": "code",
      "execution_count": 16,
      "metadata": {},
      "outputs": [
        {
          "data": {
            "text/plain": [
              "['juan',\n",
              " 'adios',\n",
              " {90, 'perro'},\n",
              " [True, False, 0, 1],\n",
              " ['uno', -4, 7.9, (-4+8j), True, False, True]]"
            ]
          },
          "execution_count": 16,
          "metadata": {},
          "output_type": "execute_result"
        }
      ],
      "source": [
        "lista[0] = 'juan'\n",
        "lista"
      ]
    },
    {
      "cell_type": "code",
      "execution_count": 17,
      "metadata": {},
      "outputs": [
        {
          "data": {
            "text/plain": [
              "['ana',\n",
              " {90, 'perro'},\n",
              " [True, False, 0, 1],\n",
              " ['uno', -4, 7.9, (-4+8j), True, False, True]]"
            ]
          },
          "execution_count": 17,
          "metadata": {},
          "output_type": "execute_result"
        }
      ],
      "source": [
        "lista[0:2] = ['ana']\n",
        "lista"
      ]
    },
    {
      "cell_type": "code",
      "execution_count": 18,
      "metadata": {},
      "outputs": [
        {
          "data": {
            "text/plain": [
              "['jorge',\n",
              " {90, 'gato'},\n",
              " 709,\n",
              " [True, False, 0, 1],\n",
              " ['uno', -4, 7.9, (-4+8j), True, False, True]]"
            ]
          },
          "execution_count": 18,
          "metadata": {},
          "output_type": "execute_result"
        }
      ],
      "source": [
        "lista[0:2] = ['jorge', {90, 'gato'}, 709]\n",
        "lista"
      ]
    },
    {
      "cell_type": "markdown",
      "metadata": {},
      "source": [
        "Insertar elemento al final de la lista función append"
      ]
    },
    {
      "cell_type": "code",
      "execution_count": 19,
      "metadata": {},
      "outputs": [
        {
          "data": {
            "text/plain": [
              "['jorge',\n",
              " {90, 'gato'},\n",
              " 709,\n",
              " [True, False, 0, 1],\n",
              " ['uno', -4, 7.9, (-4+8j), True, False, True],\n",
              " 90]"
            ]
          },
          "execution_count": 19,
          "metadata": {},
          "output_type": "execute_result"
        }
      ],
      "source": [
        "lista.append(90)\n",
        "lista"
      ]
    },
    {
      "attachments": {},
      "cell_type": "markdown",
      "metadata": {},
      "source": [
        "Insertar elemento en posición determinada"
      ]
    },
    {
      "cell_type": "code",
      "execution_count": 20,
      "metadata": {},
      "outputs": [
        {
          "data": {
            "text/plain": [
              "['jorge',\n",
              " {90, 'gato'},\n",
              " 709,\n",
              " 90,\n",
              " [True, False, 0, 1],\n",
              " ['uno', -4, 7.9, (-4+8j), True, False, True],\n",
              " 90]"
            ]
          },
          "execution_count": 20,
          "metadata": {},
          "output_type": "execute_result"
        }
      ],
      "source": [
        "lista.insert(3, 90)\n",
        "lista"
      ]
    },
    {
      "attachments": {},
      "cell_type": "markdown",
      "metadata": {},
      "source": [
        "extender una lista con otra\n"
      ]
    },
    {
      "cell_type": "code",
      "execution_count": 22,
      "metadata": {},
      "outputs": [
        {
          "data": {
            "text/plain": [
              "[0, 1, 2, 3, 4, 5, 6, 7, 8, 9]"
            ]
          },
          "execution_count": 22,
          "metadata": {},
          "output_type": "execute_result"
        }
      ],
      "source": [
        "lista2 = list(range(0,10))\n",
        "lista2"
      ]
    },
    {
      "cell_type": "code",
      "execution_count": 25,
      "metadata": {},
      "outputs": [
        {
          "data": {
            "text/plain": [
              "['jorge',\n",
              " {90, 'gato'},\n",
              " 709,\n",
              " 90,\n",
              " [True, False, 0, 1],\n",
              " ['uno', -4, 7.9, (-4+8j), True, False, True],\n",
              " 90,\n",
              " 0,\n",
              " 1,\n",
              " 2,\n",
              " 3,\n",
              " 4,\n",
              " 5,\n",
              " 6,\n",
              " 7,\n",
              " 8,\n",
              " 9,\n",
              " [0, 1, 2, 3, 4, 5, 6, 7, 8, 9],\n",
              " 0,\n",
              " 1,\n",
              " 2,\n",
              " 3,\n",
              " 4,\n",
              " 5,\n",
              " 6,\n",
              " 7,\n",
              " 8,\n",
              " 9]"
            ]
          },
          "execution_count": 25,
          "metadata": {},
          "output_type": "execute_result"
        }
      ],
      "source": [
        "lista.extend(lista2)\n",
        "lista"
      ]
    },
    {
      "cell_type": "code",
      "execution_count": 26,
      "metadata": {},
      "outputs": [],
      "source": [
        "lista1 = list(range(0,10))\n",
        "lista2 = list(range(10,20))\n",
        "lista3 = list(range(20,30))"
      ]
    },
    {
      "cell_type": "code",
      "execution_count": 27,
      "metadata": {},
      "outputs": [
        {
          "data": {
            "text/plain": [
              "[0,\n",
              " 1,\n",
              " 2,\n",
              " 3,\n",
              " 4,\n",
              " 5,\n",
              " 6,\n",
              " 7,\n",
              " 8,\n",
              " 9,\n",
              " 10,\n",
              " 11,\n",
              " 12,\n",
              " 13,\n",
              " 14,\n",
              " 15,\n",
              " 16,\n",
              " 17,\n",
              " 18,\n",
              " 19,\n",
              " 20,\n",
              " 21,\n",
              " 22,\n",
              " 23,\n",
              " 24,\n",
              " 25,\n",
              " 26,\n",
              " 27,\n",
              " 28,\n",
              " 29]"
            ]
          },
          "execution_count": 27,
          "metadata": {},
          "output_type": "execute_result"
        }
      ],
      "source": [
        "lista = lista1 + lista2 + lista3\n",
        "lista"
      ]
    },
    {
      "cell_type": "code",
      "execution_count": 28,
      "metadata": {},
      "outputs": [
        {
          "data": {
            "text/plain": [
              "[10,\n",
              " 11,\n",
              " 12,\n",
              " 13,\n",
              " 14,\n",
              " 15,\n",
              " 16,\n",
              " 17,\n",
              " 18,\n",
              " 19,\n",
              " 20,\n",
              " 21,\n",
              " 22,\n",
              " 23,\n",
              " 24,\n",
              " 25,\n",
              " 26,\n",
              " 27,\n",
              " 28,\n",
              " 29]"
            ]
          },
          "execution_count": 28,
          "metadata": {},
          "output_type": "execute_result"
        }
      ],
      "source": [
        "lista2 += lista3 # lista2 = lista2 + lista3\n",
        "lista2"
      ]
    },
    {
      "cell_type": "code",
      "execution_count": 29,
      "metadata": {},
      "outputs": [
        {
          "data": {
            "text/plain": [
              "[10,\n",
              " 11,\n",
              " 12,\n",
              " 13,\n",
              " 14,\n",
              " 15,\n",
              " 16,\n",
              " 17,\n",
              " 18,\n",
              " 19,\n",
              " 20,\n",
              " 21,\n",
              " 22,\n",
              " 23,\n",
              " 24,\n",
              " 25,\n",
              " 26,\n",
              " 27,\n",
              " 28,\n",
              " 29,\n",
              " 0,\n",
              " 1,\n",
              " 2,\n",
              " 3,\n",
              " 4,\n",
              " 5,\n",
              " 6,\n",
              " 7,\n",
              " 8,\n",
              " 9]"
            ]
          },
          "execution_count": 29,
          "metadata": {},
          "output_type": "execute_result"
        }
      ],
      "source": [
        "for valor in lista1:\n",
        "    lista2.append(valor)\n",
        "lista2"
      ]
    },
    {
      "attachments": {},
      "cell_type": "markdown",
      "metadata": {},
      "source": [
        "Eliminar elementos"
      ]
    },
    {
      "cell_type": "code",
      "execution_count": 33,
      "metadata": {},
      "outputs": [
        {
          "data": {
            "text/plain": [
              "[5, 6, 7, 8, 9]"
            ]
          },
          "execution_count": 33,
          "metadata": {},
          "output_type": "execute_result"
        }
      ],
      "source": [
        "lista2 = list(range(5,10))\n",
        "lista2"
      ]
    },
    {
      "cell_type": "code",
      "execution_count": 34,
      "metadata": {},
      "outputs": [
        {
          "data": {
            "text/plain": [
              "[5, 6, 7, 8]"
            ]
          },
          "execution_count": 34,
          "metadata": {},
          "output_type": "execute_result"
        }
      ],
      "source": [
        "lista2.pop()\n",
        "lista2"
      ]
    },
    {
      "cell_type": "code",
      "execution_count": 35,
      "metadata": {},
      "outputs": [
        {
          "data": {
            "text/plain": [
              "[5, 7, 8]"
            ]
          },
          "execution_count": 35,
          "metadata": {},
          "output_type": "execute_result"
        }
      ],
      "source": [
        "lista2.pop(1)\n",
        "lista2"
      ]
    },
    {
      "cell_type": "code",
      "execution_count": 36,
      "metadata": {},
      "outputs": [
        {
          "data": {
            "text/plain": [
              "[7, 8]"
            ]
          },
          "execution_count": 36,
          "metadata": {},
          "output_type": "execute_result"
        }
      ],
      "source": [
        "del lista2[0]\n",
        "lista2"
      ]
    },
    {
      "attachments": {},
      "cell_type": "markdown",
      "metadata": {},
      "source": [
        "Eliminar elemento específico"
      ]
    },
    {
      "cell_type": "code",
      "execution_count": 37,
      "metadata": {},
      "outputs": [
        {
          "data": {
            "text/plain": [
              "[8]"
            ]
          },
          "execution_count": 37,
          "metadata": {},
          "output_type": "execute_result"
        }
      ],
      "source": [
        "lista2.remove(7)\n",
        "lista2"
      ]
    },
    {
      "cell_type": "code",
      "execution_count": 38,
      "metadata": {},
      "outputs": [
        {
          "data": {
            "text/plain": [
              "[]"
            ]
          },
          "execution_count": 38,
          "metadata": {},
          "output_type": "execute_result"
        }
      ],
      "source": [
        "lista2.clear()\n",
        "lista2"
      ]
    },
    {
      "attachments": {},
      "cell_type": "markdown",
      "metadata": {},
      "source": [
        "Recorrer una lista"
      ]
    },
    {
      "cell_type": "code",
      "execution_count": 47,
      "metadata": {},
      "outputs": [
        {
          "name": "stdout",
          "output_type": "stream",
          "text": [
            "0\n",
            "1\n",
            "2\n",
            "3\n",
            "4\n",
            "5\n",
            "6\n",
            "7\n",
            "8\n",
            "9\n"
          ]
        }
      ],
      "source": [
        "for valor in lista1:\n",
        "    print(valor)"
      ]
    },
    {
      "cell_type": "code",
      "execution_count": 54,
      "metadata": {},
      "outputs": [],
      "source": [
        "lista1 = 10*['j']+10*['k']"
      ]
    },
    {
      "cell_type": "code",
      "execution_count": 55,
      "metadata": {},
      "outputs": [
        {
          "name": "stdout",
          "output_type": "stream",
          "text": [
            "j\n",
            "j\n",
            "j\n",
            "j\n",
            "j\n",
            "j\n",
            "j\n",
            "j\n",
            "j\n",
            "j\n",
            "k\n",
            "k\n",
            "k\n",
            "k\n",
            "k\n",
            "k\n",
            "k\n",
            "k\n",
            "k\n",
            "k\n"
          ]
        }
      ],
      "source": [
        "for i in range(0,len(lista1)):\n",
        "    print(lista1[i])"
      ]
    },
    {
      "cell_type": "code",
      "execution_count": 53,
      "metadata": {},
      "outputs": [
        {
          "data": {
            "text/plain": [
              "['j', 'j', 'j', 'j', 'j', 'j', 'j', 'j', 'j', 'j']"
            ]
          },
          "execution_count": 53,
          "metadata": {},
          "output_type": "execute_result"
        }
      ],
      "source": [
        "lista3 = [valor for valor in lista1]\n",
        "lista3"
      ]
    },
    {
      "attachments": {},
      "cell_type": "markdown",
      "metadata": {},
      "source": [
        "Filtro simple for e if en una linea"
      ]
    },
    {
      "cell_type": "code",
      "execution_count": 56,
      "metadata": {},
      "outputs": [
        {
          "data": {
            "text/plain": [
              "['k', 'k', 'k', 'k', 'k', 'k', 'k', 'k', 'k', 'k']"
            ]
          },
          "execution_count": 56,
          "metadata": {},
          "output_type": "execute_result"
        }
      ],
      "source": [
        "lista3 = [valor for valor in lista1 if valor == 'k']\n",
        "lista3"
      ]
    },
    {
      "attachments": {},
      "cell_type": "markdown",
      "metadata": {},
      "source": [
        "Ordenar una lista"
      ]
    },
    {
      "cell_type": "code",
      "execution_count": 81,
      "metadata": {},
      "outputs": [],
      "source": [
        "import random\n",
        "import pandas as pd"
      ]
    },
    {
      "cell_type": "code",
      "execution_count": 61,
      "metadata": {},
      "outputs": [
        {
          "data": {
            "text/plain": [
              "[30, 1, 22, 13, 36]"
            ]
          },
          "execution_count": 61,
          "metadata": {},
          "output_type": "execute_result"
        }
      ],
      "source": [
        "lista = random.sample(list(range(0,51)), 5)\n",
        "lista"
      ]
    },
    {
      "cell_type": "code",
      "execution_count": 62,
      "metadata": {},
      "outputs": [
        {
          "data": {
            "text/plain": [
              "[1, 13, 22, 30, 36]"
            ]
          },
          "execution_count": 62,
          "metadata": {},
          "output_type": "execute_result"
        }
      ],
      "source": [
        "lista.sort()\n",
        "lista"
      ]
    },
    {
      "cell_type": "code",
      "execution_count": 63,
      "metadata": {},
      "outputs": [
        {
          "data": {
            "text/plain": [
              "[36, 30, 22, 13, 1]"
            ]
          },
          "execution_count": 63,
          "metadata": {},
          "output_type": "execute_result"
        }
      ],
      "source": [
        "lista.sort(reverse=True)\n",
        "lista"
      ]
    },
    {
      "cell_type": "code",
      "execution_count": 65,
      "metadata": {},
      "outputs": [
        {
          "data": {
            "text/plain": [
              "['Fernando', 'Ruiz', 'cardona', 'juan']"
            ]
          },
          "execution_count": 65,
          "metadata": {},
          "output_type": "execute_result"
        }
      ],
      "source": [
        "lista = ['juan', 'Fernando', 'cardona', 'Ruiz']\n",
        "lista.sort()\n",
        "lista"
      ]
    },
    {
      "cell_type": "code",
      "execution_count": 66,
      "metadata": {},
      "outputs": [
        {
          "data": {
            "text/plain": [
              "['cardona', 'Fernando', 'juan', 'Ruiz']"
            ]
          },
          "execution_count": 66,
          "metadata": {},
          "output_type": "execute_result"
        }
      ],
      "source": [
        "lista = ['juan', 'Fernando', 'cardona', 'Ruiz']\n",
        "lista.sort(key=str.lower)\n",
        "lista"
      ]
    },
    {
      "attachments": {},
      "cell_type": "markdown",
      "metadata": {},
      "source": [
        "Invertir listas\n"
      ]
    },
    {
      "cell_type": "code",
      "execution_count": 67,
      "metadata": {},
      "outputs": [
        {
          "data": {
            "text/plain": [
              "['Ruiz', 'juan', 'Fernando', 'cardona']"
            ]
          },
          "execution_count": 67,
          "metadata": {},
          "output_type": "execute_result"
        }
      ],
      "source": [
        "lista.reverse()\n",
        "lista"
      ]
    },
    {
      "attachments": {},
      "cell_type": "markdown",
      "metadata": {},
      "source": [
        "Copiar listas"
      ]
    },
    {
      "cell_type": "code",
      "execution_count": 68,
      "metadata": {},
      "outputs": [],
      "source": [
        "lista2 = lista1"
      ]
    },
    {
      "cell_type": "code",
      "execution_count": 70,
      "metadata": {},
      "outputs": [],
      "source": [
        "lista2[0] = 1"
      ]
    },
    {
      "cell_type": "code",
      "execution_count": 71,
      "metadata": {},
      "outputs": [
        {
          "data": {
            "text/plain": [
              "[1,\n",
              " 'j',\n",
              " 'j',\n",
              " 'j',\n",
              " 'j',\n",
              " 'j',\n",
              " 'j',\n",
              " 'j',\n",
              " 'j',\n",
              " 'j',\n",
              " 'k',\n",
              " 'k',\n",
              " 'k',\n",
              " 'k',\n",
              " 'k',\n",
              " 'k',\n",
              " 'k',\n",
              " 'k',\n",
              " 'k',\n",
              " 'k']"
            ]
          },
          "execution_count": 71,
          "metadata": {},
          "output_type": "execute_result"
        }
      ],
      "source": [
        "lista1"
      ]
    },
    {
      "cell_type": "code",
      "execution_count": 72,
      "metadata": {},
      "outputs": [],
      "source": [
        "lista2 = lista1.copy()"
      ]
    },
    {
      "attachments": {},
      "cell_type": "markdown",
      "metadata": {},
      "source": [
        "[Métodos de las listas](https://www.w3schools.com/python/python_lists_methods.asp)\n"
      ]
    },
    {
      "attachments": {},
      "cell_type": "markdown",
      "metadata": {},
      "source": [
        "Tuplas"
      ]
    },
    {
      "cell_type": "code",
      "execution_count": 75,
      "metadata": {},
      "outputs": [
        {
          "data": {
            "text/plain": [
              "('2', '3', '3', '4')"
            ]
          },
          "execution_count": 75,
          "metadata": {},
          "output_type": "execute_result"
        }
      ],
      "source": [
        "tupla = ('2', '3', '3', '4')\n",
        "tupla"
      ]
    },
    {
      "cell_type": "code",
      "execution_count": 76,
      "metadata": {},
      "outputs": [
        {
          "data": {
            "text/plain": [
              "4"
            ]
          },
          "execution_count": 76,
          "metadata": {},
          "output_type": "execute_result"
        }
      ],
      "source": [
        "len(tupla)"
      ]
    },
    {
      "cell_type": "code",
      "execution_count": 77,
      "metadata": {},
      "outputs": [
        {
          "data": {
            "text/plain": [
              "tuple"
            ]
          },
          "execution_count": 77,
          "metadata": {},
          "output_type": "execute_result"
        }
      ],
      "source": [
        "type(tupla)"
      ]
    },
    {
      "cell_type": "code",
      "execution_count": 79,
      "metadata": {},
      "outputs": [
        {
          "data": {
            "text/plain": [
              "tuple"
            ]
          },
          "execution_count": 79,
          "metadata": {},
          "output_type": "execute_result"
        }
      ],
      "source": [
        "var1 = ('y',)\n",
        "type(var1)"
      ]
    },
    {
      "cell_type": "code",
      "execution_count": 80,
      "metadata": {},
      "outputs": [],
      "source": [
        "tuple1 = (\"apple\", \"banana\", \"cherry\")\n",
        "tuple2 = (1, 5, 7, 9, 3)\n",
        "tuple3 = (True, False, False)\n",
        "tuple4 = (\"abc\", 34, True, 40, \"male\")"
      ]
    },
    {
      "cell_type": "code",
      "execution_count": 93,
      "metadata": {},
      "outputs": [
        {
          "name": "stdout",
          "output_type": "stream",
          "text": [
            "(0, 1, 2, 3, 4, 5, 6, 7, 8, 9)\n"
          ]
        },
        {
          "data": {
            "text/plain": [
              "True"
            ]
          },
          "execution_count": 93,
          "metadata": {},
          "output_type": "execute_result"
        }
      ],
      "source": [
        "print(tuple(list(range(0,10))))\n",
        "tuple1[2:4]\n",
        "True in tuple2\n"
      ]
    },
    {
      "cell_type": "code",
      "execution_count": 94,
      "metadata": {},
      "outputs": [
        {
          "ename": "TypeError",
          "evalue": "'tuple' object does not support item assignment",
          "output_type": "error",
          "traceback": [
            "\u001b[1;31m---------------------------------------------------------------------------\u001b[0m",
            "\u001b[1;31mTypeError\u001b[0m                                 Traceback (most recent call last)",
            "Cell \u001b[1;32mIn [94], line 1\u001b[0m\n\u001b[1;32m----> 1\u001b[0m tuple4[\u001b[39m0\u001b[39;49m] \u001b[39m=\u001b[39m \u001b[39m'\u001b[39m\u001b[39m4\u001b[39m\u001b[39m'\u001b[39m\n",
            "\u001b[1;31mTypeError\u001b[0m: 'tuple' object does not support item assignment"
          ]
        }
      ],
      "source": [
        "tuple4[0] = '4'"
      ]
    },
    {
      "attachments": {},
      "cell_type": "markdown",
      "metadata": {},
      "source": [
        "Sets"
      ]
    },
    {
      "cell_type": "code",
      "execution_count": 95,
      "metadata": {},
      "outputs": [],
      "source": [
        "set1 = {'papaya', 'banano', 'manzana'}\n",
        "set2 = {1, 5, 7, 9, 3}"
      ]
    },
    {
      "cell_type": "code",
      "execution_count": 98,
      "metadata": {},
      "outputs": [
        {
          "data": {
            "text/plain": [
              "({'banano', 'manzana', 'papaya'}, {1, 3, 5, 7, 9})"
            ]
          },
          "execution_count": 98,
          "metadata": {},
          "output_type": "execute_result"
        }
      ],
      "source": [
        "set1, set2"
      ]
    },
    {
      "cell_type": "code",
      "execution_count": 99,
      "metadata": {},
      "outputs": [
        {
          "name": "stdout",
          "output_type": "stream",
          "text": [
            "3\n",
            "<class 'set'>\n"
          ]
        }
      ],
      "source": [
        "print(len(set1))\n",
        "print(type(set1))"
      ]
    },
    {
      "cell_type": "code",
      "execution_count": 112,
      "metadata": {},
      "outputs": [
        {
          "data": {
            "text/plain": [
              "{(2, 3), 0, 1, 2, 3, 4, 5, 6, 7, 8, 9, 'p'}"
            ]
          },
          "execution_count": 112,
          "metadata": {},
          "output_type": "execute_result"
        }
      ],
      "source": [
        "set3 = set(2*['p']+list(range(0,10)))\n",
        "set3.add((2, 3))\n",
        "set3"
      ]
    },
    {
      "cell_type": "code",
      "execution_count": 113,
      "metadata": {},
      "outputs": [
        {
          "name": "stdout",
          "output_type": "stream",
          "text": [
            "0\n",
            "1\n",
            "2\n",
            "3\n",
            "4\n",
            "5\n",
            "6\n",
            "7\n",
            "8\n",
            "9\n",
            "p\n",
            "(2, 3)\n"
          ]
        },
        {
          "data": {
            "text/plain": [
              "[None, None, None, None, None, None, None, None, None, None, None, None]"
            ]
          },
          "execution_count": 113,
          "metadata": {},
          "output_type": "execute_result"
        }
      ],
      "source": [
        "[print(val) for val in set3]"
      ]
    },
    {
      "cell_type": "code",
      "execution_count": 114,
      "metadata": {},
      "outputs": [
        {
          "name": "stdout",
          "output_type": "stream",
          "text": [
            "{'papaya', 'mango', 'pineapple', 'cherry', 'banana', 'apple'}\n"
          ]
        }
      ],
      "source": [
        "thisset = {\"apple\", \"banana\", \"cherry\"}\n",
        "tropical = {\"pineapple\", \"mango\", \"papaya\"}\n",
        "\n",
        "thisset.update(tropical)\n",
        "\n",
        "print(thisset)"
      ]
    },
    {
      "attachments": {},
      "cell_type": "markdown",
      "metadata": {},
      "source": [
        "Diccionarios"
      ]
    },
    {
      "cell_type": "code",
      "execution_count": 115,
      "metadata": {},
      "outputs": [],
      "source": [
        "nombre = {'primera': 'a', 'seg': 'b',\n",
        "          'ter': 'c', 'cuar': 'a', 'quin': 'd'}\n"
      ]
    },
    {
      "cell_type": "code",
      "execution_count": 116,
      "metadata": {},
      "outputs": [
        {
          "data": {
            "text/plain": [
              "{'primera': 'a', 'seg': 'b', 'ter': 'c', 'cuar': 'a', 'quin': 'd'}"
            ]
          },
          "execution_count": 116,
          "metadata": {},
          "output_type": "execute_result"
        }
      ],
      "source": [
        "nombre"
      ]
    },
    {
      "cell_type": "code",
      "execution_count": 119,
      "metadata": {},
      "outputs": [
        {
          "data": {
            "text/plain": [
              "'d'"
            ]
          },
          "execution_count": 119,
          "metadata": {},
          "output_type": "execute_result"
        }
      ],
      "source": [
        "nombre['quin']"
      ]
    },
    {
      "cell_type": "code",
      "execution_count": 120,
      "metadata": {},
      "outputs": [
        {
          "data": {
            "text/plain": [
              "{'nombre': 'juan', 'apellido': 'cardona'}"
            ]
          },
          "execution_count": 120,
          "metadata": {},
          "output_type": "execute_result"
        }
      ],
      "source": [
        "dict1 = dict(nombre='juan', apellido='cardona')\n",
        "dict1"
      ]
    },
    {
      "attachments": {},
      "cell_type": "markdown",
      "metadata": {},
      "source": [
        "Obtención y asignación de valores"
      ]
    },
    {
      "cell_type": "code",
      "execution_count": 122,
      "metadata": {},
      "outputs": [
        {
          "data": {
            "text/plain": [
              "dict_keys(['nombre', 'apellido'])"
            ]
          },
          "execution_count": 122,
          "metadata": {},
          "output_type": "execute_result"
        }
      ],
      "source": [
        "dict1.keys()"
      ]
    },
    {
      "cell_type": "code",
      "execution_count": 123,
      "metadata": {},
      "outputs": [
        {
          "data": {
            "text/plain": [
              "dict_values(['juan', 'cardona'])"
            ]
          },
          "execution_count": 123,
          "metadata": {},
          "output_type": "execute_result"
        }
      ],
      "source": [
        "dict1.values()"
      ]
    },
    {
      "cell_type": "code",
      "execution_count": 127,
      "metadata": {},
      "outputs": [
        {
          "data": {
            "text/plain": [
              "dict_items([('nombre', 'juan'), ('apellido', 'cardona')])"
            ]
          },
          "execution_count": 127,
          "metadata": {},
          "output_type": "execute_result"
        }
      ],
      "source": [
        "dict1.items()"
      ]
    },
    {
      "cell_type": "code",
      "execution_count": 128,
      "metadata": {},
      "outputs": [],
      "source": [
        "dict1['nombre'] = 'monica'"
      ]
    },
    {
      "cell_type": "code",
      "execution_count": 131,
      "metadata": {},
      "outputs": [
        {
          "data": {
            "text/plain": [
              "{'nombre': 'jorge', 'apellido': 'cardona', 'peso': '50'}"
            ]
          },
          "execution_count": 131,
          "metadata": {},
          "output_type": "execute_result"
        }
      ],
      "source": [
        "dict1.update({'peso': '50'})\n",
        "dict1"
      ]
    },
    {
      "cell_type": "code",
      "execution_count": 132,
      "metadata": {},
      "outputs": [
        {
          "data": {
            "text/plain": [
              "{'nombre': 'jorge', 'apellido': 'cardona', 'peso': '50', 'altura': '60'}"
            ]
          },
          "execution_count": 132,
          "metadata": {},
          "output_type": "execute_result"
        }
      ],
      "source": [
        "dict1['altura'] = '60'\n",
        "dict1"
      ]
    },
    {
      "cell_type": "code",
      "execution_count": 133,
      "metadata": {},
      "outputs": [
        {
          "data": {
            "text/plain": [
              "{'apellido': 'cardona', 'peso': '50', 'altura': '60'}"
            ]
          },
          "execution_count": 133,
          "metadata": {},
          "output_type": "execute_result"
        }
      ],
      "source": [
        "dict1.pop('nombre')\n",
        "dict1"
      ]
    },
    {
      "attachments": {},
      "cell_type": "markdown",
      "metadata": {},
      "source": [
        "Recorrer un diccionario"
      ]
    },
    {
      "cell_type": "code",
      "execution_count": 134,
      "metadata": {},
      "outputs": [
        {
          "name": "stdout",
          "output_type": "stream",
          "text": [
            "apellido\n",
            "peso\n",
            "altura\n"
          ]
        }
      ],
      "source": [
        "for x in dict1:\n",
        "  print(x)"
      ]
    },
    {
      "cell_type": "code",
      "execution_count": 135,
      "metadata": {},
      "outputs": [
        {
          "name": "stdout",
          "output_type": "stream",
          "text": [
            "cardona\n",
            "50\n",
            "60\n"
          ]
        }
      ],
      "source": [
        "for x in dict1:\n",
        "  print(dict1[x])"
      ]
    },
    {
      "cell_type": "code",
      "execution_count": 136,
      "metadata": {},
      "outputs": [
        {
          "name": "stdout",
          "output_type": "stream",
          "text": [
            "cardona\n",
            "50\n",
            "60\n"
          ]
        }
      ],
      "source": [
        "for x in dict1.values():\n",
        "  print(x)"
      ]
    },
    {
      "cell_type": "code",
      "execution_count": 139,
      "metadata": {},
      "outputs": [
        {
          "name": "stdout",
          "output_type": "stream",
          "text": [
            "apellido\n",
            "peso\n",
            "altura\n"
          ]
        }
      ],
      "source": [
        "for x in dict1.keys():\n",
        "  print(x)"
      ]
    },
    {
      "cell_type": "code",
      "execution_count": 142,
      "metadata": {},
      "outputs": [
        {
          "name": "stdout",
          "output_type": "stream",
          "text": [
            "apellido cardona\n",
            "peso 50\n",
            "altura 60\n"
          ]
        }
      ],
      "source": [
        "for x, y in dict1.items():\n",
        "    print(x, y)"
      ]
    },
    {
      "cell_type": "code",
      "execution_count": 143,
      "metadata": {},
      "outputs": [],
      "source": [
        "dict3 = dict1.copy()"
      ]
    },
    {
      "attachments": {},
      "cell_type": "markdown",
      "metadata": {},
      "source": [
        "Diccionarios de diccionarios"
      ]
    },
    {
      "cell_type": "code",
      "execution_count": 145,
      "metadata": {},
      "outputs": [
        {
          "data": {
            "text/plain": [
              "{'child1': {'name': 'Emil', 'year': 2004, 'grade': 5},\n",
              " 'child2': {'name': 'Tobias', 'year': 2007},\n",
              " 'child3': {'name': 'Linus', 'year': 2011}}"
            ]
          },
          "execution_count": 145,
          "metadata": {},
          "output_type": "execute_result"
        }
      ],
      "source": [
        "myfamily = {\n",
        "    \"child1\": {\n",
        "            \"name\": \"Emil\",\n",
        "            \"year\": 2004,\n",
        "            'grade': 5\n",
        "        },\n",
        "    \"child2\": {\n",
        "            \"name\": \"Tobias\",\n",
        "            \"year\": 2007\n",
        "        },\n",
        "    \"child3\": {\n",
        "            \"name\": \"Linus\",\n",
        "            \"year\": 2011\n",
        "        }\n",
        "}\n",
        "myfamily\n"
      ]
    },
    {
      "cell_type": "code",
      "execution_count": 147,
      "metadata": {},
      "outputs": [
        {
          "data": {
            "text/plain": [
              "{'child1': {'name': 'Emil', 'year': 2004},\n",
              " 'child2': {'name': 'Tobias', 'year': 2007},\n",
              " 'child3': {'name': 'Linus', 'year': 2011}}"
            ]
          },
          "execution_count": 147,
          "metadata": {},
          "output_type": "execute_result"
        }
      ],
      "source": [
        "child1 = {\n",
        "  \"name\" : \"Emil\",\n",
        "  \"year\" : 2004\n",
        "}\n",
        "child2 = {\n",
        "  \"name\" : \"Tobias\",\n",
        "  \"year\" : 2007\n",
        "}\n",
        "child3 = {\n",
        "  \"name\" : \"Linus\",\n",
        "  \"year\" : 2011\n",
        "}\n",
        "\n",
        "myfamily = {\n",
        "  \"child1\" : child1,\n",
        "  \"child2\" : child2,\n",
        "  \"child3\" : child3\n",
        "}\n",
        "myfamily"
      ]
    },
    {
      "attachments": {},
      "cell_type": "markdown",
      "metadata": {},
      "source": [
        "[Métodos de los diccionarios](https://www.w3schools.com/python/python_dictionaries_methods.asp)"
      ]
    },
    {
      "cell_type": "code",
      "execution_count": null,
      "metadata": {},
      "outputs": [],
      "source": []
    }
  ],
  "metadata": {
    "colab": {
      "provenance": []
    },
    "kernelspec": {
      "display_name": "Python 3.9.13 ('env': venv)",
      "language": "python",
      "name": "python3"
    },
    "language_info": {
      "codemirror_mode": {
        "name": "ipython",
        "version": 3
      },
      "file_extension": ".py",
      "mimetype": "text/x-python",
      "name": "python",
      "nbconvert_exporter": "python",
      "pygments_lexer": "ipython3",
      "version": "3.9.13"
    },
    "vscode": {
      "interpreter": {
        "hash": "c24d6d83b76d9a697b17f18c9eed0d019c4154a848dd5d0a0fc5b6ca9b61bb90"
      }
    }
  },
  "nbformat": 4,
  "nbformat_minor": 0
}
