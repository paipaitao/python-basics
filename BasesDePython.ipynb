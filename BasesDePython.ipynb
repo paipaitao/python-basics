{
  "cells": [
    {
      "cell_type": "code",
      "execution_count": 1,
      "metadata": {
        "colab": {
          "base_uri": "https://localhost:8080/"
        },
        "id": "q0EpJazHi9fu",
        "outputId": "0df69143-5ae7-4cf1-9473-730b0840a055"
      },
      "outputs": [
        {
          "name": "stdout",
          "output_type": "stream",
          "text": [
            "Python 3.9.13\n"
          ]
        }
      ],
      "source": [
        "!python --version\n"
      ]
    },
    {
      "cell_type": "markdown",
      "metadata": {
        "id": "YIJxt0sRjCSx"
      },
      "source": []
    },
    {
      "cell_type": "markdown",
      "metadata": {
        "id": "QPp1Z25VjSzt"
      },
      "source": [
        "# Python"
      ]
    },
    {
      "cell_type": "markdown",
      "metadata": {
        "id": "sbqJUo8MjoI5"
      },
      "source": [
        "## Sintáxis básica"
      ]
    },
    {
      "cell_type": "markdown",
      "metadata": {
        "id": "_GPM4GOCjti_"
      },
      "source": [
        "Impresiones en pantalla"
      ]
    },
    {
      "cell_type": "code",
      "execution_count": 1,
      "metadata": {
        "colab": {
          "base_uri": "https://localhost:8080/"
        },
        "id": "q4Wk5BldjlVl",
        "outputId": "e09001df-f9a4-478d-8f98-c562167ec73d"
      },
      "outputs": [
        {
          "name": "stdout",
          "output_type": "stream",
          "text": [
            "Hello world!!\n"
          ]
        }
      ],
      "source": [
        "print(\"Hello world!!\")\n"
      ]
    },
    {
      "cell_type": "markdown",
      "metadata": {
        "id": "dJkmI8nxkCvy"
      },
      "source": [
        "Indentación"
      ]
    },
    {
      "cell_type": "code",
      "execution_count": null,
      "metadata": {
        "colab": {
          "base_uri": "https://localhost:8080/"
        },
        "id": "AzA4y8IBkEYg",
        "outputId": "80cdca04-e4df-40a2-9d11-58d12ff9312d"
      },
      "outputs": [
        {
          "name": "stdout",
          "output_type": "stream",
          "text": [
            "8 es menor que 9\n"
          ]
        }
      ],
      "source": [
        "if 8 > 9:\n",
        "  print(\"8 es mayor que 9\")\n",
        "  print(\"hola\")\n",
        "else:\n",
        "  print(\"8 es menor que 9\")"
      ]
    },
    {
      "cell_type": "markdown",
      "metadata": {
        "id": "1fr0C3i3knPK"
      },
      "source": [
        "Indentación en un archivo .js\n",
        "```\n",
        "if (8 > 7) {\n",
        "    console.log('8 es mayor que 7');\n",
        "    console.log('hola');\n",
        "}\n",
        "```"
      ]
    },
    {
      "cell_type": "markdown",
      "metadata": {
        "id": "kn99riutk1tp"
      },
      "source": [
        "## Comentarios"
      ]
    },
    {
      "cell_type": "code",
      "execution_count": null,
      "metadata": {
        "colab": {
          "base_uri": "https://localhost:8080/"
        },
        "id": "Frj7zKLSkobw",
        "outputId": "b1113878-4155-4096-ad57-44efa04e507d"
      },
      "outputs": [
        {
          "name": "stdout",
          "output_type": "stream",
          "text": [
            "True\n"
          ]
        }
      ],
      "source": [
        "# unasndo # la linea es un comentario\n",
        "# no es suficiente para varias lineas\n",
        "\n",
        "\"\"\"\n",
        "  Se pueden escribir varias líneas\n",
        "  usando 3 \"\n",
        "  tambien se usa para documentación\n",
        "\"\"\"\n",
        "\n",
        "'''\n",
        "  Se pueden escribir varias líneas\n",
        "  usando 3 '\n",
        "  tambien se usa para documentación\n",
        "'''\n",
        "\n",
        "print(\"\" == '')"
      ]
    },
    {
      "cell_type": "code",
      "execution_count": 6,
      "metadata": {},
      "outputs": [],
      "source": [
        "a = 10"
      ]
    },
    {
      "cell_type": "code",
      "execution_count": 7,
      "metadata": {
        "colab": {
          "base_uri": "https://localhost:8080/"
        },
        "id": "v8v1a3ZBlSd8",
        "outputId": "f873f2a4-afa7-45d5-a483-e269fe239c88"
      },
      "outputs": [
        {
          "name": "stdout",
          "output_type": "stream",
          "text": [
            "Esto es un string formateado 10\n"
          ]
        }
      ],
      "source": [
        "print(f'Esto es un string formateado {a}')"
      ]
    },
    {
      "cell_type": "markdown",
      "metadata": {
        "id": "5pmU4Z0hlxix"
      },
      "source": [
        "## Variables"
      ]
    },
    {
      "cell_type": "markdown",
      "metadata": {
        "id": "9A4c-jTyl7Qe"
      },
      "source": [
        "Creación"
      ]
    },
    {
      "cell_type": "code",
      "execution_count": 24,
      "metadata": {
        "id": "BdaiXZDYlfWH"
      },
      "outputs": [],
      "source": [
        "d = 10\n",
        "t = 3.5"
      ]
    },
    {
      "cell_type": "code",
      "execution_count": 25,
      "metadata": {
        "id": "vGV1aiPal_DD"
      },
      "outputs": [],
      "source": [
        "h = 'hola'\n",
        "m = 'mundo'"
      ]
    },
    {
      "cell_type": "code",
      "execution_count": 26,
      "metadata": {
        "id": "HMi0V5ORmB2r"
      },
      "outputs": [],
      "source": [
        "v = True\n",
        "f = False"
      ]
    },
    {
      "cell_type": "code",
      "execution_count": 27,
      "metadata": {
        "colab": {
          "base_uri": "https://localhost:8080/"
        },
        "id": "IqpL_o6LmEm5",
        "outputId": "555cf5a2-73ee-4453-c133-efc00dcfe94b"
      },
      "outputs": [
        {
          "name": "stdout",
          "output_type": "stream",
          "text": [
            "Juan\n"
          ]
        }
      ],
      "source": [
        "x = 3\n",
        "x = 'Juan'\n",
        "print(x)"
      ]
    },
    {
      "cell_type": "markdown",
      "metadata": {
        "id": "_bjKtLFGmlol"
      },
      "source": [
        "Obtener el tipo de una variable"
      ]
    },
    {
      "cell_type": "code",
      "execution_count": null,
      "metadata": {
        "colab": {
          "base_uri": "https://localhost:8080/"
        },
        "id": "ZZC2wb5wmVmW",
        "outputId": "2d0d59fb-8a13-4abc-c00b-2c355d2e81d9"
      },
      "outputs": [
        {
          "name": "stdout",
          "output_type": "stream",
          "text": [
            "<class 'int'> <class 'float'> <class 'str'> <class 'str'> <class 'bool'> <class 'bool'>\n"
          ]
        }
      ],
      "source": [
        "print(\n",
        "    type(d),\n",
        "    type(t),\n",
        "    type(h),\n",
        "    type(m),\n",
        "    type(v),\n",
        "    type(f),\n",
        "    )"
      ]
    },
    {
      "cell_type": "markdown",
      "metadata": {
        "id": "L-2KixpInYy1"
      },
      "source": [
        "Nombres validos de variables"
      ]
    },
    {
      "cell_type": "code",
      "execution_count": null,
      "metadata": {
        "id": "Gz_rNAupmt1T"
      },
      "outputs": [],
      "source": [
        "minombre = 'Juan'\n",
        "mi_nombre = 'Juan'\n",
        "miNombre = 'Juan'\n",
        "MINOMBRE = 'Juan'\n",
        "MiNombre2 = 'Juan'"
      ]
    },
    {
      "cell_type": "markdown",
      "metadata": {
        "id": "lN60ErszngSG"
      },
      "source": [
        "Nombres inválidos\n",
        "\n",
        "```\n",
        "2minombre = 'Juan'\n",
        "mi-nombre = 'Juan'\n",
        "mi nombre = 'Juan'\n",
        "```"
      ]
    },
    {
      "cell_type": "markdown",
      "metadata": {
        "id": "KdBjAnYEnjOO"
      },
      "source": [
        "Sintaxis en variables con multiples palabras"
      ]
    },
    {
      "cell_type": "code",
      "execution_count": 8,
      "metadata": {
        "id": "lft_w28OnVwk"
      },
      "outputs": [],
      "source": [
        "miVariableEsUnNombre = 'Juan'   # Camel Case\n",
        "MiVariableEsUnNombre = 'Juan'   # Pascal Case\n",
        "mi_variable_es_un_nombre = 'Juan' # Snake Case"
      ]
    },
    {
      "cell_type": "markdown",
      "metadata": {
        "id": "HBWCxZpqoKkN"
      },
      "source": [
        "Asignaciones múltiples"
      ]
    },
    {
      "cell_type": "code",
      "execution_count": 9,
      "metadata": {
        "colab": {
          "base_uri": "https://localhost:8080/"
        },
        "id": "QmVFR5ZMoEpB",
        "outputId": "6499e912-781c-43c9-bfc8-8144fbc0b3b3"
      },
      "outputs": [
        {
          "name": "stdout",
          "output_type": "stream",
          "text": [
            "piña papaya pera\n"
          ]
        }
      ],
      "source": [
        "pi, pa, pe = 'piña', 'papaya', 'pera'\n",
        "print(pi, pa, pe)"
      ]
    },
    {
      "cell_type": "markdown",
      "metadata": {
        "id": "BfBlvmcdoWRw"
      },
      "source": [
        "Un valor a varias variables"
      ]
    },
    {
      "cell_type": "code",
      "execution_count": 11,
      "metadata": {
        "colab": {
          "base_uri": "https://localhost:8080/"
        },
        "id": "eqRQ0JlJoT18",
        "outputId": "5b944d70-ce5b-4af3-f1c1-012bc0b8c220"
      },
      "outputs": [
        {
          "name": "stdout",
          "output_type": "stream",
          "text": [
            "piña piña piña\n"
          ]
        }
      ],
      "source": [
        "pi = pa = pe = 'piña'\n",
        "print(pi, pa, pe)"
      ]
    },
    {
      "cell_type": "markdown",
      "metadata": {
        "id": "_EeEpkhdofwq"
      },
      "source": [
        "Desempaquetar listas"
      ]
    },
    {
      "cell_type": "code",
      "execution_count": 16,
      "metadata": {
        "id": "nFh17W1OohnE"
      },
      "outputs": [],
      "source": [
        "frutas = ['piña', 'banano', 'fresa']"
      ]
    },
    {
      "cell_type": "code",
      "execution_count": 17,
      "metadata": {
        "colab": {
          "base_uri": "https://localhost:8080/"
        },
        "id": "p8kS8X15otyf",
        "outputId": "9676363a-f4db-4ea8-e559-352ce83bf875"
      },
      "outputs": [
        {
          "name": "stdout",
          "output_type": "stream",
          "text": [
            "piña banano fresa\n"
          ]
        }
      ],
      "source": [
        "pi, ba, fr = frutas\n",
        "print(pi, ba, fr)"
      ]
    },
    {
      "cell_type": "markdown",
      "metadata": {
        "id": "X8SSZCygo4uu"
      },
      "source": [
        "Impresión de variables"
      ]
    },
    {
      "cell_type": "code",
      "execution_count": 49,
      "metadata": {},
      "outputs": [
        {
          "data": {
            "text/plain": [
              "('piña', 'fresa', 'banano')"
            ]
          },
          "execution_count": 49,
          "metadata": {},
          "output_type": "execute_result"
        }
      ],
      "source": [
        "pi, fr, ba"
      ]
    },
    {
      "cell_type": "code",
      "execution_count": 48,
      "metadata": {},
      "outputs": [
        {
          "data": {
            "text/plain": [
              "'banano'"
            ]
          },
          "execution_count": 48,
          "metadata": {},
          "output_type": "execute_result"
        }
      ],
      "source": [
        "pi\n",
        "ba"
      ]
    },
    {
      "cell_type": "code",
      "execution_count": 19,
      "metadata": {
        "colab": {
          "base_uri": "https://localhost:8080/"
        },
        "id": "Vu7Bl192o1ug",
        "outputId": "e82b40b6-1cfd-439c-800e-4cc8cd730902"
      },
      "outputs": [
        {
          "name": "stdout",
          "output_type": "stream",
          "text": [
            "piña\n",
            "banano\n",
            "fresa\n"
          ]
        }
      ],
      "source": [
        "print(pi)\n",
        "print(ba)\n",
        "print(fr)"
      ]
    },
    {
      "cell_type": "code",
      "execution_count": 21,
      "metadata": {
        "colab": {
          "base_uri": "https://localhost:8080/"
        },
        "id": "ft6v7Wi0pBaH",
        "outputId": "07f7af58-2c9e-49a9-afe9-374e71a250fc"
      },
      "outputs": [
        {
          "name": "stdout",
          "output_type": "stream",
          "text": [
            "piña banano fresa\n"
          ]
        }
      ],
      "source": [
        "print(pi, ba, fr)"
      ]
    },
    {
      "cell_type": "code",
      "execution_count": 22,
      "metadata": {
        "colab": {
          "base_uri": "https://localhost:8080/"
        },
        "id": "k4nSoqh8pDKL",
        "outputId": "150d3e7d-c3a1-48b6-c853-f61df80154c8"
      },
      "outputs": [
        {
          "name": "stdout",
          "output_type": "stream",
          "text": [
            "piñabananofresa\n"
          ]
        }
      ],
      "source": [
        "print(pi + ba + fr)"
      ]
    },
    {
      "cell_type": "code",
      "execution_count": 28,
      "metadata": {
        "colab": {
          "base_uri": "https://localhost:8080/"
        },
        "id": "eibPTAENpNV0",
        "outputId": "f242aa67-ca40-48f1-83d9-c92086a3c2a4"
      },
      "outputs": [
        {
          "name": "stdout",
          "output_type": "stream",
          "text": [
            "13.5\n"
          ]
        }
      ],
      "source": [
        "print(d + t)"
      ]
    },
    {
      "cell_type": "code",
      "execution_count": 29,
      "metadata": {
        "colab": {
          "base_uri": "https://localhost:8080/",
          "height": 167
        },
        "id": "lvbd_vL_pPLU",
        "outputId": "1f71e67f-c320-4529-8f38-316eae6e0585"
      },
      "outputs": [
        {
          "ename": "TypeError",
          "evalue": "unsupported operand type(s) for +: 'float' and 'str'",
          "output_type": "error",
          "traceback": [
            "\u001b[1;31m---------------------------------------------------------------------------\u001b[0m",
            "\u001b[1;31mTypeError\u001b[0m                                 Traceback (most recent call last)",
            "Cell \u001b[1;32mIn [29], line 1\u001b[0m\n\u001b[1;32m----> 1\u001b[0m \u001b[39mprint\u001b[39m(t \u001b[39m+\u001b[39;49m pi)\n",
            "\u001b[1;31mTypeError\u001b[0m: unsupported operand type(s) for +: 'float' and 'str'"
          ]
        }
      ],
      "source": [
        "print(t + pi)"
      ]
    },
    {
      "cell_type": "code",
      "execution_count": 30,
      "metadata": {
        "colab": {
          "base_uri": "https://localhost:8080/"
        },
        "id": "b9x6_fMkpTK1",
        "outputId": "f797c404-7f3d-424c-d192-95c121286ab0"
      },
      "outputs": [
        {
          "name": "stdout",
          "output_type": "stream",
          "text": [
            "3.5 piña\n"
          ]
        }
      ],
      "source": [
        "print(t, pi)"
      ]
    },
    {
      "cell_type": "code",
      "execution_count": 33,
      "metadata": {
        "colab": {
          "base_uri": "https://localhost:8080/"
        },
        "id": "BRe0rFgppbNa",
        "outputId": "e32e4446-352d-4fb4-f6fb-f49f2cae48a5"
      },
      "outputs": [
        {
          "name": "stdout",
          "output_type": "stream",
          "text": [
            "piña \n",
            " banano \n",
            " fresa\n"
          ]
        }
      ],
      "source": [
        "print(\n",
        "    pi, \n",
        "    '\\n',\n",
        "    ba, \n",
        "    '\\n',\n",
        "    fr\n",
        ")"
      ]
    },
    {
      "cell_type": "markdown",
      "metadata": {
        "id": "zYPctbYSqou2"
      },
      "source": [
        "Variables Gobales"
      ]
    },
    {
      "cell_type": "code",
      "execution_count": 34,
      "metadata": {
        "colab": {
          "base_uri": "https://localhost:8080/"
        },
        "id": "QuivCI26p5mI",
        "outputId": "68af28a8-40ca-4d09-8f58-e7357ea5d78e"
      },
      "outputs": [
        {
          "name": "stdout",
          "output_type": "stream",
          "text": [
            "estamos de noche\n",
            "estamos de día\n"
          ]
        }
      ],
      "source": [
        "x = 'día'\n",
        "\n",
        "def func():\n",
        "  x = 'noche'\n",
        "  print(f'estamos de {x}')\n",
        "\n",
        "func()\n",
        "\n",
        "print(f'estamos de {x}')"
      ]
    },
    {
      "cell_type": "code",
      "execution_count": 35,
      "metadata": {
        "colab": {
          "base_uri": "https://localhost:8080/"
        },
        "id": "zmKUK1FmrKyq",
        "outputId": "0375e5d3-6be8-4d5a-da52-0769c456078b"
      },
      "outputs": [
        {
          "name": "stdout",
          "output_type": "stream",
          "text": [
            "estamos de noche\n",
            "estamos de noche\n"
          ]
        }
      ],
      "source": [
        "x = 'día'\n",
        "\n",
        "def func():\n",
        "  global x\n",
        "  x = 'noche'\n",
        "  print(f'estamos de {x}')\n",
        "\n",
        "func()\n",
        "\n",
        "print(f'estamos de {x}')"
      ]
    },
    {
      "cell_type": "markdown",
      "metadata": {
        "id": "g68mQqY2raBj"
      },
      "source": [
        "## Tipos de datos\n",
        "\n",
        "```\n",
        "Text Type:\tstr\n",
        "Numeric Types:\tint, float, complex\n",
        "Boolean Type:\tbool\n",
        "Sequence Types:\tlist, tuple, range\n",
        "Mapping Type:\tdict\n",
        "Set Types:\tset, frozenset\n",
        "Binary Types:\tbytes, bytearray, memoryview\n",
        "None Type:\tNoneType\n",
        "```"
      ]
    },
    {
      "cell_type": "code",
      "execution_count": 36,
      "metadata": {
        "id": "kGk-xXucrcJU"
      },
      "outputs": [],
      "source": [
        "x = \"Hola Mundo!!\"  # str\n",
        "x = 20  # int\n",
        "x = 20.5  # float\n",
        "x = 0 + 1j  # complex\n",
        "x = True  # bool\n",
        "x = [\"papaya\", \"pera\", \"naranja\"]  # list\n",
        "x = (\"papaya\", \"pera\", \"naranja\")  # tuple\n",
        "x = range(6)  # range\n",
        "x = {\"name\": \"Pedro\", \"age\": 36}  # dict\n",
        "x = {\"papaya\", \"pera\", \"naranja\"}  # set\n",
        "x = frozenset({\"papaya\", \"pera\", \"naranja\"})  # frozenset\n",
        "x = b\"Hola\"  # bytes\n",
        "x = bytearray(5)  # bytearray\n",
        "x = memoryview(bytes(5))  # memoryview\n",
        "x = None  # NoneType"
      ]
    },
    {
      "cell_type": "code",
      "execution_count": 37,
      "metadata": {
        "colab": {
          "base_uri": "https://localhost:8080/"
        },
        "id": "MZGQzJonsG7D",
        "outputId": "19408858-0011-4d68-cf6b-ad386a07630b"
      },
      "outputs": [
        {
          "name": "stdout",
          "output_type": "stream",
          "text": [
            "(9+8j) <class 'complex'>\n"
          ]
        }
      ],
      "source": [
        "print(9+8j, type(9+8j))"
      ]
    },
    {
      "cell_type": "code",
      "execution_count": 38,
      "metadata": {
        "colab": {
          "base_uri": "https://localhost:8080/"
        },
        "id": "YWc5poDAsN1i",
        "outputId": "a505c9af-6b19-4366-d986-138559b0b7d9"
      },
      "outputs": [
        {
          "name": "stdout",
          "output_type": "stream",
          "text": [
            "bytearray(b'\\x00\\x00\\x00\\x00\\x00')\n"
          ]
        }
      ],
      "source": [
        "print(bytearray(5))"
      ]
    },
    {
      "cell_type": "markdown",
      "metadata": {},
      "source": [
        "Cambio de tipo de variables"
      ]
    },
    {
      "cell_type": "code",
      "execution_count": 40,
      "metadata": {
        "id": "v3fi7_1VtDHV"
      },
      "outputs": [],
      "source": [
        "x = str(\"Hello World\")\t#str\n",
        "x = int('1312312') #int\n",
        "x = float(20.5) #float\n",
        "x = complex(1j) #complex\n",
        "x = list((\"manzana\", \"sandia\", \"pan\")) #list\n",
        "x = tuple((\"manzana\", \"sandia\", \"pan\")) #tuple\n",
        "x = range(6) #range\n",
        "x = dict(name=\"Jose\", age=19) #dict\n",
        "x = set((\"manzana\", \"sandia\", \"pan\")) #set\n",
        "x = frozenset((\"manzana\", \"sandia\", \"pan\")) #frozenset\n",
        "x = bool(5) #bool\n",
        "x = bytes(5) #bytes\n",
        "x = bytearray(5) #bytearray\n",
        "x = memoryview(bytes(5)) #memoryview"
      ]
    },
    {
      "cell_type": "code",
      "execution_count": null,
      "metadata": {
        "colab": {
          "base_uri": "https://localhost:8080/"
        },
        "id": "s7VNZBl3tvIP",
        "outputId": "e3e404f8-f9f7-4d61-d02a-bbd6187c8ac4"
      },
      "outputs": [
        {
          "name": "stdout",
          "output_type": "stream",
          "text": [
            "45.9 <class 'str'>\n"
          ]
        }
      ],
      "source": [
        "x = str(45.9)\n",
        "print(x, type(x))"
      ]
    },
    {
      "cell_type": "code",
      "execution_count": null,
      "metadata": {
        "colab": {
          "base_uri": "https://localhost:8080/",
          "height": 182
        },
        "id": "SoHGr7KFtyCX",
        "outputId": "b31d10e5-7b74-45eb-a61a-c2561ad37d86"
      },
      "outputs": [
        {
          "ename": "ValueError",
          "evalue": "ignored",
          "output_type": "error",
          "traceback": [
            "\u001b[0;31m---------------------------------------------------------------------------\u001b[0m",
            "\u001b[0;31mValueError\u001b[0m                                Traceback (most recent call last)",
            "\u001b[0;32m<ipython-input-6-1d102f34bde6>\u001b[0m in \u001b[0;36m<module>\u001b[0;34m\u001b[0m\n\u001b[0;32m----> 1\u001b[0;31m \u001b[0mx\u001b[0m \u001b[0;34m=\u001b[0m \u001b[0mint\u001b[0m\u001b[0;34m(\u001b[0m\u001b[0;34m'g'\u001b[0m\u001b[0;34m)\u001b[0m\u001b[0;34m\u001b[0m\u001b[0;34m\u001b[0m\u001b[0m\n\u001b[0m\u001b[1;32m      2\u001b[0m \u001b[0mprint\u001b[0m\u001b[0;34m(\u001b[0m\u001b[0mx\u001b[0m\u001b[0;34m,\u001b[0m \u001b[0mtype\u001b[0m\u001b[0;34m(\u001b[0m\u001b[0mx\u001b[0m\u001b[0;34m)\u001b[0m\u001b[0;34m)\u001b[0m\u001b[0;34m\u001b[0m\u001b[0;34m\u001b[0m\u001b[0m\n",
            "\u001b[0;31mValueError\u001b[0m: invalid literal for int() with base 10: 'g'"
          ]
        }
      ],
      "source": [
        "x = int('g')\n",
        "print(x, type(x))"
      ]
    },
    {
      "cell_type": "code",
      "execution_count": null,
      "metadata": {
        "id": "8cC6xUQjuBDF"
      },
      "outputs": [],
      "source": [
        "x = dict(name=\"Jose\", age=19) #dict\n",
        "print(x, type(x))"
      ]
    },
    {
      "cell_type": "markdown",
      "metadata": {
        "id": "9QT_Q3PguPGW"
      },
      "source": [
        "Números"
      ]
    },
    {
      "cell_type": "code",
      "execution_count": null,
      "metadata": {
        "id": "CCdRTgObuInf"
      },
      "outputs": [],
      "source": [
        "x = 1  # int\n",
        "y = 2.8 # float\n",
        "z = 3+1j # complex"
      ]
    },
    {
      "cell_type": "code",
      "execution_count": null,
      "metadata": {
        "id": "8aQrejmkurdH"
      },
      "outputs": [],
      "source": [
        "x = 1\n",
        "y = 10927391267378162387162387612\n",
        "z = -5435"
      ]
    },
    {
      "cell_type": "code",
      "execution_count": null,
      "metadata": {
        "id": "fWY_GugGu0EW"
      },
      "outputs": [],
      "source": [
        "x = 1.0\n",
        "y = 1.1\n",
        "z = -4.9"
      ]
    },
    {
      "cell_type": "code",
      "execution_count": null,
      "metadata": {
        "id": "CKwbkf-mu-9V"
      },
      "outputs": [],
      "source": [
        "x = 10e4\n",
        "y = 3E4\n",
        "z = -4.6e59"
      ]
    },
    {
      "cell_type": "code",
      "execution_count": null,
      "metadata": {
        "id": "N_HM6yHBvYLo"
      },
      "outputs": [],
      "source": [
        "x = 1j\n",
        "y = 3 + 5j\n",
        "z = -4 -6j"
      ]
    },
    {
      "cell_type": "code",
      "execution_count": null,
      "metadata": {
        "id": "48Pjroatud2i"
      },
      "outputs": [],
      "source": [
        "print(type(x),type(y),type(z))"
      ]
    },
    {
      "cell_type": "markdown",
      "metadata": {
        "id": "sC4Hsx01vnR-"
      },
      "source": [
        "Conversiones entre números"
      ]
    },
    {
      "cell_type": "code",
      "execution_count": null,
      "metadata": {
        "id": "0a4nLg0Gvgsp"
      },
      "outputs": [],
      "source": [
        "x = 1  # int\n",
        "y = 2.8 # float\n",
        "z = 3+1j # complex"
      ]
    },
    {
      "cell_type": "code",
      "execution_count": null,
      "metadata": {
        "id": "lW5WJFcFvu__"
      },
      "outputs": [],
      "source": [
        "# int to float\n",
        "a = float(x)\n",
        "print(a, type(a))"
      ]
    },
    {
      "cell_type": "code",
      "execution_count": null,
      "metadata": {
        "id": "Pehxhwlyv3l-"
      },
      "outputs": [],
      "source": [
        "# float to int\n",
        "b = int(y)\n",
        "print(b, type(b))"
      ]
    },
    {
      "cell_type": "code",
      "execution_count": null,
      "metadata": {
        "id": "OAL_cSmHwPaq"
      },
      "outputs": [],
      "source": [
        "# int to complex\n",
        "c = complex(z)\n",
        "print(c, type(c))"
      ]
    },
    {
      "cell_type": "markdown",
      "metadata": {
        "id": "f6kVFROVwjvR"
      },
      "source": [
        "Conversiones a números"
      ]
    },
    {
      "cell_type": "code",
      "execution_count": null,
      "metadata": {
        "id": "dS9NhkLFwcot"
      },
      "outputs": [],
      "source": [
        "x = int(1)\n",
        "y = int(2.6)\n",
        "z = int('58')\n",
        "print(z)"
      ]
    },
    {
      "cell_type": "code",
      "execution_count": null,
      "metadata": {
        "id": "DuKtUWlVw3Is"
      },
      "outputs": [],
      "source": [
        "x = float(1)\n",
        "y = float(6.8)\n",
        "z = float('3')\n",
        "w = float('8.8')\n",
        "print(w)"
      ]
    },
    {
      "cell_type": "code",
      "execution_count": null,
      "metadata": {
        "id": "kWVtCnQAxO16"
      },
      "outputs": [],
      "source": [
        "x = complex(1)\n",
        "y = complex(2.8)\n",
        "z = complex('3j')\n",
        "w = complex('8.8')\n",
        "v = complex('8.8+5j')\n",
        "print(v)"
      ]
    },
    {
      "cell_type": "markdown",
      "metadata": {
        "id": "hoMbTL1PyCFv"
      },
      "source": [
        "strings"
      ]
    },
    {
      "cell_type": "code",
      "execution_count": 41,
      "metadata": {
        "id": "8unQedxmxgAM"
      },
      "outputs": [],
      "source": [
        "b = \"\"\"\n",
        "  Se pueden escribir varias líneas \n",
        "  usando 3 \"\n",
        "  tambien se usa para documentación\n",
        "\"\"\"\n",
        "\n",
        "c = '''\n",
        "  Se pueden escribir varias líneas\n",
        "  usando 3 '\n",
        "  tambien se usa para documentación\n",
        "'''\n"
      ]
    },
    {
      "cell_type": "markdown",
      "metadata": {},
      "source": [
        "Conversiones a strings\n"
      ]
    },
    {
      "cell_type": "code",
      "execution_count": 44,
      "metadata": {},
      "outputs": [
        {
          "data": {
            "text/plain": [
              "'12345'"
            ]
          },
          "execution_count": 44,
          "metadata": {},
          "output_type": "execute_result"
        }
      ],
      "source": [
        "a = str('12345')\n",
        "\n",
        "a"
      ]
    },
    {
      "cell_type": "code",
      "execution_count": 52,
      "metadata": {},
      "outputs": [
        {
          "data": {
            "text/plain": [
              "'12345'"
            ]
          },
          "execution_count": 52,
          "metadata": {},
          "output_type": "execute_result"
        }
      ],
      "source": [
        "a = str(int(12345.0))\n",
        "a"
      ]
    },
    {
      "cell_type": "code",
      "execution_count": 53,
      "metadata": {},
      "outputs": [],
      "source": [
        "a = str(float(87))"
      ]
    },
    {
      "cell_type": "markdown",
      "metadata": {},
      "source": [
        "Strings como listas"
      ]
    },
    {
      "cell_type": "code",
      "execution_count": 59,
      "metadata": {},
      "outputs": [
        {
          "data": {
            "text/plain": [
              "\"\\n  Se pueden escribir varias líneas\\n  usando 3 '\\n  tambien se usa para documentación\\n\""
            ]
          },
          "execution_count": 59,
          "metadata": {},
          "output_type": "execute_result"
        }
      ],
      "source": [
        "c"
      ]
    },
    {
      "cell_type": "code",
      "execution_count": 67,
      "metadata": {},
      "outputs": [
        {
          "name": "stdout",
          "output_type": "stream",
          "text": [
            " \n"
          ]
        }
      ],
      "source": [
        "print(c[5])"
      ]
    },
    {
      "cell_type": "code",
      "execution_count": 62,
      "metadata": {},
      "outputs": [
        {
          "name": "stdout",
          "output_type": "stream",
          "text": [
            "\n",
            "\n",
            " \n",
            " \n",
            "S\n",
            "e\n",
            " \n",
            "p\n",
            "u\n",
            "e\n",
            "d\n",
            "e\n",
            "n\n",
            " \n",
            "e\n",
            "s\n",
            "c\n",
            "r\n",
            "i\n",
            "b\n",
            "i\n",
            "r\n",
            " \n",
            "v\n",
            "a\n",
            "r\n",
            "i\n",
            "a\n",
            "s\n",
            " \n",
            "l\n",
            "í\n",
            "n\n",
            "e\n",
            "a\n",
            "s\n",
            "\n",
            "\n",
            " \n",
            " \n",
            "u\n",
            "s\n",
            "a\n",
            "n\n",
            "d\n",
            "o\n",
            " \n",
            "3\n",
            " \n",
            "'\n",
            "\n",
            "\n",
            " \n",
            " \n",
            "t\n",
            "a\n",
            "m\n",
            "b\n",
            "i\n",
            "e\n",
            "n\n",
            " \n",
            "s\n",
            "e\n",
            " \n",
            "u\n",
            "s\n",
            "a\n",
            " \n",
            "p\n",
            "a\n",
            "r\n",
            "a\n",
            " \n",
            "d\n",
            "o\n",
            "c\n",
            "u\n",
            "m\n",
            "e\n",
            "n\n",
            "t\n",
            "a\n",
            "c\n",
            "i\n",
            "ó\n",
            "n\n",
            "\n",
            "\n"
          ]
        }
      ],
      "source": [
        "for i in c:\n",
        "    print(i)"
      ]
    },
    {
      "cell_type": "markdown",
      "metadata": {},
      "source": [
        "Longitud de un string"
      ]
    },
    {
      "cell_type": "code",
      "execution_count": 63,
      "metadata": {},
      "outputs": [
        {
          "data": {
            "text/plain": [
              "85"
            ]
          },
          "execution_count": 63,
          "metadata": {},
          "output_type": "execute_result"
        }
      ],
      "source": [
        "len(c)"
      ]
    },
    {
      "cell_type": "markdown",
      "metadata": {},
      "source": [
        "Pertenencia de strings"
      ]
    },
    {
      "cell_type": "code",
      "execution_count": 68,
      "metadata": {},
      "outputs": [
        {
          "data": {
            "text/plain": [
              "\"\\n  Se pueden escribir varias líneas\\n  usando 3 '\\n  tambien se usa para documentación\\n\""
            ]
          },
          "execution_count": 68,
          "metadata": {},
          "output_type": "execute_result"
        }
      ],
      "source": [
        "c"
      ]
    },
    {
      "cell_type": "code",
      "execution_count": 73,
      "metadata": {},
      "outputs": [
        {
          "name": "stdout",
          "output_type": "stream",
          "text": [
            "True\n"
          ]
        }
      ],
      "source": [
        "print(' Se' in c)"
      ]
    },
    {
      "cell_type": "code",
      "execution_count": 75,
      "metadata": {},
      "outputs": [
        {
          "name": "stdout",
          "output_type": "stream",
          "text": [
            "True\n"
          ]
        }
      ],
      "source": [
        "print('        Se' not in c)\n"
      ]
    },
    {
      "cell_type": "markdown",
      "metadata": {},
      "source": [
        "Segmentación de strings"
      ]
    },
    {
      "cell_type": "code",
      "execution_count": 76,
      "metadata": {},
      "outputs": [
        {
          "name": "stdout",
          "output_type": "stream",
          "text": [
            " escribi\n"
          ]
        }
      ],
      "source": [
        "print(c[12:20]) # inicio y fin dados"
      ]
    },
    {
      "cell_type": "code",
      "execution_count": 77,
      "metadata": {},
      "outputs": [
        {
          "name": "stdout",
          "output_type": "stream",
          "text": [
            "\n",
            "  Se pueden escribi\n"
          ]
        }
      ],
      "source": [
        "print(c[:20]) # fin dado"
      ]
    },
    {
      "cell_type": "code",
      "execution_count": 78,
      "metadata": {},
      "outputs": [
        {
          "name": "stdout",
          "output_type": "stream",
          "text": [
            "r varias líneas\n",
            "  usando 3 '\n",
            "  tambien se usa para documentación\n",
            "\n"
          ]
        }
      ],
      "source": [
        "print(c[20:]) # inicio dado"
      ]
    },
    {
      "cell_type": "code",
      "execution_count": 83,
      "metadata": {},
      "outputs": [
        {
          "name": "stdout",
          "output_type": "stream",
          "text": [
            "\n",
            "  Se pueden escribir varias líneas\n",
            "  usando 3 '\n",
            "  tambien se usa para documentación\n"
          ]
        }
      ],
      "source": [
        "print(c[:-1]) # indice negativo"
      ]
    },
    {
      "cell_type": "markdown",
      "metadata": {},
      "source": [
        "Upper case"
      ]
    },
    {
      "cell_type": "code",
      "execution_count": 86,
      "metadata": {},
      "outputs": [
        {
          "name": "stdout",
          "output_type": "stream",
          "text": [
            "\n",
            "  SE PUEDEN ESCRIBIR VARIAS LÍNEAS\n",
            "  USANDO 3 '\n",
            "  TAMBIEN SE USA PARA DOCUMENTACIÓN\n",
            "\n"
          ]
        }
      ],
      "source": [
        "m = c.upper()\n",
        "print(m)"
      ]
    },
    {
      "cell_type": "code",
      "execution_count": 87,
      "metadata": {},
      "outputs": [
        {
          "data": {
            "text/plain": [
              "\"\\n  SE PUEDEN ESCRIBIR VARIAS LÍNEAS\\n  USANDO 3 '\\n  TAMBIEN SE USA PARA DOCUMENTACIÓN\\n\""
            ]
          },
          "execution_count": 87,
          "metadata": {},
          "output_type": "execute_result"
        }
      ],
      "source": [
        "m"
      ]
    },
    {
      "cell_type": "markdown",
      "metadata": {},
      "source": [
        "Lower case"
      ]
    },
    {
      "cell_type": "code",
      "execution_count": 88,
      "metadata": {},
      "outputs": [
        {
          "name": "stdout",
          "output_type": "stream",
          "text": [
            "\n",
            "  se pueden escribir varias líneas\n",
            "  usando 3 '\n",
            "  tambien se usa para documentación\n",
            "\n"
          ]
        }
      ],
      "source": [
        "n = m.lower()\n",
        "print(n)"
      ]
    },
    {
      "cell_type": "markdown",
      "metadata": {},
      "source": [
        "Partir un string (split)"
      ]
    },
    {
      "cell_type": "code",
      "execution_count": 90,
      "metadata": {},
      "outputs": [
        {
          "data": {
            "text/plain": [
              "\"\\n  Se pueden escribir varias líneas\\n  usando 3 '\\n  tambien se usa para documentación\\n\""
            ]
          },
          "execution_count": 90,
          "metadata": {},
          "output_type": "execute_result"
        }
      ],
      "source": [
        "c"
      ]
    },
    {
      "cell_type": "code",
      "execution_count": 91,
      "metadata": {},
      "outputs": [
        {
          "name": "stdout",
          "output_type": "stream",
          "text": [
            "['', '  Se pueden escribir varias líneas', \"  usando 3 '\", '  tambien se usa para documentación', '']\n"
          ]
        }
      ],
      "source": [
        "p = c.split('\\n')\n",
        "print(p)"
      ]
    },
    {
      "cell_type": "markdown",
      "metadata": {},
      "source": [
        "Quitar espacios inicio string (strip)"
      ]
    },
    {
      "cell_type": "code",
      "execution_count": 4,
      "metadata": {},
      "outputs": [],
      "source": [
        "m = '                   asasdio oaisduaoisd   oaidsuiaos   qweqweq  132 12 3'"
      ]
    },
    {
      "cell_type": "code",
      "execution_count": 5,
      "metadata": {},
      "outputs": [
        {
          "name": "stdout",
          "output_type": "stream",
          "text": [
            "asasdio oaisduaoisd   oaidsuiaos   qweqweq  132 12 3\n"
          ]
        }
      ],
      "source": [
        "m = m.strip()\n",
        "print(m)"
      ]
    },
    {
      "cell_type": "markdown",
      "metadata": {},
      "source": [
        "Reemplazar valores en un string"
      ]
    },
    {
      "cell_type": "code",
      "execution_count": 6,
      "metadata": {},
      "outputs": [
        {
          "data": {
            "text/plain": [
              "True"
            ]
          },
          "execution_count": 6,
          "metadata": {},
          "output_type": "execute_result"
        }
      ],
      "source": [
        "'asasdio' in m"
      ]
    },
    {
      "cell_type": "code",
      "execution_count": 7,
      "metadata": {},
      "outputs": [
        {
          "data": {
            "text/plain": [
              "'Hola oaisduaoisd   oaidsuiaos   qweqweq  132 12 3'"
            ]
          },
          "execution_count": 7,
          "metadata": {},
          "output_type": "execute_result"
        }
      ],
      "source": [
        "m = m.replace('asasdio', 'Hola')\n",
        "m"
      ]
    },
    {
      "cell_type": "code",
      "execution_count": 8,
      "metadata": {},
      "outputs": [
        {
          "data": {
            "text/plain": [
              "'Hola_oaisduaoisd___oaidsuiaos___qweqweq__132_12_3'"
            ]
          },
          "execution_count": 8,
          "metadata": {},
          "output_type": "execute_result"
        }
      ],
      "source": [
        "m = m.replace(' ', '_')\n",
        "m"
      ]
    },
    {
      "cell_type": "code",
      "execution_count": 10,
      "metadata": {},
      "outputs": [
        {
          "data": {
            "text/plain": [
              "['Hola',\n",
              " 'oaisduaoisd',\n",
              " '',\n",
              " '',\n",
              " 'oaidsuiaos',\n",
              " '',\n",
              " '',\n",
              " 'qweqweq',\n",
              " '',\n",
              " '132',\n",
              " '12',\n",
              " '3']"
            ]
          },
          "execution_count": 10,
          "metadata": {},
          "output_type": "execute_result"
        }
      ],
      "source": [
        "m = m.split('_')\n",
        "m"
      ]
    },
    {
      "cell_type": "markdown",
      "metadata": {},
      "source": [
        "Formatear strings"
      ]
    },
    {
      "cell_type": "code",
      "execution_count": 11,
      "metadata": {},
      "outputs": [],
      "source": [
        "txt = 'buenas tardes mi nombre es juan'"
      ]
    },
    {
      "cell_type": "code",
      "execution_count": 13,
      "metadata": {},
      "outputs": [
        {
          "data": {
            "text/plain": [
              "'buenas tardes mi nombre es '"
            ]
          },
          "execution_count": 13,
          "metadata": {},
          "output_type": "execute_result"
        }
      ],
      "source": [
        "txt = txt.replace('juan', '')\n",
        "txt"
      ]
    },
    {
      "cell_type": "code",
      "execution_count": 14,
      "metadata": {},
      "outputs": [],
      "source": [
        "nombre = 'Jorge'"
      ]
    },
    {
      "cell_type": "code",
      "execution_count": 15,
      "metadata": {},
      "outputs": [
        {
          "data": {
            "text/plain": [
              "True"
            ]
          },
          "execution_count": 15,
          "metadata": {},
          "output_type": "execute_result"
        }
      ],
      "source": [
        "type(txt) == type(nombre)"
      ]
    },
    {
      "cell_type": "code",
      "execution_count": 28,
      "metadata": {},
      "outputs": [
        {
          "data": {
            "text/plain": [
              "'buenas tardes mi nombre es Jorge y me gusta el agua'"
            ]
          },
          "execution_count": 28,
          "metadata": {},
          "output_type": "execute_result"
        }
      ],
      "source": [
        "txt = 'buenas tardes mi nombre es ' + nombre + ' y me gusta el agua'\n",
        "txt"
      ]
    },
    {
      "cell_type": "code",
      "execution_count": 23,
      "metadata": {},
      "outputs": [],
      "source": [
        "edad = 30"
      ]
    },
    {
      "cell_type": "code",
      "execution_count": 29,
      "metadata": {},
      "outputs": [],
      "source": [
        "txt = txt + ' ' + str(edad) + ' y esta es mi edad'\n"
      ]
    },
    {
      "cell_type": "code",
      "execution_count": 30,
      "metadata": {},
      "outputs": [
        {
          "data": {
            "text/plain": [
              "'buenas tardes mi nombre es Jorge y me gusta el agua 30 ty esta es mi edad'"
            ]
          },
          "execution_count": 30,
          "metadata": {},
          "output_type": "execute_result"
        }
      ],
      "source": [
        "txt"
      ]
    },
    {
      "cell_type": "code",
      "execution_count": 32,
      "metadata": {},
      "outputs": [
        {
          "data": {
            "text/plain": [
              "'hola mi edad es 30'"
            ]
          },
          "execution_count": 32,
          "metadata": {},
          "output_type": "execute_result"
        }
      ],
      "source": [
        "edad = 30\n",
        "txt = 'hola mi {} es {}'.format('edad',edad)\n",
        "txt"
      ]
    },
    {
      "cell_type": "code",
      "execution_count": 40,
      "metadata": {},
      "outputs": [
        {
          "data": {
            "text/plain": [
              "'hola mi \\n edad es 30'"
            ]
          },
          "execution_count": 40,
          "metadata": {},
          "output_type": "execute_result"
        }
      ],
      "source": [
        "edad = 30\n",
        "var1 = 'edad'\n",
        "txt = f'hola mi \\n {var1} es {edad}'\n",
        "txt\n"
      ]
    },
    {
      "cell_type": "markdown",
      "metadata": {},
      "source": [
        "Caracteres Back Slask (\\\\)\n",
        "\n",
        "```\n",
        "    \\'\t        Single Quote\n",
        "    \\\"\t        Single Double Quote\n",
        "    \\\\\t        Backslash\t\n",
        "    \\n\t        New Line\t\n",
        "    \\r\t        Carriage Return\t\n",
        "    \\t\t        Tab\t\n",
        "    \\b\t        Backspace\t\t\n",
        "```"
      ]
    },
    {
      "cell_type": "code",
      "execution_count": 59,
      "metadata": {},
      "outputs": [
        {
          "name": "stdout",
          "output_type": "stream",
          "text": [
            "hola \n",
            " mi nombre \n",
            "\n",
            " es Juan\n"
          ]
        }
      ],
      "source": [
        "txt = 'hola \\n mi nombre \\n\\n es Juan'\n",
        "print(txt)"
      ]
    },
    {
      "cell_type": "code",
      "execution_count": 43,
      "metadata": {},
      "outputs": [],
      "source": [
        "txt = '''Hola\n",
        "mi nombre es\n",
        "juan\n",
        "'''"
      ]
    },
    {
      "cell_type": "code",
      "execution_count": 47,
      "metadata": {},
      "outputs": [
        {
          "data": {
            "text/plain": [
              "'Hola\\nmi nombre es\\njuan\\n\\thola'"
            ]
          },
          "execution_count": 47,
          "metadata": {},
          "output_type": "execute_result"
        }
      ],
      "source": [
        "txt + \"\\t\" +'hola'"
      ]
    },
    {
      "cell_type": "code",
      "execution_count": 48,
      "metadata": {},
      "outputs": [
        {
          "name": "stdout",
          "output_type": "stream",
          "text": [
            "Mi nombre es \"Juan\" y tengo años\n",
            "me gusta \n",
            "leer,\n",
            "jugar y \thacer ejercicio\n",
            "vivocon 3 animales y 4 familiares\n"
          ]
        }
      ],
      "source": [
        "txt ='''Mi nombre es \\\"Juan\\\" y tengo años\n",
        "me gusta \\nleer,\\n \\rjugar y \\thacer ejercicio\n",
        "vivo \\bcon 3 animales y 4 familiares'''\n",
        "print(txt)"
      ]
    },
    {
      "cell_type": "code",
      "execution_count": 62,
      "metadata": {},
      "outputs": [
        {
          "data": {
            "text/plain": [
              "'hola \\n mi nombre \\n\\n es Juan'"
            ]
          },
          "execution_count": 62,
          "metadata": {},
          "output_type": "execute_result"
        }
      ],
      "source": [
        "txt"
      ]
    },
    {
      "cell_type": "markdown",
      "metadata": {},
      "source": [
        "Encontrar la posicioon de un string en otro string"
      ]
    },
    {
      "cell_type": "code",
      "execution_count": 65,
      "metadata": {},
      "outputs": [
        {
          "data": {
            "text/plain": [
              "23"
            ]
          },
          "execution_count": 65,
          "metadata": {},
          "output_type": "execute_result"
        }
      ],
      "source": [
        "txt.find('Juan')"
      ]
    },
    {
      "cell_type": "code",
      "execution_count": 68,
      "metadata": {},
      "outputs": [
        {
          "data": {
            "text/plain": [
              "'Juan'"
            ]
          },
          "execution_count": 68,
          "metadata": {},
          "output_type": "execute_result"
        }
      ],
      "source": [
        "txt[23:]"
      ]
    },
    {
      "cell_type": "markdown",
      "metadata": {},
      "source": [
        "[Metodos de los Strings](https://www.w3schools.com/python/python_strings_methods.asp)"
      ]
    },
    {
      "cell_type": "markdown",
      "metadata": {},
      "source": [
        "Booleanos"
      ]
    },
    {
      "cell_type": "code",
      "execution_count": 70,
      "metadata": {},
      "outputs": [
        {
          "name": "stdout",
          "output_type": "stream",
          "text": [
            "900 es menor que 3000\n"
          ]
        }
      ],
      "source": [
        "n1 = 900\n",
        "n2 = 3000\n",
        "\n",
        "if n1 > n2:\n",
        "    print(f'{n1} es mayor que {n2}')\n",
        "else:\n",
        "    print(f'{n1} es menor que {n2}')"
      ]
    },
    {
      "cell_type": "code",
      "execution_count": 71,
      "metadata": {},
      "outputs": [
        {
          "name": "stdout",
          "output_type": "stream",
          "text": [
            "False\n"
          ]
        }
      ],
      "source": [
        "print(n1 > n2)"
      ]
    },
    {
      "cell_type": "markdown",
      "metadata": {},
      "source": [
        "Negaciones"
      ]
    },
    {
      "cell_type": "code",
      "execution_count": 73,
      "metadata": {},
      "outputs": [
        {
          "name": "stdout",
          "output_type": "stream",
          "text": [
            "True\n",
            "True\n",
            "False\n"
          ]
        }
      ],
      "source": [
        "print(not n1 > n2)\n",
        "print(not False)\n",
        "print(not True)"
      ]
    },
    {
      "cell_type": "markdown",
      "metadata": {},
      "source": [
        "Conjunción y disjunción"
      ]
    },
    {
      "cell_type": "markdown",
      "metadata": {},
      "source": [
        "![Image](https://th.bing.com/th/id/OIP.peJYgdD6w6v6TQ_f9FySbAGyCP?pid=ImgDet&rs=1)"
      ]
    },
    {
      "cell_type": "code",
      "execution_count": 76,
      "metadata": {},
      "outputs": [
        {
          "name": "stdout",
          "output_type": "stream",
          "text": [
            "True\n"
          ]
        }
      ],
      "source": [
        "print(False or True)"
      ]
    },
    {
      "cell_type": "code",
      "execution_count": 78,
      "metadata": {},
      "outputs": [
        {
          "name": "stdout",
          "output_type": "stream",
          "text": [
            "True\n"
          ]
        }
      ],
      "source": [
        "print(False | True)"
      ]
    },
    {
      "cell_type": "code",
      "execution_count": null,
      "metadata": {},
      "outputs": [],
      "source": [
        "print(False and True)"
      ]
    },
    {
      "cell_type": "code",
      "execution_count": 79,
      "metadata": {},
      "outputs": [
        {
          "name": "stdout",
          "output_type": "stream",
          "text": [
            "False\n"
          ]
        }
      ],
      "source": [
        "print(False & True)"
      ]
    },
    {
      "cell_type": "markdown",
      "metadata": {},
      "source": [
        "Comparaciones o igualdades"
      ]
    },
    {
      "cell_type": "code",
      "execution_count": 86,
      "metadata": {},
      "outputs": [
        {
          "name": "stdout",
          "output_type": "stream",
          "text": [
            "True\n",
            "True\n",
            "True\n",
            "True\n"
          ]
        }
      ],
      "source": [
        "print(True == 1)\n",
        "print(False == 0)\n",
        "print(False != 2)\n",
        "print(True != 2)"
      ]
    },
    {
      "cell_type": "code",
      "execution_count": 88,
      "metadata": {},
      "outputs": [
        {
          "name": "stdout",
          "output_type": "stream",
          "text": [
            "False\n",
            "True\n"
          ]
        }
      ],
      "source": [
        "print(3 != 3)\n",
        "print(1 != 2)"
      ]
    },
    {
      "cell_type": "markdown",
      "metadata": {},
      "source": [
        "Referencia a la misma variable"
      ]
    },
    {
      "cell_type": "code",
      "execution_count": 89,
      "metadata": {},
      "outputs": [
        {
          "name": "stdout",
          "output_type": "stream",
          "text": [
            "True\n",
            "True\n"
          ]
        }
      ],
      "source": [
        "list1 = [1, 2, 3, 4]\n",
        "list2 = list1 \n",
        "print(list1 is list2)\n",
        "print(list1 == list2)"
      ]
    },
    {
      "cell_type": "code",
      "execution_count": 91,
      "metadata": {},
      "outputs": [
        {
          "name": "stdout",
          "output_type": "stream",
          "text": [
            "False\n",
            "True\n",
            "True\n"
          ]
        }
      ],
      "source": [
        "list2 = [1, 2, 3, 4]\n",
        "print(list1 is list2)\n",
        "print(list1 == list2)\n",
        "print(not (list1 is list2))"
      ]
    },
    {
      "cell_type": "markdown",
      "metadata": {},
      "source": [
        "Desigualdades"
      ]
    },
    {
      "cell_type": "code",
      "execution_count": 92,
      "metadata": {},
      "outputs": [
        {
          "name": "stdout",
          "output_type": "stream",
          "text": [
            "True\n",
            "False\n",
            "False\n",
            "True\n",
            "False\n",
            "True\n",
            "True\n",
            "True\n"
          ]
        }
      ],
      "source": [
        "print(5 < 10)\n",
        "print(5 > 10)\n",
        "print(5 < 5)\n",
        "print(5 <= 10)\n",
        "print(5 >= 10)\n",
        "print(5 <= 5)\n",
        "print(5 < 10 <= 10)\n",
        "print(5 < 10 > 7)\n"
      ]
    },
    {
      "cell_type": "code",
      "execution_count": 93,
      "metadata": {},
      "outputs": [
        {
          "name": "stdout",
          "output_type": "stream",
          "text": [
            "True\n",
            "True\n"
          ]
        }
      ],
      "source": [
        "print(5 < 10 <= 10 and True == 1)\n",
        "print(5 < 10 > 7 or (90-15) < (110-30))\n"
      ]
    },
    {
      "cell_type": "markdown",
      "metadata": {},
      "source": [
        "Casos curiosos"
      ]
    },
    {
      "cell_type": "code",
      "execution_count": 94,
      "metadata": {},
      "outputs": [
        {
          "name": "stdout",
          "output_type": "stream",
          "text": [
            "2\n",
            "8\n",
            "-5\n"
          ]
        }
      ],
      "source": [
        "print(True + True)\n",
        "print(True * 8)\n",
        "print(False - 5)"
      ]
    },
    {
      "cell_type": "code",
      "execution_count": 95,
      "metadata": {},
      "outputs": [
        {
          "name": "stdout",
          "output_type": "stream",
          "text": [
            "0\n",
            "-5\n"
          ]
        }
      ],
      "source": [
        "print(0 and 2)\n",
        "print(-5 or 0)"
      ]
    },
    {
      "cell_type": "markdown",
      "metadata": {},
      "source": [
        "Interpretación de otros tipos de datos como booleanos"
      ]
    },
    {
      "cell_type": "code",
      "execution_count": 101,
      "metadata": {},
      "outputs": [
        {
          "name": "stdout",
          "output_type": "stream",
          "text": [
            "False\n",
            "False\n",
            "False\n",
            "False\n",
            "False\n",
            "False\n",
            "False\n",
            "False\n",
            "False\n"
          ]
        }
      ],
      "source": [
        "print(bool(\"\"))\n",
        "print(bool(0))\n",
        "print(bool(False))\n",
        "print(bool(None))\n",
        "print(bool(0.0))\n",
        "print(bool(\"\"))\n",
        "print(bool(()))\n",
        "print(bool([]))\n",
        "print(bool({}))"
      ]
    },
    {
      "cell_type": "code",
      "execution_count": 102,
      "metadata": {},
      "outputs": [
        {
          "name": "stdout",
          "output_type": "stream",
          "text": [
            "True\n",
            "True\n",
            "True\n",
            "False\n",
            "True\n",
            "True\n",
            "True\n",
            "True\n"
          ]
        }
      ],
      "source": [
        "print(bool(\"hola\"))\n",
        "print(bool(10))\n",
        "print(bool(True))\n",
        "print(bool(None))\n",
        "print(bool(2.1))\n",
        "print(bool((None, 9)))\n",
        "print(bool(['piña', 'pera']))\n",
        "print(bool({'clave':'valor'}))"
      ]
    },
    {
      "cell_type": "markdown",
      "metadata": {},
      "source": [
        "Booleanos en funciones"
      ]
    },
    {
      "cell_type": "code",
      "execution_count": 103,
      "metadata": {},
      "outputs": [
        {
          "name": "stdout",
          "output_type": "stream",
          "text": [
            "hay algo\n"
          ]
        }
      ],
      "source": [
        "def miFuncion():\n",
        "    return True\n",
        "\n",
        "if miFuncion():\n",
        "    print('hay algo')\n",
        "else:\n",
        "    print('hay nada')"
      ]
    },
    {
      "cell_type": "markdown",
      "metadata": {},
      "source": [
        "Booleanos en clases"
      ]
    },
    {
      "cell_type": "code",
      "execution_count": 116,
      "metadata": {},
      "outputs": [],
      "source": [
        "class MiClase():\n",
        "    def miFuncion(self):\n",
        "        return 0\n",
        "\n",
        "juan = MiClase()\n"
      ]
    },
    {
      "cell_type": "markdown",
      "metadata": {},
      "source": [
        "# Operadores"
      ]
    },
    {
      "cell_type": "markdown",
      "metadata": {},
      "source": [
        "Operadores aritméticos"
      ]
    },
    {
      "cell_type": "code",
      "execution_count": 2,
      "metadata": {},
      "outputs": [],
      "source": [
        "x = 3\n",
        "y = 4"
      ]
    },
    {
      "cell_type": "code",
      "execution_count": 7,
      "metadata": {},
      "outputs": [
        {
          "name": "stdout",
          "output_type": "stream",
          "text": [
            "7\n",
            "-1\n",
            "12\n",
            "0.75\n"
          ]
        }
      ],
      "source": [
        "print(x + y) # suma\n",
        "print(x - y) # resta\n",
        "print(x * y) # multiplicación\n",
        "print(x / y) # divición"
      ]
    },
    {
      "cell_type": "code",
      "execution_count": 13,
      "metadata": {},
      "outputs": [
        {
          "name": "stdout",
          "output_type": "stream",
          "text": [
            "81\n",
            "0\n"
          ]
        }
      ],
      "source": [
        "print(x ** y) # exponenciación\n",
        "print(x // 4) # divición entera"
      ]
    },
    {
      "cell_type": "code",
      "execution_count": 22,
      "metadata": {},
      "outputs": [
        {
          "name": "stdout",
          "output_type": "stream",
          "text": [
            "1\n"
          ]
        }
      ],
      "source": [
        "print(4 % 3) # módulo"
      ]
    },
    {
      "cell_type": "code",
      "execution_count": 23,
      "metadata": {},
      "outputs": [],
      "source": [
        "txt = 'mi texto'"
      ]
    },
    {
      "cell_type": "code",
      "execution_count": 31,
      "metadata": {},
      "outputs": [
        {
          "name": "stdout",
          "output_type": "stream",
          "text": [
            "mi textomi textomi textomi textomi textomi texto\n"
          ]
        }
      ],
      "source": [
        "print(txt*6)"
      ]
    },
    {
      "cell_type": "markdown",
      "metadata": {},
      "source": [
        "Asignación compuesta"
      ]
    },
    {
      "cell_type": "code",
      "execution_count": 52,
      "metadata": {},
      "outputs": [],
      "source": [
        "x = 10"
      ]
    },
    {
      "cell_type": "code",
      "execution_count": 61,
      "metadata": {},
      "outputs": [],
      "source": [
        "x += 10  # x = x + 10"
      ]
    },
    {
      "cell_type": "code",
      "execution_count": 47,
      "metadata": {},
      "outputs": [],
      "source": [
        "x -= 6"
      ]
    },
    {
      "cell_type": "code",
      "execution_count": 48,
      "metadata": {},
      "outputs": [],
      "source": [
        "x *= 6"
      ]
    },
    {
      "cell_type": "code",
      "execution_count": 49,
      "metadata": {},
      "outputs": [],
      "source": [
        "x /= 6"
      ]
    },
    {
      "cell_type": "code",
      "execution_count": 51,
      "metadata": {},
      "outputs": [],
      "source": [
        "x %= 3"
      ]
    },
    {
      "cell_type": "code",
      "execution_count": 63,
      "metadata": {},
      "outputs": [],
      "source": [
        "x //= 6"
      ]
    },
    {
      "cell_type": "code",
      "execution_count": 64,
      "metadata": {},
      "outputs": [],
      "source": [
        "v = True\n",
        "f = False"
      ]
    },
    {
      "cell_type": "code",
      "execution_count": 77,
      "metadata": {},
      "outputs": [
        {
          "name": "stdout",
          "output_type": "stream",
          "text": [
            "True\n",
            "False\n",
            "True\n",
            "False\n"
          ]
        }
      ],
      "source": [
        "print(v or f)\n",
        "print(v and f)\n",
        "\n",
        "print(v | f)\n",
        "print(f & f)"
      ]
    },
    {
      "cell_type": "code",
      "execution_count": 74,
      "metadata": {},
      "outputs": [],
      "source": [
        "v |= True"
      ]
    },
    {
      "cell_type": "code",
      "execution_count": 81,
      "metadata": {},
      "outputs": [],
      "source": [
        "f = f or v"
      ]
    },
    {
      "cell_type": "code",
      "execution_count": 82,
      "metadata": {},
      "outputs": [],
      "source": [
        "f &= False"
      ]
    },
    {
      "cell_type": "markdown",
      "metadata": {},
      "source": [
        "Operadores de comapración"
      ]
    },
    {
      "cell_type": "code",
      "execution_count": 83,
      "metadata": {},
      "outputs": [],
      "source": [
        "x = 90\n",
        "y = 98"
      ]
    },
    {
      "cell_type": "code",
      "execution_count": 84,
      "metadata": {},
      "outputs": [
        {
          "name": "stdout",
          "output_type": "stream",
          "text": [
            "False\n",
            "True\n"
          ]
        }
      ],
      "source": [
        "print(x == y) # Igualación\n",
        "print(x != y) # Diferencia"
      ]
    },
    {
      "cell_type": "code",
      "execution_count": 85,
      "metadata": {},
      "outputs": [
        {
          "name": "stdout",
          "output_type": "stream",
          "text": [
            "True\n",
            "False\n",
            "True\n",
            "False\n"
          ]
        }
      ],
      "source": [
        "print(x < y)\n",
        "print(x > y)\n",
        "print(x <= y)\n",
        "print(x >= y)"
      ]
    },
    {
      "cell_type": "code",
      "execution_count": 92,
      "metadata": {},
      "outputs": [],
      "source": [
        "x = [10]\n",
        "y = [10]\n"
      ]
    },
    {
      "cell_type": "code",
      "execution_count": 93,
      "metadata": {},
      "outputs": [
        {
          "name": "stdout",
          "output_type": "stream",
          "text": [
            "False\n"
          ]
        }
      ],
      "source": [
        "print(x is y)"
      ]
    },
    {
      "cell_type": "code",
      "execution_count": 94,
      "metadata": {},
      "outputs": [],
      "source": [
        "y = x"
      ]
    },
    {
      "cell_type": "markdown",
      "metadata": {},
      "source": [
        "Operador de identidad"
      ]
    },
    {
      "cell_type": "code",
      "execution_count": 97,
      "metadata": {},
      "outputs": [
        {
          "name": "stdout",
          "output_type": "stream",
          "text": [
            "True\n",
            "False\n"
          ]
        }
      ],
      "source": [
        "print(x is y)\n",
        "print(x is not y)"
      ]
    },
    {
      "cell_type": "markdown",
      "metadata": {},
      "source": [
        "Combinaciones "
      ]
    },
    {
      "cell_type": "code",
      "execution_count": 96,
      "metadata": {},
      "outputs": [
        {
          "name": "stdout",
          "output_type": "stream",
          "text": [
            "False\n"
          ]
        }
      ],
      "source": [
        "print(10 < 9 and (90 + 15) > (1900-1800))"
      ]
    },
    {
      "cell_type": "markdown",
      "metadata": {},
      "source": [
        "Operador menbrecia"
      ]
    },
    {
      "cell_type": "code",
      "execution_count": 101,
      "metadata": {},
      "outputs": [
        {
          "name": "stdout",
          "output_type": "stream",
          "text": [
            "True\n",
            "False\n"
          ]
        }
      ],
      "source": [
        "txt2 = ' t'\n",
        "\n",
        "print(txt2 in txt)\n",
        "print(txt2 not in txt)"
      ]
    },
    {
      "cell_type": "markdown",
      "metadata": {},
      "source": [
        "# Condicionales\n",
        "\n",
        "- if\n",
        "- while else\n",
        "- for else"
      ]
    },
    {
      "cell_type": "markdown",
      "metadata": {},
      "source": [
        "if"
      ]
    },
    {
      "cell_type": "code",
      "execution_count": 105,
      "metadata": {},
      "outputs": [],
      "source": [
        "a = 90\n",
        "b = 800\n",
        "txt = 'Hola mundo'"
      ]
    },
    {
      "cell_type": "code",
      "execution_count": 106,
      "metadata": {},
      "outputs": [],
      "source": [
        "if a > b:\n",
        "    print(txt)"
      ]
    },
    {
      "cell_type": "markdown",
      "metadata": {},
      "source": [
        "elif"
      ]
    },
    {
      "cell_type": "code",
      "execution_count": 110,
      "metadata": {},
      "outputs": [],
      "source": [
        "c = 700"
      ]
    },
    {
      "cell_type": "code",
      "execution_count": 108,
      "metadata": {},
      "outputs": [
        {
          "name": "stdout",
          "output_type": "stream",
          "text": [
            "otra cosa\n"
          ]
        }
      ],
      "source": [
        "if a > b:\n",
        "    print(txt)\n",
        "elif a > c:\n",
        "    print('otra cosa')"
      ]
    },
    {
      "cell_type": "code",
      "execution_count": 111,
      "metadata": {},
      "outputs": [
        {
          "name": "stdout",
          "output_type": "stream",
          "text": [
            "lo último\n"
          ]
        }
      ],
      "source": [
        "if a > b:\n",
        "    print(txt)\n",
        "elif a > c:\n",
        "    print('otra cosa')\n",
        "else:\n",
        "    print('lo último')"
      ]
    },
    {
      "cell_type": "markdown",
      "metadata": {},
      "source": [
        "If en una linea"
      ]
    },
    {
      "cell_type": "code",
      "execution_count": 115,
      "metadata": {},
      "outputs": [
        {
          "name": "stdout",
          "output_type": "stream",
          "text": [
            "a es mayor que b\n"
          ]
        }
      ],
      "source": [
        "a = 30\n",
        "b = 30\n",
        "\n",
        "print('a es menor que b') if a < b else print('a es mayor que b')"
      ]
    },
    {
      "cell_type": "markdown",
      "metadata": {},
      "source": [
        "If anidado"
      ]
    },
    {
      "cell_type": "code",
      "execution_count": 116,
      "metadata": {},
      "outputs": [],
      "source": [
        "if b < a:\n",
        "    if b == 20:\n",
        "        print('b es 20')"
      ]
    },
    {
      "cell_type": "markdown",
      "metadata": {},
      "source": [
        "while"
      ]
    },
    {
      "cell_type": "code",
      "execution_count": 121,
      "metadata": {},
      "outputs": [
        {
          "name": "stdout",
          "output_type": "stream",
          "text": [
            "0\n",
            "0.5\n",
            "1.0\n",
            "1.5\n",
            "2.0\n",
            "2.5\n",
            "3.0\n",
            "3.5\n",
            "4.0\n",
            "4.5\n",
            "5.0\n",
            "5.5\n",
            "6.0\n",
            "6.5\n",
            "7.0\n",
            "7.5\n",
            "8.0\n",
            "8.5\n",
            "9.0\n",
            "9.5\n"
          ]
        }
      ],
      "source": [
        "i = 0\n",
        "\n",
        "while i < 10:\n",
        "    print(i)\n",
        "    i += 0.5\n"
      ]
    },
    {
      "cell_type": "markdown",
      "metadata": {},
      "source": [
        "sentencia break\n"
      ]
    },
    {
      "cell_type": "code",
      "execution_count": 128,
      "metadata": {},
      "outputs": [
        {
          "name": "stdout",
          "output_type": "stream",
          "text": [
            "0\n",
            "1\n",
            "2\n",
            "3\n",
            "4\n"
          ]
        }
      ],
      "source": [
        "i = 0\n",
        "\n",
        "while i < 10:\n",
        "    if i == 5:\n",
        "        break\n",
        "    print(i)\n",
        "    i+=1"
      ]
    },
    {
      "cell_type": "markdown",
      "metadata": {},
      "source": [
        "while else"
      ]
    },
    {
      "cell_type": "code",
      "execution_count": 131,
      "metadata": {},
      "outputs": [
        {
          "name": "stdout",
          "output_type": "stream",
          "text": [
            "0\n",
            "1\n",
            "2\n",
            "3\n",
            "4\n",
            "5\n",
            "6\n",
            "7\n",
            "8\n",
            "9\n",
            "i es mayor que 10\n"
          ]
        }
      ],
      "source": [
        "i = 0\n",
        "\n",
        "while i < 10:\n",
        "    print(i)\n",
        "    i+=1\n",
        "else:\n",
        "    print('i es mayor que 10')"
      ]
    },
    {
      "cell_type": "code",
      "execution_count": null,
      "metadata": {},
      "outputs": [],
      "source": []
    }
  ],
  "metadata": {
    "colab": {
      "provenance": []
    },
    "kernelspec": {
      "display_name": "Python 3.9.13 ('env': venv)",
      "language": "python",
      "name": "python3"
    },
    "language_info": {
      "codemirror_mode": {
        "name": "ipython",
        "version": 3
      },
      "file_extension": ".py",
      "mimetype": "text/x-python",
      "name": "python",
      "nbconvert_exporter": "python",
      "pygments_lexer": "ipython3",
      "version": "3.9.13"
    },
    "vscode": {
      "interpreter": {
        "hash": "218c7610625cd4e71bd2304dedcb56b7e682d16e8d2ad3679ef7c5dd4d544b94"
      }
    }
  },
  "nbformat": 4,
  "nbformat_minor": 0
}
